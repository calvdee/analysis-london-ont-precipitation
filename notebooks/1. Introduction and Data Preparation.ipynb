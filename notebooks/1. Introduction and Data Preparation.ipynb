{
 "cells": [
  {
   "cell_type": "markdown",
   "metadata": {
    "hide_input": false,
    "hide_output": false,
    "run_control": {
     "marked": false
    }
   },
   "source": [
    "# The LondON Precipitation Project\n",
    "<hr />\n",
    "<img src =\"../images/cumulonimbus.jpg\" style=\"height: 400px;\" />\n",
    "\n",
    "\n",
    "## 1.1 Project Goals\n",
    "The primary goal of this analysis is to answer the investigate question of whether or not London Ontario has experienced **unusual precipitation in 2017 than in previous years** and if so, by how much.  It's obvious that London, ON has had some sort of bizarre precipitation year, weather it be multiple days of high precipitation or higher total precipitation, average precipitation, or all three.  But there seems to not exist sources that:\n",
    "\n",
    "    1. Quantitatively describe the magnitude of the change\n",
    "    2. Identify more subtle variations such as changing states of discrete events counts over time\n",
    "\n",
    "\n",
    "Log-transformed data will be sufficient for [T-tests](https://en.wikipedia.org/wiki/Student%27s_t-test) and [ANOVA](#http://vassarstats.net/textbook/ch13pt1.html) (statistical methods to identify _statistically significant changes_ in year-over-year precipitation levels) \n",
    "\n",
    "to determine if we've received _significantly_ more rain, this analyis is limited to visualizations and summary statistics.  These methods will be sufficient in answering our primary research question of weather or not it has rained more this year than in previous years and by how much.\n",
    "\n",
    "The secondary goal is to create a generative model that attempts to model the [stochastic process](https://en.wikipedia.org/wiki/Stochastic_process) of high-precipitation or rainy days.  A probabilistic model can be used to estimate the probability, with a quantifiable measurable of uncertainty, of observing one, two, three, up to seven rainy days in a seven day period (one week).  In capturing how this weekly frequency changes over time, we can answer questions like \"Is it raining more frequently on a weekly basis?\" or \"What is the probability that it will rain 5/7 days next week?\""
   ]
  },
  {
   "cell_type": "markdown",
   "metadata": {
    "hide_input": false,
    "hide_output": false,
    "run_control": {
     "marked": false
    }
   },
   "source": [
    "## 1.2 Data\n",
    "### Description\n",
    "Climate Canada provides access to historical weather data through its historical climate data [web app](http://climate.weather.gc.ca/historical_data/search_historic_data_e.html).  The data is produced by sensors at various [weather stations](https://en.wikipedia.org/wiki/Weather_station) at geographically dispersed locations accross Canada.\n",
    "\n",
    "> A **weather station** is a facility, either on land or sea, with instruments and equipment for measuring atmospheric conditions to provide information for weather forecasts and to study the weather and climate.\n",
    "\n",
    "Data is available at monthly, daily, and hourly intervals on a per-weather station basis with data missing for some combinations of interval, station, and timeframe.  E.g. monthly data for London weather stations, data aggregated up to the monthly level, is generally not available but daily data is.  The availability for a particular time interval (e.g. for the month of December) varies accross stations; some stations are missing entire months of data.  This will not pose a significant problem as we are not interested in station-level measurements but rather overall weather trends in London.  Data accross stations is aggregated so that the daily measurements from each station are averaged to produce a single measurement value (see [1.5](#1.5-Daily-Observation-Data)).  When data is missing from one station, it is generally available from another.\n",
    "\n",
    "The different time intervals (monthly, daily, hourly) provide different measurements.  Daily weather data (availalable through the Climate Canada website by year/month) contains both precipitation and weather data and is the most suitable level of granularity for this analysis so it's the level of granularity that will be used for this analysis.  The variables are described below and are explained below[[1](http://climate.weather.gc.ca/glossary_e.html)].\n",
    "\n",
    "\n",
    "  Measurement        | Description\n",
    "---------------------| -------------\n",
    "maxTemp\t\t         | [Description]\t\t\t\t\t\n",
    "minTemp\t\t         | [Description]\t\t\t\t\t\n",
    "meanTemp\t         | [Description]\t\t\t\t\t\t\n",
    "heatDegDays\t\t\t | [Description]\t\t\t\t\t\t\t\n",
    "coolDegDays\t\t\t | [Description]\t\t\t\t\t\t\t\n",
    "totalRainMM\t\t\t | [Description]\t\t\t\t\t\t\t\n",
    "totalSnowCM\t\t\t | [Description]\t\t\t\t\t\t\t\n",
    "totalPrecipMM\t\t | [Description]\t\t\t\t\t\t\t\t\n",
    "snowOnGroundCM\t\t | [Description]\t\t\t\t\t\t\t\t\t\n",
    "dirOfMaxGust10sDEG\t | [Description]\t\t\t\t\t\t\t\t\t\t\t\n",
    "spdOfMaxGustKMH\t\t | [Description]\t\t\t\t\t\t\t\t\t\n",
    "\n",
    "\n",
    "### Retrieving Weather Data\n",
    "Historical weather data produced by weather stations can be obtained through Climate Canada's search system that accepts queries for station names, province, or proximity as shown below.\n",
    "\n",
    "<img src =\"../images/station_search.png\" style=\"height: 400px;\" />\n",
    "\n",
    "After selecting a station, data can be requested at hourly, daily, or monthly intervals.\n",
    "\n",
    "<img src =\"../images/station_result.png\" style=\"height: 400px;\" />\n",
    "\n",
    "This analysis will focus on data from weather stations deployed in London Ontario, Canada so the search term used to find relevant stations and the associated data included only the keyword \"London\".  \n",
    "\n",
    "After using the Climate Canada web app to identify stations in London Ontario, only those with monthly data (data for every day of the month) available for at least five years were considered for the analysis.  The London CS, London Airport, and London A stations met this critera and monthly data for the stations were retrieved from Climate Canada's web application using a Python program built using the web scraping framework [Scrapy](#).  The program automates the data retrieval process by generating search requests for station data for these stations for every month from January 1, 2012 to July 13, 2017 and uses [XPath](https://msdn.microsoft.com/en-us/library/ms256086(v=vs.110).aspx) to extract data from the HTML table show below.  \n",
    "\n",
    "<img src =\"../images/station_report.png\" style=\"height: 400px;\" />\n",
    "\n",
    "All of the data is appended to a CSV file where each row represents a day of observed data from each one of the stations.  Code for the web scraper can be found [here](#).  For the ambitious reader, the data can be populated with data upto today's date by running the folllowing at the command line:\n",
    "\n",
    "```\n",
    "cd ../webcrawler\n",
    "scrapy crawl daily_spider\n",
    "```"
   ]
  },
  {
   "cell_type": "code",
   "execution_count": 32,
   "metadata": {
    "collapsed": false,
    "hide_input": false,
    "hide_output": false,
    "locked": false,
    "run_control": {
     "marked": true
    }
   },
   "outputs": [],
   "source": [
    "import pandas as pd\n",
    "import missingno as msno\n",
    "import seaborn as sns\n",
    "import matplotlib.pyplot as plt\n",
    "import numpy as np\n",
    "%matplotlib inline"
   ]
  },
  {
   "cell_type": "code",
   "execution_count": 33,
   "metadata": {
    "collapsed": false,
    "deletable": true,
    "hide_input": false,
    "hide_output": false,
    "locked": false,
    "run_control": {
     "marked": false
    }
   },
   "outputs": [],
   "source": [
    "# Load daily weather data produced by web scraper\n",
    "dwd = pd.read_csv(\"../data/scrapy_2017-07-22.csv\")"
   ]
  },
  {
   "cell_type": "code",
   "execution_count": 34,
   "metadata": {
    "collapsed": false,
    "deletable": true,
    "hide_input": false,
    "hide_output": false,
    "locked": false,
    "run_control": {
     "marked": false
    }
   },
   "outputs": [
    {
     "data": {
      "text/html": [
       "<div>\n",
       "<style>\n",
       "    .dataframe thead tr:only-child th {\n",
       "        text-align: right;\n",
       "    }\n",
       "\n",
       "    .dataframe thead th {\n",
       "        text-align: left;\n",
       "    }\n",
       "\n",
       "    .dataframe tbody tr th {\n",
       "        vertical-align: top;\n",
       "    }\n",
       "</style>\n",
       "<table border=\"1\" class=\"dataframe\">\n",
       "  <thead>\n",
       "    <tr style=\"text-align: right;\">\n",
       "      <th></th>\n",
       "    </tr>\n",
       "  </thead>\n",
       "  <tbody>\n",
       "    <tr>\n",
       "      <th>station</th>\n",
       "    </tr>\n",
       "    <tr>\n",
       "      <th>date</th>\n",
       "    </tr>\n",
       "    <tr>\n",
       "      <th>maxTemp</th>\n",
       "    </tr>\n",
       "    <tr>\n",
       "      <th>minTemp</th>\n",
       "    </tr>\n",
       "    <tr>\n",
       "      <th>meanTemp</th>\n",
       "    </tr>\n",
       "    <tr>\n",
       "      <th>heatDegDays</th>\n",
       "    </tr>\n",
       "    <tr>\n",
       "      <th>coolDegDays</th>\n",
       "    </tr>\n",
       "    <tr>\n",
       "      <th>totalRainMM</th>\n",
       "    </tr>\n",
       "    <tr>\n",
       "      <th>totalSnowCM</th>\n",
       "    </tr>\n",
       "    <tr>\n",
       "      <th>totalPrecipMM</th>\n",
       "    </tr>\n",
       "    <tr>\n",
       "      <th>snowOnGroundCM</th>\n",
       "    </tr>\n",
       "    <tr>\n",
       "      <th>dirOfMaxGust10sDEG</th>\n",
       "    </tr>\n",
       "    <tr>\n",
       "      <th>spdOfMaxGustKMH</th>\n",
       "    </tr>\n",
       "  </tbody>\n",
       "</table>\n",
       "</div>"
      ],
      "text/plain": [
       "Empty DataFrame\n",
       "Columns: []\n",
       "Index: [station, date, maxTemp, minTemp, meanTemp, heatDegDays, coolDegDays, totalRainMM, totalSnowCM, totalPrecipMM, snowOnGroundCM, dirOfMaxGust10sDEG, spdOfMaxGustKMH]"
      ]
     },
     "execution_count": 34,
     "metadata": {},
     "output_type": "execute_result"
    }
   ],
   "source": [
    "pd.DataFrame(index=dwd.describe().transpose().index)"
   ]
  },
  {
   "cell_type": "markdown",
   "metadata": {
    "hide_input": false,
    "hide_output": false,
    "run_control": {
     "marked": false
    }
   },
   "source": [
    "Look at the first few observations"
   ]
  },
  {
   "cell_type": "code",
   "execution_count": 35,
   "metadata": {
    "collapsed": false,
    "deletable": true,
    "hide_input": false,
    "hide_output": false,
    "locked": false,
    "run_control": {
     "marked": false
    }
   },
   "outputs": [
    {
     "data": {
      "text/html": [
       "<div>\n",
       "<style>\n",
       "    .dataframe thead tr:only-child th {\n",
       "        text-align: right;\n",
       "    }\n",
       "\n",
       "    .dataframe thead th {\n",
       "        text-align: left;\n",
       "    }\n",
       "\n",
       "    .dataframe tbody tr th {\n",
       "        vertical-align: top;\n",
       "    }\n",
       "</style>\n",
       "<table border=\"1\" class=\"dataframe\">\n",
       "  <thead>\n",
       "    <tr style=\"text-align: right;\">\n",
       "      <th></th>\n",
       "      <th>station</th>\n",
       "      <th>date</th>\n",
       "      <th>maxTemp</th>\n",
       "      <th>minTemp</th>\n",
       "      <th>meanTemp</th>\n",
       "      <th>heatDegDays</th>\n",
       "      <th>coolDegDays</th>\n",
       "      <th>totalRainMM</th>\n",
       "      <th>totalSnowCM</th>\n",
       "      <th>totalPrecipMM</th>\n",
       "      <th>snowOnGroundCM</th>\n",
       "      <th>dirOfMaxGust10sDEG</th>\n",
       "      <th>spdOfMaxGustKMH</th>\n",
       "    </tr>\n",
       "  </thead>\n",
       "  <tbody>\n",
       "    <tr>\n",
       "      <th>0</th>\n",
       "      <td>London A</td>\n",
       "      <td>2010-03-01</td>\n",
       "      <td></td>\n",
       "      <td></td>\n",
       "      <td></td>\n",
       "      <td></td>\n",
       "      <td></td>\n",
       "      <td></td>\n",
       "      <td></td>\n",
       "      <td></td>\n",
       "      <td></td>\n",
       "      <td></td>\n",
       "      <td></td>\n",
       "    </tr>\n",
       "    <tr>\n",
       "      <th>1</th>\n",
       "      <td>London A</td>\n",
       "      <td>2010-03-02</td>\n",
       "      <td></td>\n",
       "      <td></td>\n",
       "      <td></td>\n",
       "      <td></td>\n",
       "      <td></td>\n",
       "      <td></td>\n",
       "      <td></td>\n",
       "      <td></td>\n",
       "      <td></td>\n",
       "      <td></td>\n",
       "      <td></td>\n",
       "    </tr>\n",
       "    <tr>\n",
       "      <th>2</th>\n",
       "      <td>London A</td>\n",
       "      <td>2010-03-03</td>\n",
       "      <td></td>\n",
       "      <td></td>\n",
       "      <td></td>\n",
       "      <td></td>\n",
       "      <td></td>\n",
       "      <td></td>\n",
       "      <td></td>\n",
       "      <td></td>\n",
       "      <td></td>\n",
       "      <td></td>\n",
       "      <td></td>\n",
       "    </tr>\n",
       "    <tr>\n",
       "      <th>3</th>\n",
       "      <td>London A</td>\n",
       "      <td>2010-03-04</td>\n",
       "      <td></td>\n",
       "      <td></td>\n",
       "      <td></td>\n",
       "      <td></td>\n",
       "      <td></td>\n",
       "      <td></td>\n",
       "      <td></td>\n",
       "      <td></td>\n",
       "      <td></td>\n",
       "      <td></td>\n",
       "      <td></td>\n",
       "    </tr>\n",
       "    <tr>\n",
       "      <th>4</th>\n",
       "      <td>London A</td>\n",
       "      <td>2010-03-05</td>\n",
       "      <td></td>\n",
       "      <td></td>\n",
       "      <td></td>\n",
       "      <td></td>\n",
       "      <td></td>\n",
       "      <td></td>\n",
       "      <td></td>\n",
       "      <td></td>\n",
       "      <td></td>\n",
       "      <td></td>\n",
       "      <td></td>\n",
       "    </tr>\n",
       "  </tbody>\n",
       "</table>\n",
       "</div>"
      ],
      "text/plain": [
       "    station        date maxTemp minTemp meanTemp heatDegDays coolDegDays  \\\n",
       "0  London A  2010-03-01                                                    \n",
       "1  London A  2010-03-02                                                    \n",
       "2  London A  2010-03-03                                                    \n",
       "3  London A  2010-03-04                                                    \n",
       "4  London A  2010-03-05                                                    \n",
       "\n",
       "  totalRainMM totalSnowCM totalPrecipMM snowOnGroundCM dirOfMaxGust10sDEG  \\\n",
       "0                                                                           \n",
       "1                                                                           \n",
       "2                                                                           \n",
       "3                                                                           \n",
       "4                                                                           \n",
       "\n",
       "  spdOfMaxGustKMH  \n",
       "0                  \n",
       "1                  \n",
       "2                  \n",
       "3                  \n",
       "4                  "
      ]
     },
     "execution_count": 35,
     "metadata": {},
     "output_type": "execute_result"
    }
   ],
   "source": [
    "dwd.head()"
   ]
  },
  {
   "cell_type": "markdown",
   "metadata": {
    "hide_input": false,
    "hide_output": false,
    "run_control": {
     "marked": false
    }
   },
   "source": [
    "It's obvious that there's some missing data.  As observed while exploring data through the website, some measurements include an empty value while others include the value 'M'."
   ]
  },
  {
   "cell_type": "code",
   "execution_count": 36,
   "metadata": {
    "collapsed": false,
    "deletable": true,
    "hide_input": false,
    "hide_output": false,
    "locked": false,
    "run_control": {
     "marked": false
    }
   },
   "outputs": [
    {
     "data": {
      "text/plain": [
       "(6179, 13)"
      ]
     },
     "execution_count": 36,
     "metadata": {},
     "output_type": "execute_result"
    }
   ],
   "source": [
    "dwd.shape"
   ]
  },
  {
   "cell_type": "markdown",
   "metadata": {
    "hide_input": false,
    "hide_output": false,
    "run_control": {
     "marked": false
    }
   },
   "source": [
    "6133 observatiions, 13 variables"
   ]
  },
  {
   "cell_type": "code",
   "execution_count": 37,
   "metadata": {
    "collapsed": false,
    "deletable": true,
    "hide_input": false,
    "hide_output": false,
    "locked": false,
    "run_control": {
     "marked": false
    }
   },
   "outputs": [
    {
     "name": "stdout",
     "output_type": "stream",
     "text": [
      "<class 'pandas.core.frame.DataFrame'>\n",
      "RangeIndex: 6179 entries, 0 to 6178\n",
      "Data columns (total 13 columns):\n",
      "station               6179 non-null object\n",
      "date                  6179 non-null object\n",
      "maxTemp               6153 non-null object\n",
      "minTemp               6162 non-null object\n",
      "meanTemp              6142 non-null object\n",
      "heatDegDays           6142 non-null object\n",
      "coolDegDays           6142 non-null object\n",
      "totalRainMM           1458 non-null object\n",
      "totalSnowCM           1296 non-null object\n",
      "totalPrecipMM         4004 non-null object\n",
      "snowOnGroundCM        6016 non-null object\n",
      "dirOfMaxGust10sDEG    3427 non-null object\n",
      "spdOfMaxGustKMH       3427 non-null object\n",
      "dtypes: object(13)\n",
      "memory usage: 627.6+ KB\n"
     ]
    }
   ],
   "source": [
    "dwd.info()"
   ]
  },
  {
   "cell_type": "code",
   "execution_count": 56,
   "metadata": {
    "collapsed": false
   },
   "outputs": [
    {
     "name": "stdout",
     "output_type": "stream",
     "text": [
      "2010-01-01 to 2017-07-21\n"
     ]
    }
   ],
   "source": [
    "print(\"{} to {}\".format(dwd.date.min(), dwd.date.max()))"
   ]
  },
  {
   "cell_type": "markdown",
   "metadata": {
    "hide_input": false,
    "hide_output": false,
    "run_control": {
     "marked": false
    }
   },
   "source": [
    "## 1.3 Data Prep"
   ]
  },
  {
   "cell_type": "markdown",
   "metadata": {
    "hide_input": false,
    "hide_output": false,
    "run_control": {
     "marked": false
    }
   },
   "source": [
    "Transform the columns to the appropriate data types"
   ]
  },
  {
   "cell_type": "code",
   "execution_count": 38,
   "metadata": {
    "collapsed": true,
    "deletable": true,
    "hide_input": false,
    "hide_output": false,
    "locked": false,
    "run_control": {
     "marked": false
    }
   },
   "outputs": [],
   "source": [
    "# Discrete columns\n",
    "disc = ['station', 'date']"
   ]
  },
  {
   "cell_type": "code",
   "execution_count": 39,
   "metadata": {
    "collapsed": false,
    "deletable": true,
    "hide_input": false,
    "hide_output": false,
    "locked": false,
    "run_control": {
     "marked": false
    }
   },
   "outputs": [],
   "source": [
    "# Continuous data with empty values replaced with None\n",
    "data_cont = pd.DataFrame.replace(\n",
    "  pd.DataFrame(dwd[dwd.columns.drop(disc)]),\n",
    "  [\"\\xa0\", \"<31\"],\n",
    "  [\"NaN\", 31]).astype(float)\n",
    "data_disc = dwd[disc]"
   ]
  },
  {
   "cell_type": "markdown",
   "metadata": {
    "hide_input": false,
    "hide_output": false,
    "run_control": {
     "marked": false
    }
   },
   "source": [
    "Discrete"
   ]
  },
  {
   "cell_type": "code",
   "execution_count": 40,
   "metadata": {
    "collapsed": false,
    "deletable": true,
    "hide_input": false,
    "hide_output": false,
    "locked": false,
    "run_control": {
     "marked": false
    }
   },
   "outputs": [
    {
     "data": {
      "text/html": [
       "<div>\n",
       "<style>\n",
       "    .dataframe thead tr:only-child th {\n",
       "        text-align: right;\n",
       "    }\n",
       "\n",
       "    .dataframe thead th {\n",
       "        text-align: left;\n",
       "    }\n",
       "\n",
       "    .dataframe tbody tr th {\n",
       "        vertical-align: top;\n",
       "    }\n",
       "</style>\n",
       "<table border=\"1\" class=\"dataframe\">\n",
       "  <thead>\n",
       "    <tr style=\"text-align: right;\">\n",
       "      <th></th>\n",
       "    </tr>\n",
       "  </thead>\n",
       "  <tbody>\n",
       "    <tr>\n",
       "      <th>station</th>\n",
       "    </tr>\n",
       "    <tr>\n",
       "      <th>date</th>\n",
       "    </tr>\n",
       "  </tbody>\n",
       "</table>\n",
       "</div>"
      ],
      "text/plain": [
       "Empty DataFrame\n",
       "Columns: []\n",
       "Index: [station, date]"
      ]
     },
     "execution_count": 40,
     "metadata": {},
     "output_type": "execute_result"
    }
   ],
   "source": [
    "pd.DataFrame(index=disc)"
   ]
  },
  {
   "cell_type": "markdown",
   "metadata": {
    "hide_input": false,
    "hide_output": false,
    "run_control": {
     "marked": false
    }
   },
   "source": [
    "Continuous"
   ]
  },
  {
   "cell_type": "code",
   "execution_count": 41,
   "metadata": {
    "collapsed": false,
    "deletable": true,
    "hide_input": false,
    "hide_output": false,
    "locked": false,
    "run_control": {
     "marked": false
    }
   },
   "outputs": [
    {
     "data": {
      "text/html": [
       "<div>\n",
       "<style>\n",
       "    .dataframe thead tr:only-child th {\n",
       "        text-align: right;\n",
       "    }\n",
       "\n",
       "    .dataframe thead th {\n",
       "        text-align: left;\n",
       "    }\n",
       "\n",
       "    .dataframe tbody tr th {\n",
       "        vertical-align: top;\n",
       "    }\n",
       "</style>\n",
       "<table border=\"1\" class=\"dataframe\">\n",
       "  <thead>\n",
       "    <tr style=\"text-align: right;\">\n",
       "      <th></th>\n",
       "    </tr>\n",
       "  </thead>\n",
       "  <tbody>\n",
       "    <tr>\n",
       "      <th>maxTemp</th>\n",
       "    </tr>\n",
       "    <tr>\n",
       "      <th>minTemp</th>\n",
       "    </tr>\n",
       "    <tr>\n",
       "      <th>meanTemp</th>\n",
       "    </tr>\n",
       "    <tr>\n",
       "      <th>heatDegDays</th>\n",
       "    </tr>\n",
       "    <tr>\n",
       "      <th>coolDegDays</th>\n",
       "    </tr>\n",
       "    <tr>\n",
       "      <th>totalRainMM</th>\n",
       "    </tr>\n",
       "    <tr>\n",
       "      <th>totalSnowCM</th>\n",
       "    </tr>\n",
       "    <tr>\n",
       "      <th>totalPrecipMM</th>\n",
       "    </tr>\n",
       "    <tr>\n",
       "      <th>snowOnGroundCM</th>\n",
       "    </tr>\n",
       "    <tr>\n",
       "      <th>dirOfMaxGust10sDEG</th>\n",
       "    </tr>\n",
       "    <tr>\n",
       "      <th>spdOfMaxGustKMH</th>\n",
       "    </tr>\n",
       "  </tbody>\n",
       "</table>\n",
       "</div>"
      ],
      "text/plain": [
       "Empty DataFrame\n",
       "Columns: []\n",
       "Index: [maxTemp, minTemp, meanTemp, heatDegDays, coolDegDays, totalRainMM, totalSnowCM, totalPrecipMM, snowOnGroundCM, dirOfMaxGust10sDEG, spdOfMaxGustKMH]"
      ]
     },
     "execution_count": 41,
     "metadata": {},
     "output_type": "execute_result"
    }
   ],
   "source": [
    "pd.DataFrame(index=data_cont.columns)"
   ]
  },
  {
   "cell_type": "markdown",
   "metadata": {
    "hide_input": false,
    "hide_output": false,
    "run_control": {
     "marked": false
    }
   },
   "source": [
    "Final dataset"
   ]
  },
  {
   "cell_type": "code",
   "execution_count": 42,
   "metadata": {
    "collapsed": true,
    "deletable": true,
    "hide_input": false,
    "hide_output": false,
    "locked": false,
    "run_control": {
     "marked": false
    }
   },
   "outputs": [],
   "source": [
    "df = pd.concat([data_cont, data_disc], axis=1)"
   ]
  },
  {
   "cell_type": "markdown",
   "metadata": {
    "hide_input": false,
    "hide_output": false,
    "run_control": {
     "marked": false
    }
   },
   "source": [
    "Summary statistics"
   ]
  },
  {
   "cell_type": "code",
   "execution_count": 43,
   "metadata": {
    "collapsed": false,
    "deletable": true,
    "hide_input": false,
    "hide_output": false,
    "locked": false,
    "run_control": {
     "marked": true
    }
   },
   "outputs": [
    {
     "data": {
      "text/html": [
       "<style  type=\"text/css\" >\n",
       "    #T_cb482888_6f1f_11e7_9822_3c15c2ca2e66row0_col0 {\n",
       "            background-color:  #ff0000;\n",
       "        }    #T_cb482888_6f1f_11e7_9822_3c15c2ca2e66row0_col1 {\n",
       "            background-color:  #ff8888;\n",
       "        }    #T_cb482888_6f1f_11e7_9822_3c15c2ca2e66row0_col2 {\n",
       "            background-color:  #ff0000;\n",
       "        }    #T_cb482888_6f1f_11e7_9822_3c15c2ca2e66row0_col3 {\n",
       "            background-color:  #ffbbbb;\n",
       "        }    #T_cb482888_6f1f_11e7_9822_3c15c2ca2e66row0_col4 {\n",
       "            background-color:  #ffb7b7;\n",
       "        }    #T_cb482888_6f1f_11e7_9822_3c15c2ca2e66row0_col5 {\n",
       "            background-color:  #ff7979;\n",
       "        }    #T_cb482888_6f1f_11e7_9822_3c15c2ca2e66row0_col6 {\n",
       "            background-color:  #ff3434;\n",
       "        }    #T_cb482888_6f1f_11e7_9822_3c15c2ca2e66row0_col7 {\n",
       "            background-color:  #ffa4a4;\n",
       "        }    #T_cb482888_6f1f_11e7_9822_3c15c2ca2e66row1_col0 {\n",
       "            background-color:  #ff0000;\n",
       "        }    #T_cb482888_6f1f_11e7_9822_3c15c2ca2e66row1_col1 {\n",
       "            background-color:  #ffd3d3;\n",
       "        }    #T_cb482888_6f1f_11e7_9822_3c15c2ca2e66row1_col2 {\n",
       "            background-color:  #ff2323;\n",
       "        }    #T_cb482888_6f1f_11e7_9822_3c15c2ca2e66row1_col3 {\n",
       "            background-color:  #ffe5e5;\n",
       "        }    #T_cb482888_6f1f_11e7_9822_3c15c2ca2e66row1_col4 {\n",
       "            background-color:  #ffe5e5;\n",
       "        }    #T_cb482888_6f1f_11e7_9822_3c15c2ca2e66row1_col5 {\n",
       "            background-color:  #ffcbcb;\n",
       "        }    #T_cb482888_6f1f_11e7_9822_3c15c2ca2e66row1_col6 {\n",
       "            background-color:  #ff8f8f;\n",
       "        }    #T_cb482888_6f1f_11e7_9822_3c15c2ca2e66row1_col7 {\n",
       "            background-color:  #ffc5c5;\n",
       "        }    #T_cb482888_6f1f_11e7_9822_3c15c2ca2e66row2_col0 {\n",
       "            background-color:  #ff0101;\n",
       "        }    #T_cb482888_6f1f_11e7_9822_3c15c2ca2e66row2_col1 {\n",
       "            background-color:  #ffaeae;\n",
       "        }    #T_cb482888_6f1f_11e7_9822_3c15c2ca2e66row2_col2 {\n",
       "            background-color:  #ff1515;\n",
       "        }    #T_cb482888_6f1f_11e7_9822_3c15c2ca2e66row2_col3 {\n",
       "            background-color:  #ffd0d0;\n",
       "        }    #T_cb482888_6f1f_11e7_9822_3c15c2ca2e66row2_col4 {\n",
       "            background-color:  #ffcece;\n",
       "        }    #T_cb482888_6f1f_11e7_9822_3c15c2ca2e66row2_col5 {\n",
       "            background-color:  #ffa2a2;\n",
       "        }    #T_cb482888_6f1f_11e7_9822_3c15c2ca2e66row2_col6 {\n",
       "            background-color:  #ff6262;\n",
       "        }    #T_cb482888_6f1f_11e7_9822_3c15c2ca2e66row2_col7 {\n",
       "            background-color:  #ffb4b4;\n",
       "        }    #T_cb482888_6f1f_11e7_9822_3c15c2ca2e66row3_col0 {\n",
       "            background-color:  #ff0101;\n",
       "        }    #T_cb482888_6f1f_11e7_9822_3c15c2ca2e66row3_col1 {\n",
       "            background-color:  #ff9f9f;\n",
       "        }    #T_cb482888_6f1f_11e7_9822_3c15c2ca2e66row3_col2 {\n",
       "            background-color:  #ff2c2c;\n",
       "        }    #T_cb482888_6f1f_11e7_9822_3c15c2ca2e66row3_col3 {\n",
       "            background-color:  #ff7474;\n",
       "        }    #T_cb482888_6f1f_11e7_9822_3c15c2ca2e66row3_col4 {\n",
       "            background-color:  #ffcece;\n",
       "        }    #T_cb482888_6f1f_11e7_9822_3c15c2ca2e66row3_col5 {\n",
       "            background-color:  #ffa4a4;\n",
       "        }    #T_cb482888_6f1f_11e7_9822_3c15c2ca2e66row3_col6 {\n",
       "            background-color:  #ff6262;\n",
       "        }    #T_cb482888_6f1f_11e7_9822_3c15c2ca2e66row3_col7 {\n",
       "            background-color:  #ff9494;\n",
       "        }    #T_cb482888_6f1f_11e7_9822_3c15c2ca2e66row4_col0 {\n",
       "            background-color:  #ff0101;\n",
       "        }    #T_cb482888_6f1f_11e7_9822_3c15c2ca2e66row4_col1 {\n",
       "            background-color:  #ffe5e5;\n",
       "        }    #T_cb482888_6f1f_11e7_9822_3c15c2ca2e66row4_col2 {\n",
       "            background-color:  #ffe5e5;\n",
       "        }    #T_cb482888_6f1f_11e7_9822_3c15c2ca2e66row4_col3 {\n",
       "            background-color:  #ff7474;\n",
       "        }    #T_cb482888_6f1f_11e7_9822_3c15c2ca2e66row4_col4 {\n",
       "            background-color:  #ffd0d0;\n",
       "        }    #T_cb482888_6f1f_11e7_9822_3c15c2ca2e66row4_col5 {\n",
       "            background-color:  #ffe5e5;\n",
       "        }    #T_cb482888_6f1f_11e7_9822_3c15c2ca2e66row4_col6 {\n",
       "            background-color:  #ffe5e5;\n",
       "        }    #T_cb482888_6f1f_11e7_9822_3c15c2ca2e66row4_col7 {\n",
       "            background-color:  #ffe5e5;\n",
       "        }    #T_cb482888_6f1f_11e7_9822_3c15c2ca2e66row5_col0 {\n",
       "            background-color:  #ffaeae;\n",
       "        }    #T_cb482888_6f1f_11e7_9822_3c15c2ca2e66row5_col1 {\n",
       "            background-color:  #ffe0e0;\n",
       "        }    #T_cb482888_6f1f_11e7_9822_3c15c2ca2e66row5_col2 {\n",
       "            background-color:  #ffa7a7;\n",
       "        }    #T_cb482888_6f1f_11e7_9822_3c15c2ca2e66row5_col3 {\n",
       "            background-color:  #ff7474;\n",
       "        }    #T_cb482888_6f1f_11e7_9822_3c15c2ca2e66row5_col4 {\n",
       "            background-color:  #ffd0d0;\n",
       "        }    #T_cb482888_6f1f_11e7_9822_3c15c2ca2e66row5_col5 {\n",
       "            background-color:  #ffe5e5;\n",
       "        }    #T_cb482888_6f1f_11e7_9822_3c15c2ca2e66row5_col6 {\n",
       "            background-color:  #ffe5e5;\n",
       "        }    #T_cb482888_6f1f_11e7_9822_3c15c2ca2e66row5_col7 {\n",
       "            background-color:  #ff9d9d;\n",
       "        }    #T_cb482888_6f1f_11e7_9822_3c15c2ca2e66row6_col0 {\n",
       "            background-color:  #ffb6b6;\n",
       "        }    #T_cb482888_6f1f_11e7_9822_3c15c2ca2e66row6_col1 {\n",
       "            background-color:  #ffe3e3;\n",
       "        }    #T_cb482888_6f1f_11e7_9822_3c15c2ca2e66row6_col2 {\n",
       "            background-color:  #ffc8c8;\n",
       "        }    #T_cb482888_6f1f_11e7_9822_3c15c2ca2e66row6_col3 {\n",
       "            background-color:  #ff7474;\n",
       "        }    #T_cb482888_6f1f_11e7_9822_3c15c2ca2e66row6_col4 {\n",
       "            background-color:  #ffd0d0;\n",
       "        }    #T_cb482888_6f1f_11e7_9822_3c15c2ca2e66row6_col5 {\n",
       "            background-color:  #ffe5e5;\n",
       "        }    #T_cb482888_6f1f_11e7_9822_3c15c2ca2e66row6_col6 {\n",
       "            background-color:  #ffdede;\n",
       "        }    #T_cb482888_6f1f_11e7_9822_3c15c2ca2e66row6_col7 {\n",
       "            background-color:  #ffa8a8;\n",
       "        }    #T_cb482888_6f1f_11e7_9822_3c15c2ca2e66row7_col0 {\n",
       "            background-color:  #ff2d2d;\n",
       "        }    #T_cb482888_6f1f_11e7_9822_3c15c2ca2e66row7_col1 {\n",
       "            background-color:  #ffd8d8;\n",
       "        }    #T_cb482888_6f1f_11e7_9822_3c15c2ca2e66row7_col2 {\n",
       "            background-color:  #ff8484;\n",
       "        }    #T_cb482888_6f1f_11e7_9822_3c15c2ca2e66row7_col3 {\n",
       "            background-color:  #ff7474;\n",
       "        }    #T_cb482888_6f1f_11e7_9822_3c15c2ca2e66row7_col4 {\n",
       "            background-color:  #ffd0d0;\n",
       "        }    #T_cb482888_6f1f_11e7_9822_3c15c2ca2e66row7_col5 {\n",
       "            background-color:  #ffe5e5;\n",
       "        }    #T_cb482888_6f1f_11e7_9822_3c15c2ca2e66row7_col6 {\n",
       "            background-color:  #ffd3d3;\n",
       "        }    #T_cb482888_6f1f_11e7_9822_3c15c2ca2e66row7_col7 {\n",
       "            background-color:  #ff4848;\n",
       "        }    #T_cb482888_6f1f_11e7_9822_3c15c2ca2e66row8_col0 {\n",
       "            background-color:  #ff9e9e;\n",
       "        }    #T_cb482888_6f1f_11e7_9822_3c15c2ca2e66row8_col1 {\n",
       "            background-color:  #ffb1b1;\n",
       "        }    #T_cb482888_6f1f_11e7_9822_3c15c2ca2e66row8_col2 {\n",
       "            background-color:  #ff1717;\n",
       "        }    #T_cb482888_6f1f_11e7_9822_3c15c2ca2e66row8_col3 {\n",
       "            background-color:  #ff7474;\n",
       "        }    #T_cb482888_6f1f_11e7_9822_3c15c2ca2e66row8_col4 {\n",
       "            background-color:  #ffd0d0;\n",
       "        }    #T_cb482888_6f1f_11e7_9822_3c15c2ca2e66row8_col5 {\n",
       "            background-color:  #ffd0d0;\n",
       "        }    #T_cb482888_6f1f_11e7_9822_3c15c2ca2e66row8_col6 {\n",
       "            background-color:  #ff9494;\n",
       "        }    #T_cb482888_6f1f_11e7_9822_3c15c2ca2e66row8_col7 {\n",
       "            background-color:  #ff6666;\n",
       "        }    #T_cb482888_6f1f_11e7_9822_3c15c2ca2e66row9_col0 {\n",
       "            background-color:  #ffe5e5;\n",
       "        }    #T_cb482888_6f1f_11e7_9822_3c15c2ca2e66row9_col1 {\n",
       "            background-color:  #ff5454;\n",
       "        }    #T_cb482888_6f1f_11e7_9822_3c15c2ca2e66row9_col2 {\n",
       "            background-color:  #ff1f1f;\n",
       "        }    #T_cb482888_6f1f_11e7_9822_3c15c2ca2e66row9_col3 {\n",
       "            background-color:  #ff7070;\n",
       "        }    #T_cb482888_6f1f_11e7_9822_3c15c2ca2e66row9_col4 {\n",
       "            background-color:  #ff7979;\n",
       "        }    #T_cb482888_6f1f_11e7_9822_3c15c2ca2e66row9_col5 {\n",
       "            background-color:  #ff5151;\n",
       "        }    #T_cb482888_6f1f_11e7_9822_3c15c2ca2e66row9_col6 {\n",
       "            background-color:  #ff0707;\n",
       "        }    #T_cb482888_6f1f_11e7_9822_3c15c2ca2e66row9_col7 {\n",
       "            background-color:  #ffa6a6;\n",
       "        }    #T_cb482888_6f1f_11e7_9822_3c15c2ca2e66row10_col0 {\n",
       "            background-color:  #ff8a8a;\n",
       "        }    #T_cb482888_6f1f_11e7_9822_3c15c2ca2e66row10_col1 {\n",
       "            background-color:  #ff0000;\n",
       "        }    #T_cb482888_6f1f_11e7_9822_3c15c2ca2e66row10_col2 {\n",
       "            background-color:  #ffafaf;\n",
       "        }    #T_cb482888_6f1f_11e7_9822_3c15c2ca2e66row10_col3 {\n",
       "            background-color:  #ff0000;\n",
       "        }    #T_cb482888_6f1f_11e7_9822_3c15c2ca2e66row10_col4 {\n",
       "            background-color:  #ff0000;\n",
       "        }    #T_cb482888_6f1f_11e7_9822_3c15c2ca2e66row10_col5 {\n",
       "            background-color:  #ff0000;\n",
       "        }    #T_cb482888_6f1f_11e7_9822_3c15c2ca2e66row10_col6 {\n",
       "            background-color:  #ff0000;\n",
       "        }    #T_cb482888_6f1f_11e7_9822_3c15c2ca2e66row10_col7 {\n",
       "            background-color:  #ff0000;\n",
       "        }</style>  \n",
       "<table id=\"T_cb482888_6f1f_11e7_9822_3c15c2ca2e66\" > \n",
       "<thead>    <tr> \n",
       "        <th class=\"blank level0\" ></th> \n",
       "        <th class=\"col_heading level0 col0\" >count</th> \n",
       "        <th class=\"col_heading level0 col1\" >mean</th> \n",
       "        <th class=\"col_heading level0 col2\" >std</th> \n",
       "        <th class=\"col_heading level0 col3\" >min</th> \n",
       "        <th class=\"col_heading level0 col4\" >25%</th> \n",
       "        <th class=\"col_heading level0 col5\" >50%</th> \n",
       "        <th class=\"col_heading level0 col6\" >75%</th> \n",
       "        <th class=\"col_heading level0 col7\" >max</th> \n",
       "    </tr></thead> \n",
       "<tbody>    <tr> \n",
       "        <th id=\"T_cb482888_6f1f_11e7_9822_3c15c2ca2e66\" class=\"row_heading level0 row0\" >maxTemp</th> \n",
       "        <td id=\"T_cb482888_6f1f_11e7_9822_3c15c2ca2e66row0_col0\" class=\"data row0 col0\" >4686</td> \n",
       "        <td id=\"T_cb482888_6f1f_11e7_9822_3c15c2ca2e66row0_col1\" class=\"data row0 col1\" >13.4396</td> \n",
       "        <td id=\"T_cb482888_6f1f_11e7_9822_3c15c2ca2e66row0_col2\" class=\"data row0 col2\" >11.6404</td> \n",
       "        <td id=\"T_cb482888_6f1f_11e7_9822_3c15c2ca2e66row0_col3\" class=\"data row0 col3\" >-19</td> \n",
       "        <td id=\"T_cb482888_6f1f_11e7_9822_3c15c2ca2e66row0_col4\" class=\"data row0 col4\" >3.7</td> \n",
       "        <td id=\"T_cb482888_6f1f_11e7_9822_3c15c2ca2e66row0_col5\" class=\"data row0 col5\" >14.7</td> \n",
       "        <td id=\"T_cb482888_6f1f_11e7_9822_3c15c2ca2e66row0_col6\" class=\"data row0 col6\" >23.875</td> \n",
       "        <td id=\"T_cb482888_6f1f_11e7_9822_3c15c2ca2e66row0_col7\" class=\"data row0 col7\" >36.7</td> \n",
       "    </tr>    <tr> \n",
       "        <th id=\"T_cb482888_6f1f_11e7_9822_3c15c2ca2e66\" class=\"row_heading level0 row1\" >minTemp</th> \n",
       "        <td id=\"T_cb482888_6f1f_11e7_9822_3c15c2ca2e66row1_col0\" class=\"data row1 col0\" >4695</td> \n",
       "        <td id=\"T_cb482888_6f1f_11e7_9822_3c15c2ca2e66row1_col1\" class=\"data row1 col1\" >3.4183</td> \n",
       "        <td id=\"T_cb482888_6f1f_11e7_9822_3c15c2ca2e66row1_col2\" class=\"data row1 col2\" >10.1215</td> \n",
       "        <td id=\"T_cb482888_6f1f_11e7_9822_3c15c2ca2e66row1_col3\" class=\"data row1 col3\" >-30.5</td> \n",
       "        <td id=\"T_cb482888_6f1f_11e7_9822_3c15c2ca2e66row1_col4\" class=\"data row1 col4\" >-3.3</td> \n",
       "        <td id=\"T_cb482888_6f1f_11e7_9822_3c15c2ca2e66row1_col5\" class=\"data row1 col5\" >3.6</td> \n",
       "        <td id=\"T_cb482888_6f1f_11e7_9822_3c15c2ca2e66row1_col6\" class=\"data row1 col6\" >11.7</td> \n",
       "        <td id=\"T_cb482888_6f1f_11e7_9822_3c15c2ca2e66row1_col7\" class=\"data row1 col7\" >24.6</td> \n",
       "    </tr>    <tr> \n",
       "        <th id=\"T_cb482888_6f1f_11e7_9822_3c15c2ca2e66\" class=\"row_heading level0 row2\" >meanTemp</th> \n",
       "        <td id=\"T_cb482888_6f1f_11e7_9822_3c15c2ca2e66row2_col0\" class=\"data row2 col0\" >4675</td> \n",
       "        <td id=\"T_cb482888_6f1f_11e7_9822_3c15c2ca2e66row2_col1\" class=\"data row2 col1\" >8.44047</td> \n",
       "        <td id=\"T_cb482888_6f1f_11e7_9822_3c15c2ca2e66row2_col2\" class=\"data row2 col2\" >10.7376</td> \n",
       "        <td id=\"T_cb482888_6f1f_11e7_9822_3c15c2ca2e66row2_col3\" class=\"data row2 col3\" >-24.5</td> \n",
       "        <td id=\"T_cb482888_6f1f_11e7_9822_3c15c2ca2e66row2_col4\" class=\"data row2 col4\" >0.3</td> \n",
       "        <td id=\"T_cb482888_6f1f_11e7_9822_3c15c2ca2e66row2_col5\" class=\"data row2 col5\" >9.1</td> \n",
       "        <td id=\"T_cb482888_6f1f_11e7_9822_3c15c2ca2e66row2_col6\" class=\"data row2 col6\" >17.8</td> \n",
       "        <td id=\"T_cb482888_6f1f_11e7_9822_3c15c2ca2e66row2_col7\" class=\"data row2 col7\" >30.7</td> \n",
       "    </tr>    <tr> \n",
       "        <th id=\"T_cb482888_6f1f_11e7_9822_3c15c2ca2e66\" class=\"row_heading level0 row3\" >heatDegDays</th> \n",
       "        <td id=\"T_cb482888_6f1f_11e7_9822_3c15c2ca2e66row3_col0\" class=\"data row3 col0\" >4675</td> \n",
       "        <td id=\"T_cb482888_6f1f_11e7_9822_3c15c2ca2e66row3_col1\" class=\"data row3 col1\" >10.3746</td> \n",
       "        <td id=\"T_cb482888_6f1f_11e7_9822_3c15c2ca2e66row3_col2\" class=\"data row3 col2\" >9.74878</td> \n",
       "        <td id=\"T_cb482888_6f1f_11e7_9822_3c15c2ca2e66row3_col3\" class=\"data row3 col3\" >0</td> \n",
       "        <td id=\"T_cb482888_6f1f_11e7_9822_3c15c2ca2e66row3_col4\" class=\"data row3 col4\" >0.2</td> \n",
       "        <td id=\"T_cb482888_6f1f_11e7_9822_3c15c2ca2e66row3_col5\" class=\"data row3 col5\" >8.9</td> \n",
       "        <td id=\"T_cb482888_6f1f_11e7_9822_3c15c2ca2e66row3_col6\" class=\"data row3 col6\" >17.7</td> \n",
       "        <td id=\"T_cb482888_6f1f_11e7_9822_3c15c2ca2e66row3_col7\" class=\"data row3 col7\" >42.5</td> \n",
       "    </tr>    <tr> \n",
       "        <th id=\"T_cb482888_6f1f_11e7_9822_3c15c2ca2e66\" class=\"row_heading level0 row4\" >coolDegDays</th> \n",
       "        <td id=\"T_cb482888_6f1f_11e7_9822_3c15c2ca2e66row4_col0\" class=\"data row4 col0\" >4675</td> \n",
       "        <td id=\"T_cb482888_6f1f_11e7_9822_3c15c2ca2e66row4_col1\" class=\"data row4 col1\" >0.81508</td> \n",
       "        <td id=\"T_cb482888_6f1f_11e7_9822_3c15c2ca2e66row4_col2\" class=\"data row4 col2\" >1.82779</td> \n",
       "        <td id=\"T_cb482888_6f1f_11e7_9822_3c15c2ca2e66row4_col3\" class=\"data row4 col3\" >0</td> \n",
       "        <td id=\"T_cb482888_6f1f_11e7_9822_3c15c2ca2e66row4_col4\" class=\"data row4 col4\" >0</td> \n",
       "        <td id=\"T_cb482888_6f1f_11e7_9822_3c15c2ca2e66row4_col5\" class=\"data row4 col5\" >0</td> \n",
       "        <td id=\"T_cb482888_6f1f_11e7_9822_3c15c2ca2e66row4_col6\" class=\"data row4 col6\" >0</td> \n",
       "        <td id=\"T_cb482888_6f1f_11e7_9822_3c15c2ca2e66row4_col7\" class=\"data row4 col7\" >12.7</td> \n",
       "    </tr>    <tr> \n",
       "        <th id=\"T_cb482888_6f1f_11e7_9822_3c15c2ca2e66\" class=\"row_heading level0 row5\" >totalRainMM</th> \n",
       "        <td id=\"T_cb482888_6f1f_11e7_9822_3c15c2ca2e66row5_col0\" class=\"data row5 col0\" >1243</td> \n",
       "        <td id=\"T_cb482888_6f1f_11e7_9822_3c15c2ca2e66row5_col1\" class=\"data row5 col1\" >1.55559</td> \n",
       "        <td id=\"T_cb482888_6f1f_11e7_9822_3c15c2ca2e66row5_col2\" class=\"data row5 col2\" >4.48242</td> \n",
       "        <td id=\"T_cb482888_6f1f_11e7_9822_3c15c2ca2e66row5_col3\" class=\"data row5 col3\" >0</td> \n",
       "        <td id=\"T_cb482888_6f1f_11e7_9822_3c15c2ca2e66row5_col4\" class=\"data row5 col4\" >0</td> \n",
       "        <td id=\"T_cb482888_6f1f_11e7_9822_3c15c2ca2e66row5_col5\" class=\"data row5 col5\" >0</td> \n",
       "        <td id=\"T_cb482888_6f1f_11e7_9822_3c15c2ca2e66row5_col6\" class=\"data row5 col6\" >0</td> \n",
       "        <td id=\"T_cb482888_6f1f_11e7_9822_3c15c2ca2e66row5_col7\" class=\"data row5 col7\" >39.3</td> \n",
       "    </tr>    <tr> \n",
       "        <th id=\"T_cb482888_6f1f_11e7_9822_3c15c2ca2e66\" class=\"row_heading level0 row6\" >totalSnowCM</th> \n",
       "        <td id=\"T_cb482888_6f1f_11e7_9822_3c15c2ca2e66row6_col0\" class=\"data row6 col0\" >1081</td> \n",
       "        <td id=\"T_cb482888_6f1f_11e7_9822_3c15c2ca2e66row6_col1\" class=\"data row6 col1\" >1.28992</td> \n",
       "        <td id=\"T_cb482888_6f1f_11e7_9822_3c15c2ca2e66row6_col2\" class=\"data row6 col2\" >3.10682</td> \n",
       "        <td id=\"T_cb482888_6f1f_11e7_9822_3c15c2ca2e66row6_col3\" class=\"data row6 col3\" >0</td> \n",
       "        <td id=\"T_cb482888_6f1f_11e7_9822_3c15c2ca2e66row6_col4\" class=\"data row6 col4\" >0</td> \n",
       "        <td id=\"T_cb482888_6f1f_11e7_9822_3c15c2ca2e66row6_col5\" class=\"data row6 col5\" >0</td> \n",
       "        <td id=\"T_cb482888_6f1f_11e7_9822_3c15c2ca2e66row6_col6\" class=\"data row6 col6\" >1</td> \n",
       "        <td id=\"T_cb482888_6f1f_11e7_9822_3c15c2ca2e66row6_col7\" class=\"data row6 col7\" >35</td> \n",
       "    </tr>    <tr> \n",
       "        <th id=\"T_cb482888_6f1f_11e7_9822_3c15c2ca2e66\" class=\"row_heading level0 row7\" >totalPrecipMM</th> \n",
       "        <td id=\"T_cb482888_6f1f_11e7_9822_3c15c2ca2e66row7_col0\" class=\"data row7 col0\" >3789</td> \n",
       "        <td id=\"T_cb482888_6f1f_11e7_9822_3c15c2ca2e66row7_col1\" class=\"data row7 col1\" >2.69942</td> \n",
       "        <td id=\"T_cb482888_6f1f_11e7_9822_3c15c2ca2e66row7_col2\" class=\"data row7 col2\" >5.97551</td> \n",
       "        <td id=\"T_cb482888_6f1f_11e7_9822_3c15c2ca2e66row7_col3\" class=\"data row7 col3\" >0</td> \n",
       "        <td id=\"T_cb482888_6f1f_11e7_9822_3c15c2ca2e66row7_col4\" class=\"data row7 col4\" >0</td> \n",
       "        <td id=\"T_cb482888_6f1f_11e7_9822_3c15c2ca2e66row7_col5\" class=\"data row7 col5\" >0</td> \n",
       "        <td id=\"T_cb482888_6f1f_11e7_9822_3c15c2ca2e66row7_col6\" class=\"data row7 col6\" >2.5</td> \n",
       "        <td id=\"T_cb482888_6f1f_11e7_9822_3c15c2ca2e66row7_col7\" class=\"data row7 col7\" >69.7</td> \n",
       "    </tr>    <tr> \n",
       "        <th id=\"T_cb482888_6f1f_11e7_9822_3c15c2ca2e66\" class=\"row_heading level0 row8\" >snowOnGroundCM</th> \n",
       "        <td id=\"T_cb482888_6f1f_11e7_9822_3c15c2ca2e66row8_col0\" class=\"data row8 col0\" >1553</td> \n",
       "        <td id=\"T_cb482888_6f1f_11e7_9822_3c15c2ca2e66row8_col1\" class=\"data row8 col1\" >7.86413</td> \n",
       "        <td id=\"T_cb482888_6f1f_11e7_9822_3c15c2ca2e66row8_col2\" class=\"data row8 col2\" >10.6616</td> \n",
       "        <td id=\"T_cb482888_6f1f_11e7_9822_3c15c2ca2e66row8_col3\" class=\"data row8 col3\" >0</td> \n",
       "        <td id=\"T_cb482888_6f1f_11e7_9822_3c15c2ca2e66row8_col4\" class=\"data row8 col4\" >0</td> \n",
       "        <td id=\"T_cb482888_6f1f_11e7_9822_3c15c2ca2e66row8_col5\" class=\"data row8 col5\" >3</td> \n",
       "        <td id=\"T_cb482888_6f1f_11e7_9822_3c15c2ca2e66row8_col6\" class=\"data row8 col6\" >11</td> \n",
       "        <td id=\"T_cb482888_6f1f_11e7_9822_3c15c2ca2e66row8_col7\" class=\"data row8 col7\" >59</td> \n",
       "    </tr>    <tr> \n",
       "        <th id=\"T_cb482888_6f1f_11e7_9822_3c15c2ca2e66\" class=\"row_heading level0 row9\" >dirOfMaxGust10sDEG</th> \n",
       "        <td id=\"T_cb482888_6f1f_11e7_9822_3c15c2ca2e66row9_col0\" class=\"data row9 col0\" >124</td> \n",
       "        <td id=\"T_cb482888_6f1f_11e7_9822_3c15c2ca2e66row9_col1\" class=\"data row9 col1\" >20.4597</td> \n",
       "        <td id=\"T_cb482888_6f1f_11e7_9822_3c15c2ca2e66row9_col2\" class=\"data row9 col2\" >10.2833</td> \n",
       "        <td id=\"T_cb482888_6f1f_11e7_9822_3c15c2ca2e66row9_col3\" class=\"data row9 col3\" >1</td> \n",
       "        <td id=\"T_cb482888_6f1f_11e7_9822_3c15c2ca2e66row9_col4\" class=\"data row9 col4\" >13</td> \n",
       "        <td id=\"T_cb482888_6f1f_11e7_9822_3c15c2ca2e66row9_col5\" class=\"data row9 col5\" >20</td> \n",
       "        <td id=\"T_cb482888_6f1f_11e7_9822_3c15c2ca2e66row9_col6\" class=\"data row9 col6\" >30</td> \n",
       "        <td id=\"T_cb482888_6f1f_11e7_9822_3c15c2ca2e66row9_col7\" class=\"data row9 col7\" >36</td> \n",
       "    </tr>    <tr> \n",
       "        <th id=\"T_cb482888_6f1f_11e7_9822_3c15c2ca2e66\" class=\"row_heading level0 row10\" >spdOfMaxGustKMH</th> \n",
       "        <td id=\"T_cb482888_6f1f_11e7_9822_3c15c2ca2e66row10_col0\" class=\"data row10 col0\" >1960</td> \n",
       "        <td id=\"T_cb482888_6f1f_11e7_9822_3c15c2ca2e66row10_col1\" class=\"data row10 col1\" >31.8434</td> \n",
       "        <td id=\"T_cb482888_6f1f_11e7_9822_3c15c2ca2e66row10_col2\" class=\"data row10 col2\" >4.16902</td> \n",
       "        <td id=\"T_cb482888_6f1f_11e7_9822_3c15c2ca2e66row10_col3\" class=\"data row10 col3\" >31</td> \n",
       "        <td id=\"T_cb482888_6f1f_11e7_9822_3c15c2ca2e66row10_col4\" class=\"data row10 col4\" >31</td> \n",
       "        <td id=\"T_cb482888_6f1f_11e7_9822_3c15c2ca2e66row10_col5\" class=\"data row10 col5\" >31</td> \n",
       "        <td id=\"T_cb482888_6f1f_11e7_9822_3c15c2ca2e66row10_col6\" class=\"data row10 col6\" >31</td> \n",
       "        <td id=\"T_cb482888_6f1f_11e7_9822_3c15c2ca2e66row10_col7\" class=\"data row10 col7\" >96</td> \n",
       "    </tr></tbody> \n",
       "</table> "
      ],
      "text/plain": [
       "<pandas.io.formats.style.Styler at 0x113460518>"
      ]
     },
     "execution_count": 43,
     "metadata": {},
     "output_type": "execute_result"
    }
   ],
   "source": [
    "cm = sns.light_palette(\"red\", as_cmap=True)\n",
    "s = df.describe().transpose().style.background_gradient(cmap=cm)\n",
    "s"
   ]
  },
  {
   "cell_type": "markdown",
   "metadata": {
    "hide_input": false,
    "hide_output": false,
    "run_control": {
     "marked": false
    }
   },
   "source": [
    "* Highest observed temperature is 36.7°C\n",
    "* Minimum observed temperature is -30.5°C\n",
    "* Average observed temperature is 8.3°C\n",
    "* All variables except for temperature-related variables are strictly positive\n",
    "* Temperature varries more than precipitation"
   ]
  },
  {
   "cell_type": "markdown",
   "metadata": {
    "hide_input": false,
    "hide_output": false,
    "run_control": {
     "marked": false
    }
   },
   "source": [
    "## 1.4 Missing Data"
   ]
  },
  {
   "cell_type": "markdown",
   "metadata": {
    "hide_input": false,
    "hide_output": false,
    "run_control": {
     "marked": false
    }
   },
   "source": [
    "Measurements from sensors produced at weather station locations are [noisy](http://climate.weather.gc.ca/climate_data/data_quality_e.html) i.e. values may be innacurate or they  may be missing."
   ]
  },
  {
   "cell_type": "markdown",
   "metadata": {
    "hide_input": false,
    "hide_output": false,
    "run_control": {
     "marked": false
    }
   },
   "source": [
    "How many records are missing measurements?"
   ]
  },
  {
   "cell_type": "code",
   "execution_count": 44,
   "metadata": {
    "collapsed": false,
    "deletable": true,
    "hide_input": false,
    "hide_output": false,
    "locked": false,
    "run_control": {
     "marked": false
    }
   },
   "outputs": [
    {
     "data": {
      "text/plain": [
       "maxTemp               1493\n",
       "minTemp               1484\n",
       "meanTemp              1504\n",
       "heatDegDays           1504\n",
       "coolDegDays           1504\n",
       "totalRainMM           4936\n",
       "totalSnowCM           5098\n",
       "totalPrecipMM         2390\n",
       "snowOnGroundCM        4626\n",
       "dirOfMaxGust10sDEG    6055\n",
       "spdOfMaxGustKMH       4219\n",
       "station                  0\n",
       "date                     0\n",
       "dtype: int64"
      ]
     },
     "execution_count": 44,
     "metadata": {},
     "output_type": "execute_result"
    }
   ],
   "source": [
    "df.isnull().sum()"
   ]
  },
  {
   "cell_type": "code",
   "execution_count": 45,
   "metadata": {
    "collapsed": false,
    "deletable": true,
    "hide_input": false,
    "hide_output": false,
    "locked": false,
    "run_control": {
     "marked": false
    }
   },
   "outputs": [
    {
     "data": {
      "text/plain": [
       "maxTemp               0.241625\n",
       "minTemp               0.240168\n",
       "meanTemp              0.243405\n",
       "heatDegDays           0.243405\n",
       "coolDegDays           0.243405\n",
       "totalRainMM           0.798835\n",
       "totalSnowCM           0.825053\n",
       "totalPrecipMM         0.386794\n",
       "snowOnGroundCM        0.748665\n",
       "dirOfMaxGust10sDEG    0.979932\n",
       "spdOfMaxGustKMH       0.682797\n",
       "station               0.000000\n",
       "date                  0.000000\n",
       "dtype: float64"
      ]
     },
     "execution_count": 45,
     "metadata": {},
     "output_type": "execute_result"
    }
   ],
   "source": [
    "df.isnull().sum() / len(df)"
   ]
  },
  {
   "cell_type": "code",
   "execution_count": 46,
   "metadata": {
    "collapsed": false,
    "deletable": true,
    "hide_input": false,
    "hide_output": false,
    "locked": false,
    "run_control": {
     "marked": false
    }
   },
   "outputs": [
    {
     "data": {
      "image/png": "[encoded data removed]",
      "text/plain": [
       "<matplotlib.figure.Figure at 0x112f72d30>"
      ]
     },
     "metadata": {},
     "output_type": "display_data"
    }
   ],
   "source": [
    "_ = sns.heatmap((df.groupby('station').apply(lambda x: pd.isnull(x).sum()) / df.shape[0]).transpose())\n",
    "_.set_title(\"Percent of Missing Data\");\n",
    "_.set_ylabel(\"Measurement\");"
   ]
  },
  {
   "cell_type": "markdown",
   "metadata": {
    "hide_input": false,
    "hide_output": false,
    "run_control": {
     "marked": false
    }
   },
   "source": [
    "* The **London A** is missing precipitation data but not much else\n",
    "* The **London Airport** station is missing temperature and wind data but has most complete rain data\n",
    "* The **London CS** is missing significant wind, rain, and snow measurements\n",
    "\n",
    "The only variable with a significant number of missing values accross stations is `dirOfMaxGust10sDEG`.  With a sufficient amount of available data from a combination of the three stations for all other relevant variables, we can summarize the measurements using the arithmetic mean of each measurement $m$ at each station $S$ at each time $t$."
   ]
  },
  {
   "cell_type": "markdown",
   "metadata": {
    "hide_input": false,
    "hide_output": false,
    "run_control": {
     "marked": false
    }
   },
   "source": [
    "## 1.5 Daily Observation Data\n",
    "Since we are not ultimately not interested in measurements from individual weather stations (the purpose of this analysis is to analyze precipitation trends in London Ontario as a whole), we can collapse observations from different locations into a single measurement.  We could consider using the mean or the median as a summary statistic but for the purposes of this analysis, we'll use the mean since the measurements from the various station averages do not vary too much (?)."
   ]
  },
  {
   "cell_type": "code",
   "execution_count": 47,
   "metadata": {
    "collapsed": false,
    "deletable": true,
    "hide_input": false,
    "hide_output": false,
    "locked": false,
    "run_control": {
     "marked": false
    }
   },
   "outputs": [
    {
     "data": {
      "text/html": [
       "<div>\n",
       "<style>\n",
       "    .dataframe thead tr:only-child th {\n",
       "        text-align: right;\n",
       "    }\n",
       "\n",
       "    .dataframe thead th {\n",
       "        text-align: left;\n",
       "    }\n",
       "\n",
       "    .dataframe tbody tr th {\n",
       "        vertical-align: top;\n",
       "    }\n",
       "</style>\n",
       "<table border=\"1\" class=\"dataframe\">\n",
       "  <thead>\n",
       "    <tr style=\"text-align: right;\">\n",
       "      <th></th>\n",
       "      <th>maxTemp</th>\n",
       "      <th>minTemp</th>\n",
       "      <th>meanTemp</th>\n",
       "      <th>heatDegDays</th>\n",
       "      <th>coolDegDays</th>\n",
       "      <th>totalRainMM</th>\n",
       "      <th>totalSnowCM</th>\n",
       "      <th>totalPrecipMM</th>\n",
       "      <th>snowOnGroundCM</th>\n",
       "      <th>dirOfMaxGust10sDEG</th>\n",
       "      <th>spdOfMaxGustKMH</th>\n",
       "    </tr>\n",
       "    <tr>\n",
       "      <th>date</th>\n",
       "      <th></th>\n",
       "      <th></th>\n",
       "      <th></th>\n",
       "      <th></th>\n",
       "      <th></th>\n",
       "      <th></th>\n",
       "      <th></th>\n",
       "      <th></th>\n",
       "      <th></th>\n",
       "      <th></th>\n",
       "      <th></th>\n",
       "    </tr>\n",
       "  </thead>\n",
       "  <tbody>\n",
       "    <tr>\n",
       "      <th>2010-01-01</th>\n",
       "      <td>0.0</td>\n",
       "      <td>-9.2</td>\n",
       "      <td>-4.6</td>\n",
       "      <td>22.6</td>\n",
       "      <td>0.0</td>\n",
       "      <td>0.0</td>\n",
       "      <td>15.0</td>\n",
       "      <td>4.9</td>\n",
       "      <td>0.0</td>\n",
       "      <td>NaN</td>\n",
       "      <td>NaN</td>\n",
       "    </tr>\n",
       "    <tr>\n",
       "      <th>2010-01-02</th>\n",
       "      <td>-9.2</td>\n",
       "      <td>-14.1</td>\n",
       "      <td>-11.7</td>\n",
       "      <td>29.7</td>\n",
       "      <td>0.0</td>\n",
       "      <td>0.0</td>\n",
       "      <td>6.0</td>\n",
       "      <td>4.1</td>\n",
       "      <td>15.0</td>\n",
       "      <td>NaN</td>\n",
       "      <td>NaN</td>\n",
       "    </tr>\n",
       "    <tr>\n",
       "      <th>2010-01-03</th>\n",
       "      <td>-5.6</td>\n",
       "      <td>-12.6</td>\n",
       "      <td>-9.1</td>\n",
       "      <td>27.1</td>\n",
       "      <td>0.0</td>\n",
       "      <td>0.0</td>\n",
       "      <td>1.0</td>\n",
       "      <td>1.1</td>\n",
       "      <td>20.0</td>\n",
       "      <td>NaN</td>\n",
       "      <td>NaN</td>\n",
       "    </tr>\n",
       "    <tr>\n",
       "      <th>2010-01-04</th>\n",
       "      <td>-7.5</td>\n",
       "      <td>-11.2</td>\n",
       "      <td>-9.4</td>\n",
       "      <td>27.4</td>\n",
       "      <td>0.0</td>\n",
       "      <td>0.0</td>\n",
       "      <td>1.0</td>\n",
       "      <td>0.5</td>\n",
       "      <td>14.0</td>\n",
       "      <td>NaN</td>\n",
       "      <td>NaN</td>\n",
       "    </tr>\n",
       "    <tr>\n",
       "      <th>2010-01-05</th>\n",
       "      <td>-3.5</td>\n",
       "      <td>-8.9</td>\n",
       "      <td>-6.2</td>\n",
       "      <td>24.2</td>\n",
       "      <td>0.0</td>\n",
       "      <td>0.0</td>\n",
       "      <td>NaN</td>\n",
       "      <td>0.0</td>\n",
       "      <td>15.0</td>\n",
       "      <td>NaN</td>\n",
       "      <td>NaN</td>\n",
       "    </tr>\n",
       "  </tbody>\n",
       "</table>\n",
       "</div>"
      ],
      "text/plain": [
       "            maxTemp  minTemp  meanTemp  heatDegDays  coolDegDays  totalRainMM  \\\n",
       "date                                                                            \n",
       "2010-01-01      0.0     -9.2      -4.6         22.6          0.0          0.0   \n",
       "2010-01-02     -9.2    -14.1     -11.7         29.7          0.0          0.0   \n",
       "2010-01-03     -5.6    -12.6      -9.1         27.1          0.0          0.0   \n",
       "2010-01-04     -7.5    -11.2      -9.4         27.4          0.0          0.0   \n",
       "2010-01-05     -3.5     -8.9      -6.2         24.2          0.0          0.0   \n",
       "\n",
       "            totalSnowCM  totalPrecipMM  snowOnGroundCM  dirOfMaxGust10sDEG  \\\n",
       "date                                                                         \n",
       "2010-01-01         15.0            4.9             0.0                 NaN   \n",
       "2010-01-02          6.0            4.1            15.0                 NaN   \n",
       "2010-01-03          1.0            1.1            20.0                 NaN   \n",
       "2010-01-04          1.0            0.5            14.0                 NaN   \n",
       "2010-01-05          NaN            0.0            15.0                 NaN   \n",
       "\n",
       "            spdOfMaxGustKMH  \n",
       "date                         \n",
       "2010-01-01              NaN  \n",
       "2010-01-02              NaN  \n",
       "2010-01-03              NaN  \n",
       "2010-01-04              NaN  \n",
       "2010-01-05              NaN  "
      ]
     },
     "execution_count": 47,
     "metadata": {},
     "output_type": "execute_result"
    }
   ],
   "source": [
    "by_date_df = df.groupby('date').mean()\n",
    "by_date_df.head()"
   ]
  },
  {
   "cell_type": "code",
   "execution_count": 58,
   "metadata": {
    "collapsed": false
   },
   "outputs": [
    {
     "name": "stdout",
     "output_type": "stream",
     "text": [
      "2010-01-01 to 2017-07-21\n"
     ]
    }
   ],
   "source": [
    "print(\"{} to {}\".format(by_date_df.index.min(), by_date_df.index.max()))"
   ]
  },
  {
   "cell_type": "code",
   "execution_count": 63,
   "metadata": {
    "collapsed": false,
    "hide_input": false,
    "hide_output": false,
    "run_control": {
     "marked": false
    }
   },
   "outputs": [
    {
     "name": "stdout",
     "output_type": "stream",
     "text": [
      "../data/notebook1_weather_by_day_2017-07-21.csv\n",
      "<class 'pandas.core.frame.DataFrame'>\n",
      "RangeIndex: 2759 entries, 0 to 2758\n",
      "Data columns (total 12 columns):\n",
      "date                  2759 non-null object\n",
      "maxTemp               2758 non-null float64\n",
      "minTemp               2759 non-null float64\n",
      "meanTemp              2758 non-null float64\n",
      "heatDegDays           2758 non-null float64\n",
      "coolDegDays           2758 non-null float64\n",
      "totalRainMM           1208 non-null float64\n",
      "totalSnowCM           1081 non-null float64\n",
      "totalPrecipMM         2720 non-null float64\n",
      "snowOnGroundCM        1201 non-null float64\n",
      "dirOfMaxGust10sDEG    124 non-null float64\n",
      "spdOfMaxGustKMH       1953 non-null float64\n",
      "dtypes: float64(11), object(1)\n",
      "memory usage: 258.7+ KB\n",
      "None\n"
     ]
    },
    {
     "data": {
      "text/html": [
       "<div>\n",
       "<style>\n",
       "    .dataframe thead tr:only-child th {\n",
       "        text-align: right;\n",
       "    }\n",
       "\n",
       "    .dataframe thead th {\n",
       "        text-align: left;\n",
       "    }\n",
       "\n",
       "    .dataframe tbody tr th {\n",
       "        vertical-align: top;\n",
       "    }\n",
       "</style>\n",
       "<table border=\"1\" class=\"dataframe\">\n",
       "  <thead>\n",
       "    <tr style=\"text-align: right;\">\n",
       "      <th></th>\n",
       "      <th>date</th>\n",
       "      <th>maxTemp</th>\n",
       "      <th>minTemp</th>\n",
       "      <th>meanTemp</th>\n",
       "      <th>heatDegDays</th>\n",
       "      <th>coolDegDays</th>\n",
       "      <th>totalRainMM</th>\n",
       "      <th>totalSnowCM</th>\n",
       "      <th>totalPrecipMM</th>\n",
       "      <th>snowOnGroundCM</th>\n",
       "      <th>dirOfMaxGust10sDEG</th>\n",
       "      <th>spdOfMaxGustKMH</th>\n",
       "    </tr>\n",
       "  </thead>\n",
       "  <tbody>\n",
       "    <tr>\n",
       "      <th>0</th>\n",
       "      <td>2010-01-01</td>\n",
       "      <td>0.0</td>\n",
       "      <td>-9.2</td>\n",
       "      <td>-4.6</td>\n",
       "      <td>22.6</td>\n",
       "      <td>0.0</td>\n",
       "      <td>0.0</td>\n",
       "      <td>15.0</td>\n",
       "      <td>4.9</td>\n",
       "      <td>0.0</td>\n",
       "      <td>NaN</td>\n",
       "      <td>NaN</td>\n",
       "    </tr>\n",
       "    <tr>\n",
       "      <th>1</th>\n",
       "      <td>2010-01-02</td>\n",
       "      <td>-9.2</td>\n",
       "      <td>-14.1</td>\n",
       "      <td>-11.7</td>\n",
       "      <td>29.7</td>\n",
       "      <td>0.0</td>\n",
       "      <td>0.0</td>\n",
       "      <td>6.0</td>\n",
       "      <td>4.1</td>\n",
       "      <td>15.0</td>\n",
       "      <td>NaN</td>\n",
       "      <td>NaN</td>\n",
       "    </tr>\n",
       "    <tr>\n",
       "      <th>2</th>\n",
       "      <td>2010-01-03</td>\n",
       "      <td>-5.6</td>\n",
       "      <td>-12.6</td>\n",
       "      <td>-9.1</td>\n",
       "      <td>27.1</td>\n",
       "      <td>0.0</td>\n",
       "      <td>0.0</td>\n",
       "      <td>1.0</td>\n",
       "      <td>1.1</td>\n",
       "      <td>20.0</td>\n",
       "      <td>NaN</td>\n",
       "      <td>NaN</td>\n",
       "    </tr>\n",
       "    <tr>\n",
       "      <th>3</th>\n",
       "      <td>2010-01-04</td>\n",
       "      <td>-7.5</td>\n",
       "      <td>-11.2</td>\n",
       "      <td>-9.4</td>\n",
       "      <td>27.4</td>\n",
       "      <td>0.0</td>\n",
       "      <td>0.0</td>\n",
       "      <td>1.0</td>\n",
       "      <td>0.5</td>\n",
       "      <td>14.0</td>\n",
       "      <td>NaN</td>\n",
       "      <td>NaN</td>\n",
       "    </tr>\n",
       "    <tr>\n",
       "      <th>4</th>\n",
       "      <td>2010-01-05</td>\n",
       "      <td>-3.5</td>\n",
       "      <td>-8.9</td>\n",
       "      <td>-6.2</td>\n",
       "      <td>24.2</td>\n",
       "      <td>0.0</td>\n",
       "      <td>0.0</td>\n",
       "      <td>NaN</td>\n",
       "      <td>0.0</td>\n",
       "      <td>15.0</td>\n",
       "      <td>NaN</td>\n",
       "      <td>NaN</td>\n",
       "    </tr>\n",
       "  </tbody>\n",
       "</table>\n",
       "</div>"
      ],
      "text/plain": [
       "         date  maxTemp  minTemp  meanTemp  heatDegDays  coolDegDays  \\\n",
       "0  2010-01-01      0.0     -9.2      -4.6         22.6          0.0   \n",
       "1  2010-01-02     -9.2    -14.1     -11.7         29.7          0.0   \n",
       "2  2010-01-03     -5.6    -12.6      -9.1         27.1          0.0   \n",
       "3  2010-01-04     -7.5    -11.2      -9.4         27.4          0.0   \n",
       "4  2010-01-05     -3.5     -8.9      -6.2         24.2          0.0   \n",
       "\n",
       "   totalRainMM  totalSnowCM  totalPrecipMM  snowOnGroundCM  \\\n",
       "0          0.0         15.0            4.9             0.0   \n",
       "1          0.0          6.0            4.1            15.0   \n",
       "2          0.0          1.0            1.1            20.0   \n",
       "3          0.0          1.0            0.5            14.0   \n",
       "4          0.0          NaN            0.0            15.0   \n",
       "\n",
       "   dirOfMaxGust10sDEG  spdOfMaxGustKMH  \n",
       "0                 NaN              NaN  \n",
       "1                 NaN              NaN  \n",
       "2                 NaN              NaN  \n",
       "3                 NaN              NaN  \n",
       "4                 NaN              NaN  "
      ]
     },
     "execution_count": 63,
     "metadata": {},
     "output_type": "execute_result"
    }
   ],
   "source": [
    "# Save the data\n",
    "csv_name = \"../data/notebook1_weather_by_day_{}.csv\".format(by_date_df.index.max())\n",
    "by_date_df.to_csv(csv_name)\n",
    "by_date_df_csv = pd.read_csv(csv_name, date_parser=['date'])\n",
    "print(csv_name)\n",
    "print(by_date_df_csv.info())\n",
    "by_date_df_csv.head()"
   ]
  }
 ],
 "metadata": {
  "anaconda-cloud": {},
  "kernelspec": {
   "display_name": "Python [conda env:py35-ds]",
   "language": "python",
   "name": "conda-env-py35-ds-py"
  },
  "language_info": {
   "codemirror_mode": {
    "name": "ipython",
    "version": 3
   },
   "file_extension": ".py",
   "mimetype": "text/x-python",
   "name": "python",
   "nbconvert_exporter": "python",
   "pygments_lexer": "ipython3",
   "version": "3.5.2"
  }
 },
 "nbformat": 4,
 "nbformat_minor": 1
}
