{
 "cells": [
  {
   "cell_type": "code",
   "execution_count": 2,
   "metadata": {
    "collapsed": false
   },
   "outputs": [],
   "source": [
    "import pandas as pd\n",
    "import missingno as msno\n",
    "import seaborn as sns\n",
    "import matplotlib.pyplot as plt\n",
    "import numpy as np\n",
    "%matplotlib inline"
   ]
  },
  {
   "cell_type": "markdown",
   "metadata": {},
   "source": [
    "# The LondON Precipitation Project\n",
    "<hr />\n",
    "## 1.1 Project Goals\n",
    "The primary goal of this analysis is to answer the investigate question of whether or not London Ontario has experienced **more precipitation in 2017 than in other years**.  People  assume we've experienced more precipitation this year but there are no sources that I've come accross that quantitatively describe this year's overall precipitation.  While we could use statistical methods such as [t-tests](https://en.wikipedia.org/wiki/Student%27s_t-test) or [ANOVA](#http://vassarstats.net/textbook/ch13pt1.html), the analyis is limited to visualizations and summary statistics.  These methods will be sufficient in answering our primary research question of weather or not it has rained more this year than in previous years and by how much.\n",
    "\n",
    "The secondary goal is to create a model that captures the generative process of high-precipitation or rainy days that can be used to model the likelihood of observing N rain days in a seven day period.  In capturing how this weekly frequency changes over time, we can answer questions like \"Is it raining more frequently on a weekly basis?\" or \"What is the probability that it will rain 5/7 days next week?\"\n",
    "\n",
    "## 1.2 Data\n",
    "Climate Canada provides access to historical weather data via [[1]](http://climate.weather.gc.ca/historical_data/search_historic_data_e.html).  The data is produced by sensors at various weather station locations spread throughout the country.  A user can retrieve historical weather station data using a search system that accepts queries for station data by name, province, or proximity [FIGURE 1].  \n",
    "\n",
    "[FIGURE 1]\n",
    "\n",
    "After selecting a station, the user can request data at hourly, daily, or monthly intervals [FIGURE 2].  The availability for a particular interval varies accross stations; some stations are missing data entire months.  This analysis will focus on data from weather stations deployed in London Ontario, Canada so the search term used to find relevant stations and the associated data included only the keyword 'London'.  \n",
    "\n",
    "After using the Climate Canada web app to identify stations in London Ontario, only those with monthly data available for at least five years were considered for the analysis.  Monthly station data was retrieved from Climate Canada's web application using a Python program built using the web scraping framework Scrapy[[2]](#).  The program retrieves station data for each station for every month from January 1, 2012 to July 2, 2017 and generates a CSV file where each row represents a single observation for one of the three stations \n",
    "\n",
    "[FIGURE 2]\n",
    "\n",
    "Scraper code can be found in [[3]](#)."
   ]
  },
  {
   "cell_type": "code",
   "execution_count": 3,
   "metadata": {
    "collapsed": false
   },
   "outputs": [],
   "source": [
    "# Load daily weather data produced by web scraper\n",
    "dwd = pd.read_csv(\"../../data/daily_weather_2017_06_29.csv\")"
   ]
  },
  {
   "cell_type": "markdown",
   "metadata": {},
   "source": [
    "The variables include those listed below.  Full descriptions of the variables can be found at [[4](http://climate.weather.gc.ca/glossary_e.html)]."
   ]
  },
  {
   "cell_type": "code",
   "execution_count": 4,
   "metadata": {
    "collapsed": false
   },
   "outputs": [
    {
     "data": {
      "text/html": [
       "<div>\n",
       "<style>\n",
       "    .dataframe thead tr:only-child th {\n",
       "        text-align: right;\n",
       "    }\n",
       "\n",
       "    .dataframe thead th {\n",
       "        text-align: left;\n",
       "    }\n",
       "\n",
       "    .dataframe tbody tr th {\n",
       "        vertical-align: top;\n",
       "    }\n",
       "</style>\n",
       "<table border=\"1\" class=\"dataframe\">\n",
       "  <thead>\n",
       "    <tr style=\"text-align: right;\">\n",
       "      <th></th>\n",
       "    </tr>\n",
       "  </thead>\n",
       "  <tbody>\n",
       "    <tr>\n",
       "      <th>station</th>\n",
       "    </tr>\n",
       "    <tr>\n",
       "      <th>date</th>\n",
       "    </tr>\n",
       "    <tr>\n",
       "      <th>maxTemp</th>\n",
       "    </tr>\n",
       "    <tr>\n",
       "      <th>minTemp</th>\n",
       "    </tr>\n",
       "    <tr>\n",
       "      <th>meanTemp</th>\n",
       "    </tr>\n",
       "    <tr>\n",
       "      <th>heatDegDays</th>\n",
       "    </tr>\n",
       "    <tr>\n",
       "      <th>coolDegDays</th>\n",
       "    </tr>\n",
       "    <tr>\n",
       "      <th>totalRainMM</th>\n",
       "    </tr>\n",
       "    <tr>\n",
       "      <th>totalSnowCM</th>\n",
       "    </tr>\n",
       "    <tr>\n",
       "      <th>totalPrecipMM</th>\n",
       "    </tr>\n",
       "    <tr>\n",
       "      <th>snowOnGroundCM</th>\n",
       "    </tr>\n",
       "    <tr>\n",
       "      <th>dirOfMaxGust10sDEG</th>\n",
       "    </tr>\n",
       "    <tr>\n",
       "      <th>spdOfMaxGustKMH</th>\n",
       "    </tr>\n",
       "  </tbody>\n",
       "</table>\n",
       "</div>"
      ],
      "text/plain": [
       "Empty DataFrame\n",
       "Columns: []\n",
       "Index: [station, date, maxTemp, minTemp, meanTemp, heatDegDays, coolDegDays, totalRainMM, totalSnowCM, totalPrecipMM, snowOnGroundCM, dirOfMaxGust10sDEG, spdOfMaxGustKMH]"
      ]
     },
     "execution_count": 4,
     "metadata": {},
     "output_type": "execute_result"
    }
   ],
   "source": [
    "pd.DataFrame(index=dwd.describe().transpose().index)"
   ]
  },
  {
   "cell_type": "markdown",
   "metadata": {},
   "source": [
    "Look at the first few observations"
   ]
  },
  {
   "cell_type": "code",
   "execution_count": 5,
   "metadata": {
    "collapsed": false
   },
   "outputs": [
    {
     "data": {
      "text/html": [
       "<div>\n",
       "<style>\n",
       "    .dataframe thead tr:only-child th {\n",
       "        text-align: right;\n",
       "    }\n",
       "\n",
       "    .dataframe thead th {\n",
       "        text-align: left;\n",
       "    }\n",
       "\n",
       "    .dataframe tbody tr th {\n",
       "        vertical-align: top;\n",
       "    }\n",
       "</style>\n",
       "<table border=\"1\" class=\"dataframe\">\n",
       "  <thead>\n",
       "    <tr style=\"text-align: right;\">\n",
       "      <th></th>\n",
       "      <th>station</th>\n",
       "      <th>date</th>\n",
       "      <th>maxTemp</th>\n",
       "      <th>minTemp</th>\n",
       "      <th>meanTemp</th>\n",
       "      <th>heatDegDays</th>\n",
       "      <th>coolDegDays</th>\n",
       "      <th>totalRainMM</th>\n",
       "      <th>totalSnowCM</th>\n",
       "      <th>totalPrecipMM</th>\n",
       "      <th>snowOnGroundCM</th>\n",
       "      <th>dirOfMaxGust10sDEG</th>\n",
       "      <th>spdOfMaxGustKMH</th>\n",
       "    </tr>\n",
       "  </thead>\n",
       "  <tbody>\n",
       "    <tr>\n",
       "      <th>0</th>\n",
       "      <td>London A</td>\n",
       "      <td>2010-03-01</td>\n",
       "      <td></td>\n",
       "      <td></td>\n",
       "      <td></td>\n",
       "      <td></td>\n",
       "      <td></td>\n",
       "      <td></td>\n",
       "      <td></td>\n",
       "      <td></td>\n",
       "      <td></td>\n",
       "      <td></td>\n",
       "      <td></td>\n",
       "    </tr>\n",
       "    <tr>\n",
       "      <th>1</th>\n",
       "      <td>London A</td>\n",
       "      <td>2010-03-02</td>\n",
       "      <td></td>\n",
       "      <td></td>\n",
       "      <td></td>\n",
       "      <td></td>\n",
       "      <td></td>\n",
       "      <td></td>\n",
       "      <td></td>\n",
       "      <td></td>\n",
       "      <td></td>\n",
       "      <td></td>\n",
       "      <td></td>\n",
       "    </tr>\n",
       "    <tr>\n",
       "      <th>2</th>\n",
       "      <td>London A</td>\n",
       "      <td>2010-03-03</td>\n",
       "      <td></td>\n",
       "      <td></td>\n",
       "      <td></td>\n",
       "      <td></td>\n",
       "      <td></td>\n",
       "      <td></td>\n",
       "      <td></td>\n",
       "      <td></td>\n",
       "      <td></td>\n",
       "      <td></td>\n",
       "      <td></td>\n",
       "    </tr>\n",
       "    <tr>\n",
       "      <th>3</th>\n",
       "      <td>London A</td>\n",
       "      <td>2010-03-04</td>\n",
       "      <td></td>\n",
       "      <td></td>\n",
       "      <td></td>\n",
       "      <td></td>\n",
       "      <td></td>\n",
       "      <td></td>\n",
       "      <td></td>\n",
       "      <td></td>\n",
       "      <td></td>\n",
       "      <td></td>\n",
       "      <td></td>\n",
       "    </tr>\n",
       "    <tr>\n",
       "      <th>4</th>\n",
       "      <td>London A</td>\n",
       "      <td>2010-03-05</td>\n",
       "      <td></td>\n",
       "      <td></td>\n",
       "      <td></td>\n",
       "      <td></td>\n",
       "      <td></td>\n",
       "      <td></td>\n",
       "      <td></td>\n",
       "      <td></td>\n",
       "      <td></td>\n",
       "      <td></td>\n",
       "      <td></td>\n",
       "    </tr>\n",
       "  </tbody>\n",
       "</table>\n",
       "</div>"
      ],
      "text/plain": [
       "    station        date maxTemp minTemp meanTemp heatDegDays coolDegDays  \\\n",
       "0  London A  2010-03-01                                                    \n",
       "1  London A  2010-03-02                                                    \n",
       "2  London A  2010-03-03                                                    \n",
       "3  London A  2010-03-04                                                    \n",
       "4  London A  2010-03-05                                                    \n",
       "\n",
       "  totalRainMM totalSnowCM totalPrecipMM snowOnGroundCM dirOfMaxGust10sDEG  \\\n",
       "0                                                                           \n",
       "1                                                                           \n",
       "2                                                                           \n",
       "3                                                                           \n",
       "4                                                                           \n",
       "\n",
       "  spdOfMaxGustKMH  \n",
       "0                  \n",
       "1                  \n",
       "2                  \n",
       "3                  \n",
       "4                  "
      ]
     },
     "execution_count": 5,
     "metadata": {},
     "output_type": "execute_result"
    }
   ],
   "source": [
    "dwd.head()"
   ]
  },
  {
   "cell_type": "code",
   "execution_count": 6,
   "metadata": {
    "collapsed": false
   },
   "outputs": [
    {
     "data": {
      "text/plain": [
       "(6133, 13)"
      ]
     },
     "execution_count": 6,
     "metadata": {},
     "output_type": "execute_result"
    }
   ],
   "source": [
    "dwd.shape"
   ]
  },
  {
   "cell_type": "markdown",
   "metadata": {},
   "source": [
    "6133 observatiions, 13 variables"
   ]
  },
  {
   "cell_type": "code",
   "execution_count": 7,
   "metadata": {
    "collapsed": false
   },
   "outputs": [
    {
     "name": "stdout",
     "output_type": "stream",
     "text": [
      "<class 'pandas.core.frame.DataFrame'>\n",
      "RangeIndex: 6133 entries, 0 to 6132\n",
      "Data columns (total 13 columns):\n",
      "station               6133 non-null object\n",
      "date                  6133 non-null object\n",
      "maxTemp               6107 non-null object\n",
      "minTemp               6116 non-null object\n",
      "meanTemp              6096 non-null object\n",
      "heatDegDays           6096 non-null object\n",
      "coolDegDays           6096 non-null object\n",
      "totalRainMM           1458 non-null object\n",
      "totalSnowCM           1296 non-null object\n",
      "totalPrecipMM         3981 non-null object\n",
      "snowOnGroundCM        5970 non-null object\n",
      "dirOfMaxGust10sDEG    3404 non-null object\n",
      "spdOfMaxGustKMH       3404 non-null object\n",
      "dtypes: object(13)\n",
      "memory usage: 623.0+ KB\n"
     ]
    }
   ],
   "source": [
    "dwd.info()"
   ]
  },
  {
   "cell_type": "markdown",
   "metadata": {},
   "source": [
    "We need to create the appropriate data types"
   ]
  },
  {
   "cell_type": "markdown",
   "metadata": {},
   "source": [
    "## 1.3 Data Prep"
   ]
  },
  {
   "cell_type": "code",
   "execution_count": 20,
   "metadata": {
    "collapsed": true
   },
   "outputs": [],
   "source": [
    "# Discrete columns\n",
    "disc = ['station', 'date']"
   ]
  },
  {
   "cell_type": "code",
   "execution_count": 28,
   "metadata": {
    "collapsed": false
   },
   "outputs": [],
   "source": [
    "# Continuous data with empty values replaced with None\n",
    "data_cont = pd.DataFrame.replace(\n",
    "  pd.DataFrame(dwd[dwd.columns.drop(disc)]),\n",
    "  [\"\\xa0\", \"<31\"],\n",
    "  [\"NaN\", 31]).astype(float)\n",
    "data_disc = dwd[disc]"
   ]
  },
  {
   "cell_type": "markdown",
   "metadata": {},
   "source": [
    "Discrete"
   ]
  },
  {
   "cell_type": "code",
   "execution_count": 29,
   "metadata": {
    "collapsed": false
   },
   "outputs": [
    {
     "data": {
      "text/html": [
       "<div>\n",
       "<style>\n",
       "    .dataframe thead tr:only-child th {\n",
       "        text-align: right;\n",
       "    }\n",
       "\n",
       "    .dataframe thead th {\n",
       "        text-align: left;\n",
       "    }\n",
       "\n",
       "    .dataframe tbody tr th {\n",
       "        vertical-align: top;\n",
       "    }\n",
       "</style>\n",
       "<table border=\"1\" class=\"dataframe\">\n",
       "  <thead>\n",
       "    <tr style=\"text-align: right;\">\n",
       "      <th></th>\n",
       "    </tr>\n",
       "  </thead>\n",
       "  <tbody>\n",
       "    <tr>\n",
       "      <th>station</th>\n",
       "    </tr>\n",
       "    <tr>\n",
       "      <th>date</th>\n",
       "    </tr>\n",
       "  </tbody>\n",
       "</table>\n",
       "</div>"
      ],
      "text/plain": [
       "Empty DataFrame\n",
       "Columns: []\n",
       "Index: [station, date]"
      ]
     },
     "execution_count": 29,
     "metadata": {},
     "output_type": "execute_result"
    }
   ],
   "source": [
    "pd.DataFrame(index=disc)"
   ]
  },
  {
   "cell_type": "markdown",
   "metadata": {},
   "source": [
    "Continuous"
   ]
  },
  {
   "cell_type": "code",
   "execution_count": 30,
   "metadata": {
    "collapsed": false
   },
   "outputs": [
    {
     "data": {
      "text/html": [
       "<div>\n",
       "<style>\n",
       "    .dataframe thead tr:only-child th {\n",
       "        text-align: right;\n",
       "    }\n",
       "\n",
       "    .dataframe thead th {\n",
       "        text-align: left;\n",
       "    }\n",
       "\n",
       "    .dataframe tbody tr th {\n",
       "        vertical-align: top;\n",
       "    }\n",
       "</style>\n",
       "<table border=\"1\" class=\"dataframe\">\n",
       "  <thead>\n",
       "    <tr style=\"text-align: right;\">\n",
       "      <th></th>\n",
       "    </tr>\n",
       "  </thead>\n",
       "  <tbody>\n",
       "    <tr>\n",
       "      <th>maxTemp</th>\n",
       "    </tr>\n",
       "    <tr>\n",
       "      <th>minTemp</th>\n",
       "    </tr>\n",
       "    <tr>\n",
       "      <th>meanTemp</th>\n",
       "    </tr>\n",
       "    <tr>\n",
       "      <th>heatDegDays</th>\n",
       "    </tr>\n",
       "    <tr>\n",
       "      <th>coolDegDays</th>\n",
       "    </tr>\n",
       "    <tr>\n",
       "      <th>totalRainMM</th>\n",
       "    </tr>\n",
       "    <tr>\n",
       "      <th>totalSnowCM</th>\n",
       "    </tr>\n",
       "    <tr>\n",
       "      <th>totalPrecipMM</th>\n",
       "    </tr>\n",
       "    <tr>\n",
       "      <th>snowOnGroundCM</th>\n",
       "    </tr>\n",
       "    <tr>\n",
       "      <th>dirOfMaxGust10sDEG</th>\n",
       "    </tr>\n",
       "    <tr>\n",
       "      <th>spdOfMaxGustKMH</th>\n",
       "    </tr>\n",
       "  </tbody>\n",
       "</table>\n",
       "</div>"
      ],
      "text/plain": [
       "Empty DataFrame\n",
       "Columns: []\n",
       "Index: [maxTemp, minTemp, meanTemp, heatDegDays, coolDegDays, totalRainMM, totalSnowCM, totalPrecipMM, snowOnGroundCM, dirOfMaxGust10sDEG, spdOfMaxGustKMH]"
      ]
     },
     "execution_count": 30,
     "metadata": {},
     "output_type": "execute_result"
    }
   ],
   "source": [
    "pd.DataFrame(index=data_cont.columns)"
   ]
  },
  {
   "cell_type": "markdown",
   "metadata": {},
   "source": [
    "Final dataset"
   ]
  },
  {
   "cell_type": "code",
   "execution_count": 31,
   "metadata": {
    "collapsed": true
   },
   "outputs": [],
   "source": [
    "df = pd.concat([data_cont, data_disc], axis=1)"
   ]
  },
  {
   "cell_type": "code",
   "execution_count": 33,
   "metadata": {
    "collapsed": false
   },
   "outputs": [
    {
     "data": {
      "text/html": [
       "<div>\n",
       "<style>\n",
       "    .dataframe thead tr:only-child th {\n",
       "        text-align: right;\n",
       "    }\n",
       "\n",
       "    .dataframe thead th {\n",
       "        text-align: left;\n",
       "    }\n",
       "\n",
       "    .dataframe tbody tr th {\n",
       "        vertical-align: top;\n",
       "    }\n",
       "</style>\n",
       "<table border=\"1\" class=\"dataframe\">\n",
       "  <thead>\n",
       "    <tr style=\"text-align: right;\">\n",
       "      <th></th>\n",
       "      <th>count</th>\n",
       "      <th>mean</th>\n",
       "      <th>std</th>\n",
       "      <th>min</th>\n",
       "      <th>25%</th>\n",
       "      <th>50%</th>\n",
       "      <th>75%</th>\n",
       "      <th>max</th>\n",
       "    </tr>\n",
       "  </thead>\n",
       "  <tbody>\n",
       "    <tr>\n",
       "      <th>maxTemp</th>\n",
       "      <td>4640.0</td>\n",
       "      <td>13.308922</td>\n",
       "      <td>11.621668</td>\n",
       "      <td>-19.0</td>\n",
       "      <td>3.6</td>\n",
       "      <td>14.4</td>\n",
       "      <td>23.7</td>\n",
       "      <td>36.7</td>\n",
       "    </tr>\n",
       "    <tr>\n",
       "      <th>minTemp</th>\n",
       "      <td>4649.0</td>\n",
       "      <td>3.298688</td>\n",
       "      <td>10.096734</td>\n",
       "      <td>-30.5</td>\n",
       "      <td>-3.3</td>\n",
       "      <td>3.4</td>\n",
       "      <td>11.5</td>\n",
       "      <td>24.6</td>\n",
       "    </tr>\n",
       "    <tr>\n",
       "      <th>meanTemp</th>\n",
       "      <td>4629.0</td>\n",
       "      <td>8.314798</td>\n",
       "      <td>10.714802</td>\n",
       "      <td>-24.5</td>\n",
       "      <td>0.2</td>\n",
       "      <td>8.9</td>\n",
       "      <td>17.6</td>\n",
       "      <td>30.7</td>\n",
       "    </tr>\n",
       "    <tr>\n",
       "      <th>heatDegDays</th>\n",
       "      <td>4629.0</td>\n",
       "      <td>10.477641</td>\n",
       "      <td>9.741885</td>\n",
       "      <td>0.0</td>\n",
       "      <td>0.4</td>\n",
       "      <td>9.1</td>\n",
       "      <td>17.8</td>\n",
       "      <td>42.5</td>\n",
       "    </tr>\n",
       "    <tr>\n",
       "      <th>coolDegDays</th>\n",
       "      <td>4629.0</td>\n",
       "      <td>0.792439</td>\n",
       "      <td>1.814742</td>\n",
       "      <td>0.0</td>\n",
       "      <td>0.0</td>\n",
       "      <td>0.0</td>\n",
       "      <td>0.0</td>\n",
       "      <td>12.7</td>\n",
       "    </tr>\n",
       "    <tr>\n",
       "      <th>totalRainMM</th>\n",
       "      <td>1243.0</td>\n",
       "      <td>1.555591</td>\n",
       "      <td>4.482425</td>\n",
       "      <td>0.0</td>\n",
       "      <td>0.0</td>\n",
       "      <td>0.0</td>\n",
       "      <td>0.0</td>\n",
       "      <td>39.3</td>\n",
       "    </tr>\n",
       "    <tr>\n",
       "      <th>totalSnowCM</th>\n",
       "      <td>1081.0</td>\n",
       "      <td>1.289917</td>\n",
       "      <td>3.106823</td>\n",
       "      <td>0.0</td>\n",
       "      <td>0.0</td>\n",
       "      <td>0.0</td>\n",
       "      <td>1.0</td>\n",
       "      <td>35.0</td>\n",
       "    </tr>\n",
       "    <tr>\n",
       "      <th>totalPrecipMM</th>\n",
       "      <td>3766.0</td>\n",
       "      <td>2.702045</td>\n",
       "      <td>5.978572</td>\n",
       "      <td>0.0</td>\n",
       "      <td>0.0</td>\n",
       "      <td>0.0</td>\n",
       "      <td>2.5</td>\n",
       "      <td>69.7</td>\n",
       "    </tr>\n",
       "    <tr>\n",
       "      <th>snowOnGroundCM</th>\n",
       "      <td>1553.0</td>\n",
       "      <td>7.864134</td>\n",
       "      <td>10.661628</td>\n",
       "      <td>0.0</td>\n",
       "      <td>0.0</td>\n",
       "      <td>3.0</td>\n",
       "      <td>11.0</td>\n",
       "      <td>59.0</td>\n",
       "    </tr>\n",
       "    <tr>\n",
       "      <th>dirOfMaxGust10sDEG</th>\n",
       "      <td>124.0</td>\n",
       "      <td>20.459677</td>\n",
       "      <td>10.283303</td>\n",
       "      <td>1.0</td>\n",
       "      <td>13.0</td>\n",
       "      <td>20.0</td>\n",
       "      <td>30.0</td>\n",
       "      <td>36.0</td>\n",
       "    </tr>\n",
       "    <tr>\n",
       "      <th>spdOfMaxGustKMH</th>\n",
       "      <td>1937.0</td>\n",
       "      <td>31.853382</td>\n",
       "      <td>4.192696</td>\n",
       "      <td>31.0</td>\n",
       "      <td>31.0</td>\n",
       "      <td>31.0</td>\n",
       "      <td>31.0</td>\n",
       "      <td>96.0</td>\n",
       "    </tr>\n",
       "  </tbody>\n",
       "</table>\n",
       "</div>"
      ],
      "text/plain": [
       "                     count       mean        std   min   25%   50%   75%   max\n",
       "maxTemp             4640.0  13.308922  11.621668 -19.0   3.6  14.4  23.7  36.7\n",
       "minTemp             4649.0   3.298688  10.096734 -30.5  -3.3   3.4  11.5  24.6\n",
       "meanTemp            4629.0   8.314798  10.714802 -24.5   0.2   8.9  17.6  30.7\n",
       "heatDegDays         4629.0  10.477641   9.741885   0.0   0.4   9.1  17.8  42.5\n",
       "coolDegDays         4629.0   0.792439   1.814742   0.0   0.0   0.0   0.0  12.7\n",
       "totalRainMM         1243.0   1.555591   4.482425   0.0   0.0   0.0   0.0  39.3\n",
       "totalSnowCM         1081.0   1.289917   3.106823   0.0   0.0   0.0   1.0  35.0\n",
       "totalPrecipMM       3766.0   2.702045   5.978572   0.0   0.0   0.0   2.5  69.7\n",
       "snowOnGroundCM      1553.0   7.864134  10.661628   0.0   0.0   3.0  11.0  59.0\n",
       "dirOfMaxGust10sDEG   124.0  20.459677  10.283303   1.0  13.0  20.0  30.0  36.0\n",
       "spdOfMaxGustKMH     1937.0  31.853382   4.192696  31.0  31.0  31.0  31.0  96.0"
      ]
     },
     "execution_count": 33,
     "metadata": {},
     "output_type": "execute_result"
    }
   ],
   "source": [
    "df.describe().transpose()"
   ]
  },
  {
   "cell_type": "code",
   "execution_count": 34,
   "metadata": {
    "collapsed": false
   },
   "outputs": [
    {
     "data": {
      "text/plain": [
       "maxTemp               1493\n",
       "minTemp               1484\n",
       "meanTemp              1504\n",
       "heatDegDays           1504\n",
       "coolDegDays           1504\n",
       "totalRainMM           4890\n",
       "totalSnowCM           5052\n",
       "totalPrecipMM         2367\n",
       "snowOnGroundCM        4580\n",
       "dirOfMaxGust10sDEG    6009\n",
       "spdOfMaxGustKMH       4196\n",
       "station                  0\n",
       "date                     0\n",
       "dtype: int64"
      ]
     },
     "execution_count": 34,
     "metadata": {},
     "output_type": "execute_result"
    }
   ],
   "source": [
    "df.isnull().sum()"
   ]
  },
  {
   "cell_type": "markdown",
   "metadata": {},
   "source": [
    "Missing values by station"
   ]
  },
  {
   "cell_type": "code",
   "execution_count": 35,
   "metadata": {
    "collapsed": false
   },
   "outputs": [
    {
     "data": {
      "text/html": [
       "<div>\n",
       "<style>\n",
       "    .dataframe thead tr:only-child th {\n",
       "        text-align: right;\n",
       "    }\n",
       "\n",
       "    .dataframe thead th {\n",
       "        text-align: left;\n",
       "    }\n",
       "\n",
       "    .dataframe tbody tr th {\n",
       "        vertical-align: top;\n",
       "    }\n",
       "</style>\n",
       "<table border=\"1\" class=\"dataframe\">\n",
       "  <thead>\n",
       "    <tr style=\"text-align: right;\">\n",
       "      <th></th>\n",
       "      <th>maxTemp</th>\n",
       "      <th>minTemp</th>\n",
       "      <th>meanTemp</th>\n",
       "      <th>heatDegDays</th>\n",
       "      <th>coolDegDays</th>\n",
       "      <th>totalRainMM</th>\n",
       "      <th>totalSnowCM</th>\n",
       "      <th>totalPrecipMM</th>\n",
       "      <th>snowOnGroundCM</th>\n",
       "      <th>dirOfMaxGust10sDEG</th>\n",
       "      <th>spdOfMaxGustKMH</th>\n",
       "      <th>station</th>\n",
       "      <th>date</th>\n",
       "    </tr>\n",
       "    <tr>\n",
       "      <th>station</th>\n",
       "      <th></th>\n",
       "      <th></th>\n",
       "      <th></th>\n",
       "      <th></th>\n",
       "      <th></th>\n",
       "      <th></th>\n",
       "      <th></th>\n",
       "      <th></th>\n",
       "      <th></th>\n",
       "      <th></th>\n",
       "      <th></th>\n",
       "      <th></th>\n",
       "      <th></th>\n",
       "    </tr>\n",
       "  </thead>\n",
       "  <tbody>\n",
       "    <tr>\n",
       "      <th>London A</th>\n",
       "      <td>75</td>\n",
       "      <td>74</td>\n",
       "      <td>77</td>\n",
       "      <td>77</td>\n",
       "      <td>77</td>\n",
       "      <td>2008</td>\n",
       "      <td>2008</td>\n",
       "      <td>2008</td>\n",
       "      <td>2008</td>\n",
       "      <td>1884</td>\n",
       "      <td>78</td>\n",
       "      <td>0</td>\n",
       "      <td>0</td>\n",
       "    </tr>\n",
       "    <tr>\n",
       "      <th>London Airport</th>\n",
       "      <td>1389</td>\n",
       "      <td>1389</td>\n",
       "      <td>1389</td>\n",
       "      <td>1389</td>\n",
       "      <td>1389</td>\n",
       "      <td>182</td>\n",
       "      <td>308</td>\n",
       "      <td>301</td>\n",
       "      <td>210</td>\n",
       "      <td>1389</td>\n",
       "      <td>1389</td>\n",
       "      <td>0</td>\n",
       "      <td>0</td>\n",
       "    </tr>\n",
       "    <tr>\n",
       "      <th>London CS</th>\n",
       "      <td>29</td>\n",
       "      <td>21</td>\n",
       "      <td>38</td>\n",
       "      <td>38</td>\n",
       "      <td>38</td>\n",
       "      <td>2700</td>\n",
       "      <td>2736</td>\n",
       "      <td>58</td>\n",
       "      <td>2362</td>\n",
       "      <td>2736</td>\n",
       "      <td>2729</td>\n",
       "      <td>0</td>\n",
       "      <td>0</td>\n",
       "    </tr>\n",
       "  </tbody>\n",
       "</table>\n",
       "</div>"
      ],
      "text/plain": [
       "                maxTemp  minTemp  meanTemp  heatDegDays  coolDegDays  \\\n",
       "station                                                                \n",
       "London A             75       74        77           77           77   \n",
       "London Airport     1389     1389      1389         1389         1389   \n",
       "London CS            29       21        38           38           38   \n",
       "\n",
       "                totalRainMM  totalSnowCM  totalPrecipMM  snowOnGroundCM  \\\n",
       "station                                                                   \n",
       "London A               2008         2008           2008            2008   \n",
       "London Airport          182          308            301             210   \n",
       "London CS              2700         2736             58            2362   \n",
       "\n",
       "                dirOfMaxGust10sDEG  spdOfMaxGustKMH  station  date  \n",
       "station                                                             \n",
       "London A                      1884               78        0     0  \n",
       "London Airport                1389             1389        0     0  \n",
       "London CS                     2736             2729        0     0  "
      ]
     },
     "execution_count": 35,
     "metadata": {},
     "output_type": "execute_result"
    }
   ],
   "source": [
    "df.groupby('station').apply(lambda x: pd.isnull(x).sum())"
   ]
  },
  {
   "cell_type": "markdown",
   "metadata": {},
   "source": [
    "## 1.4 Missing Data"
   ]
  },
  {
   "cell_type": "code",
   "execution_count": 42,
   "metadata": {
    "collapsed": false
   },
   "outputs": [
    {
     "data": {
      "image/png": "[encoded data removed]",
      "text/plain": [
       "<matplotlib.figure.Figure at 0x113291c88>"
      ]
     },
     "metadata": {},
     "output_type": "display_data"
    }
   ],
   "source": [
    "_ = sns.heatmap((df.groupby('station').apply(lambda x: pd.isnull(x).sum()) / df.shape[0]).transpose())\n",
    "_.set_title(\"Percent of Missing Data\");\n",
    "_.set_ylabel(\"Measurement\");"
   ]
  },
  {
   "cell_type": "markdown",
   "metadata": {},
   "source": [
    "* **London A** is missing precipitation data but not much else\n",
    "* **London Airport** is missing temperature and wind data but has most complete rain data\n",
    "* **London CS** is missing significant wind, rain, and snow measurements\n",
    "\n",
    "The only variable we don't have significant sensor coverage for is `dirOfMaxGust10sDEG`.  With a sufficient amount of available data from a combination of the three stations we can use an average to produce daily observations."
   ]
  },
  {
   "cell_type": "markdown",
   "metadata": {},
   "source": [
    "## 1.5 Daily Observation Data\n",
    "Each daily set of observations from the three sensors will produce average measurements that will be used throughout the rest of this analysis."
   ]
  },
  {
   "cell_type": "code",
   "execution_count": 43,
   "metadata": {
    "collapsed": false
   },
   "outputs": [
    {
     "data": {
      "text/html": [
       "<div>\n",
       "<style>\n",
       "    .dataframe thead tr:only-child th {\n",
       "        text-align: right;\n",
       "    }\n",
       "\n",
       "    .dataframe thead th {\n",
       "        text-align: left;\n",
       "    }\n",
       "\n",
       "    .dataframe tbody tr th {\n",
       "        vertical-align: top;\n",
       "    }\n",
       "</style>\n",
       "<table border=\"1\" class=\"dataframe\">\n",
       "  <thead>\n",
       "    <tr style=\"text-align: right;\">\n",
       "      <th></th>\n",
       "      <th>maxTemp</th>\n",
       "      <th>minTemp</th>\n",
       "      <th>meanTemp</th>\n",
       "      <th>heatDegDays</th>\n",
       "      <th>coolDegDays</th>\n",
       "      <th>totalRainMM</th>\n",
       "      <th>totalSnowCM</th>\n",
       "      <th>totalPrecipMM</th>\n",
       "      <th>snowOnGroundCM</th>\n",
       "      <th>dirOfMaxGust10sDEG</th>\n",
       "      <th>spdOfMaxGustKMH</th>\n",
       "    </tr>\n",
       "    <tr>\n",
       "      <th>date</th>\n",
       "      <th></th>\n",
       "      <th></th>\n",
       "      <th></th>\n",
       "      <th></th>\n",
       "      <th></th>\n",
       "      <th></th>\n",
       "      <th></th>\n",
       "      <th></th>\n",
       "      <th></th>\n",
       "      <th></th>\n",
       "      <th></th>\n",
       "    </tr>\n",
       "  </thead>\n",
       "  <tbody>\n",
       "    <tr>\n",
       "      <th>2010-01-01</th>\n",
       "      <td>0.0</td>\n",
       "      <td>-9.2</td>\n",
       "      <td>-4.6</td>\n",
       "      <td>22.6</td>\n",
       "      <td>0.0</td>\n",
       "      <td>0.0</td>\n",
       "      <td>15.0</td>\n",
       "      <td>4.9</td>\n",
       "      <td>0.0</td>\n",
       "      <td>NaN</td>\n",
       "      <td>NaN</td>\n",
       "    </tr>\n",
       "    <tr>\n",
       "      <th>2010-01-02</th>\n",
       "      <td>-9.2</td>\n",
       "      <td>-14.1</td>\n",
       "      <td>-11.7</td>\n",
       "      <td>29.7</td>\n",
       "      <td>0.0</td>\n",
       "      <td>0.0</td>\n",
       "      <td>6.0</td>\n",
       "      <td>4.1</td>\n",
       "      <td>15.0</td>\n",
       "      <td>NaN</td>\n",
       "      <td>NaN</td>\n",
       "    </tr>\n",
       "    <tr>\n",
       "      <th>2010-01-03</th>\n",
       "      <td>-5.6</td>\n",
       "      <td>-12.6</td>\n",
       "      <td>-9.1</td>\n",
       "      <td>27.1</td>\n",
       "      <td>0.0</td>\n",
       "      <td>0.0</td>\n",
       "      <td>1.0</td>\n",
       "      <td>1.1</td>\n",
       "      <td>20.0</td>\n",
       "      <td>NaN</td>\n",
       "      <td>NaN</td>\n",
       "    </tr>\n",
       "    <tr>\n",
       "      <th>2010-01-04</th>\n",
       "      <td>-7.5</td>\n",
       "      <td>-11.2</td>\n",
       "      <td>-9.4</td>\n",
       "      <td>27.4</td>\n",
       "      <td>0.0</td>\n",
       "      <td>0.0</td>\n",
       "      <td>1.0</td>\n",
       "      <td>0.5</td>\n",
       "      <td>14.0</td>\n",
       "      <td>NaN</td>\n",
       "      <td>NaN</td>\n",
       "    </tr>\n",
       "    <tr>\n",
       "      <th>2010-01-05</th>\n",
       "      <td>-3.5</td>\n",
       "      <td>-8.9</td>\n",
       "      <td>-6.2</td>\n",
       "      <td>24.2</td>\n",
       "      <td>0.0</td>\n",
       "      <td>0.0</td>\n",
       "      <td>NaN</td>\n",
       "      <td>0.0</td>\n",
       "      <td>15.0</td>\n",
       "      <td>NaN</td>\n",
       "      <td>NaN</td>\n",
       "    </tr>\n",
       "  </tbody>\n",
       "</table>\n",
       "</div>"
      ],
      "text/plain": [
       "            maxTemp  minTemp  meanTemp  heatDegDays  coolDegDays  totalRainMM  \\\n",
       "date                                                                            \n",
       "2010-01-01      0.0     -9.2      -4.6         22.6          0.0          0.0   \n",
       "2010-01-02     -9.2    -14.1     -11.7         29.7          0.0          0.0   \n",
       "2010-01-03     -5.6    -12.6      -9.1         27.1          0.0          0.0   \n",
       "2010-01-04     -7.5    -11.2      -9.4         27.4          0.0          0.0   \n",
       "2010-01-05     -3.5     -8.9      -6.2         24.2          0.0          0.0   \n",
       "\n",
       "            totalSnowCM  totalPrecipMM  snowOnGroundCM  dirOfMaxGust10sDEG  \\\n",
       "date                                                                         \n",
       "2010-01-01         15.0            4.9             0.0                 NaN   \n",
       "2010-01-02          6.0            4.1            15.0                 NaN   \n",
       "2010-01-03          1.0            1.1            20.0                 NaN   \n",
       "2010-01-04          1.0            0.5            14.0                 NaN   \n",
       "2010-01-05          NaN            0.0            15.0                 NaN   \n",
       "\n",
       "            spdOfMaxGustKMH  \n",
       "date                         \n",
       "2010-01-01              NaN  \n",
       "2010-01-02              NaN  \n",
       "2010-01-03              NaN  \n",
       "2010-01-04              NaN  \n",
       "2010-01-05              NaN  "
      ]
     },
     "execution_count": 43,
     "metadata": {},
     "output_type": "execute_result"
    }
   ],
   "source": [
    "by_date_df = df.groupby('date').mean()\n",
    "by_date_df.head()"
   ]
  },
  {
   "cell_type": "code",
   "execution_count": 44,
   "metadata": {
    "collapsed": false
   },
   "outputs": [
    {
     "name": "stdout",
     "output_type": "stream",
     "text": [
      "<class 'pandas.core.frame.DataFrame'>\n",
      "RangeIndex: 2736 entries, 0 to 2735\n",
      "Data columns (total 12 columns):\n",
      "date                  2736 non-null object\n",
      "maxTemp               2735 non-null float64\n",
      "minTemp               2736 non-null float64\n",
      "meanTemp              2735 non-null float64\n",
      "heatDegDays           2735 non-null float64\n",
      "coolDegDays           2735 non-null float64\n",
      "totalRainMM           1208 non-null float64\n",
      "totalSnowCM           1081 non-null float64\n",
      "totalPrecipMM         2697 non-null float64\n",
      "snowOnGroundCM        1201 non-null float64\n",
      "dirOfMaxGust10sDEG    124 non-null float64\n",
      "spdOfMaxGustKMH       1930 non-null float64\n",
      "dtypes: float64(11), object(1)\n",
      "memory usage: 256.6+ KB\n",
      "None\n"
     ]
    },
    {
     "data": {
      "text/html": [
       "<div>\n",
       "<style>\n",
       "    .dataframe thead tr:only-child th {\n",
       "        text-align: right;\n",
       "    }\n",
       "\n",
       "    .dataframe thead th {\n",
       "        text-align: left;\n",
       "    }\n",
       "\n",
       "    .dataframe tbody tr th {\n",
       "        vertical-align: top;\n",
       "    }\n",
       "</style>\n",
       "<table border=\"1\" class=\"dataframe\">\n",
       "  <thead>\n",
       "    <tr style=\"text-align: right;\">\n",
       "      <th></th>\n",
       "      <th>date</th>\n",
       "      <th>maxTemp</th>\n",
       "      <th>minTemp</th>\n",
       "      <th>meanTemp</th>\n",
       "      <th>heatDegDays</th>\n",
       "      <th>coolDegDays</th>\n",
       "      <th>totalRainMM</th>\n",
       "      <th>totalSnowCM</th>\n",
       "      <th>totalPrecipMM</th>\n",
       "      <th>snowOnGroundCM</th>\n",
       "      <th>dirOfMaxGust10sDEG</th>\n",
       "      <th>spdOfMaxGustKMH</th>\n",
       "    </tr>\n",
       "  </thead>\n",
       "  <tbody>\n",
       "    <tr>\n",
       "      <th>0</th>\n",
       "      <td>2010-01-01</td>\n",
       "      <td>0.0</td>\n",
       "      <td>-9.2</td>\n",
       "      <td>-4.6</td>\n",
       "      <td>22.6</td>\n",
       "      <td>0.0</td>\n",
       "      <td>0.0</td>\n",
       "      <td>15.0</td>\n",
       "      <td>4.9</td>\n",
       "      <td>0.0</td>\n",
       "      <td>NaN</td>\n",
       "      <td>NaN</td>\n",
       "    </tr>\n",
       "    <tr>\n",
       "      <th>1</th>\n",
       "      <td>2010-01-02</td>\n",
       "      <td>-9.2</td>\n",
       "      <td>-14.1</td>\n",
       "      <td>-11.7</td>\n",
       "      <td>29.7</td>\n",
       "      <td>0.0</td>\n",
       "      <td>0.0</td>\n",
       "      <td>6.0</td>\n",
       "      <td>4.1</td>\n",
       "      <td>15.0</td>\n",
       "      <td>NaN</td>\n",
       "      <td>NaN</td>\n",
       "    </tr>\n",
       "    <tr>\n",
       "      <th>2</th>\n",
       "      <td>2010-01-03</td>\n",
       "      <td>-5.6</td>\n",
       "      <td>-12.6</td>\n",
       "      <td>-9.1</td>\n",
       "      <td>27.1</td>\n",
       "      <td>0.0</td>\n",
       "      <td>0.0</td>\n",
       "      <td>1.0</td>\n",
       "      <td>1.1</td>\n",
       "      <td>20.0</td>\n",
       "      <td>NaN</td>\n",
       "      <td>NaN</td>\n",
       "    </tr>\n",
       "    <tr>\n",
       "      <th>3</th>\n",
       "      <td>2010-01-04</td>\n",
       "      <td>-7.5</td>\n",
       "      <td>-11.2</td>\n",
       "      <td>-9.4</td>\n",
       "      <td>27.4</td>\n",
       "      <td>0.0</td>\n",
       "      <td>0.0</td>\n",
       "      <td>1.0</td>\n",
       "      <td>0.5</td>\n",
       "      <td>14.0</td>\n",
       "      <td>NaN</td>\n",
       "      <td>NaN</td>\n",
       "    </tr>\n",
       "    <tr>\n",
       "      <th>4</th>\n",
       "      <td>2010-01-05</td>\n",
       "      <td>-3.5</td>\n",
       "      <td>-8.9</td>\n",
       "      <td>-6.2</td>\n",
       "      <td>24.2</td>\n",
       "      <td>0.0</td>\n",
       "      <td>0.0</td>\n",
       "      <td>NaN</td>\n",
       "      <td>0.0</td>\n",
       "      <td>15.0</td>\n",
       "      <td>NaN</td>\n",
       "      <td>NaN</td>\n",
       "    </tr>\n",
       "  </tbody>\n",
       "</table>\n",
       "</div>"
      ],
      "text/plain": [
       "         date  maxTemp  minTemp  meanTemp  heatDegDays  coolDegDays  \\\n",
       "0  2010-01-01      0.0     -9.2      -4.6         22.6          0.0   \n",
       "1  2010-01-02     -9.2    -14.1     -11.7         29.7          0.0   \n",
       "2  2010-01-03     -5.6    -12.6      -9.1         27.1          0.0   \n",
       "3  2010-01-04     -7.5    -11.2      -9.4         27.4          0.0   \n",
       "4  2010-01-05     -3.5     -8.9      -6.2         24.2          0.0   \n",
       "\n",
       "   totalRainMM  totalSnowCM  totalPrecipMM  snowOnGroundCM  \\\n",
       "0          0.0         15.0            4.9             0.0   \n",
       "1          0.0          6.0            4.1            15.0   \n",
       "2          0.0          1.0            1.1            20.0   \n",
       "3          0.0          1.0            0.5            14.0   \n",
       "4          0.0          NaN            0.0            15.0   \n",
       "\n",
       "   dirOfMaxGust10sDEG  spdOfMaxGustKMH  \n",
       "0                 NaN              NaN  \n",
       "1                 NaN              NaN  \n",
       "2                 NaN              NaN  \n",
       "3                 NaN              NaN  \n",
       "4                 NaN              NaN  "
      ]
     },
     "execution_count": 44,
     "metadata": {},
     "output_type": "execute_result"
    }
   ],
   "source": [
    "# Save the data\n",
    "by_date_df.to_csv(\"../../data/weather_by_day_2017_06_03.csv\")\n",
    "by_date_df_csv = pd.read_csv(\"../../data/weather_by_day_2017_06_03.csv\", date_parser=['date'])\n",
    "print(by_date_df_csv.info())\n",
    "by_date_df_csv.head()"
   ]
  }
 ],
 "metadata": {
  "anaconda-cloud": {},
  "kernelspec": {
   "display_name": "Python [conda env:py35-ds]",
   "language": "python",
   "name": "conda-env-py35-ds-py"
  },
  "language_info": {
   "codemirror_mode": {
    "name": "ipython",
    "version": 3
   },
   "file_extension": ".py",
   "mimetype": "text/x-python",
   "name": "python",
   "nbconvert_exporter": "python",
   "pygments_lexer": "ipython3",
   "version": "3.5.2"
  }
 },
 "nbformat": 4,
 "nbformat_minor": 1
}
