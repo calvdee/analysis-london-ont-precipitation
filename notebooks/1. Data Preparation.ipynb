{
 "cells": [
  {
   "cell_type": "markdown",
   "metadata": {
    "hide_input": false,
    "hide_output": false,
    "run_control": {
     "marked": false
    }
   },
   "source": [
    "# 1. Data Overview and Preparation\n",
    "### Description\n",
    "Climate Canada provides access to historical weather data through its historical climate data [web app](http://climate.weather.gc.ca/historical_data/search_historic_data_e.html).  The data is produced by sensors installed at [weather stations](https://en.wikipedia.org/wiki/Weather_station) located at geographically dispersed locations accross Canada.\n",
    "\n",
    "> A **weather station** is a facility, either on land or sea, with instruments and equipment for measuring atmospheric conditions to provide information for weather forecasts and to study the weather and climate.\n",
    "\n",
    "Data is available at monthly, daily, and hourly intervals on a per-weather station basis with data missing for some combinations of interval, station, and timeframe e.g. monthly data for London weather stations, data aggregated up to the monthly level, is generally not available but daily data is.  The availability for a particular time interval (e.g. for the month of December) varies accross stations; some stations are missing entire months of data.  This will not pose a significant problem as we are not interested in station-level measurements but rather overall weather trends in London, Ontario.  Data accross stations is aggregated so that the daily measurements from each station are averaged to produce a single measurement value (see [1.5](#1.5-Daily-Observation-Data)).  When data is missing from one station, it is generally available from another.\n",
    "\n",
    "The different time intervals (monthly, daily, hourly) provide different measurements.  Daily weather data (available through the Climate Canada website by year/month) contains both precipitation and weather data and is the most suitable level of granularity for this analysis so it's the level of granularity that will be used here.  The variable descriptions are described further in [[1](http://climate.weather.gc.ca/glossary_e.html)].\t\t\n",
    "\n",
    "\n",
    "### Retrieving Weather Data\n",
    "Historical weather data produced by weather stations can be obtained through Climate Canada's search system that accepts queries for station names, province, or proximity as shown below.\n",
    "\n",
    "<img src =\"../images/station_search.png\" style=\"height: 400px;\" />\n",
    "\n",
    "After selecting a station, data can be requested at hourly, daily, or monthly intervals.\n",
    "\n",
    "<img src =\"../images/station_result.png\" style=\"height: 400px;\" />\n",
    "\n",
    "This analysis will focus on data from weather stations deployed in London Ontario, Canada so the search term used to find relevant stations and the associated data included only the keyword \"London\".  \n",
    "\n",
    "After using the Climate Canada web app to identify stations in London Ontario, only those with monthly data (data for every day of the month) available for at least five years were considered for the analysis.  The London CS, London Airport, and London A stations met this critera and monthly data for the stations were retrieved from Climate Canada's web application using a Python program built using the web scraping framework [Scrapy](#).  The program automates the data retrieval process by generating search requests for station data for the stations of interest for every month from January 1, 2012 to July 13, 2017 and uses [XPath](https://developer.mozilla.org/en-US/docs/Web/XPath) to extract data from the HTML table show below.  \n",
    "\n",
    "<img src =\"../images/station_report.png\" style=\"height: 400px;\" />\n",
    "\n",
    "All of the data is appended to a CSV file where each row represents a day of observed data from each one of the stations.  Code for the web scraper can be found [here](https://github.com/calvdee/ldn-ont-precip/tree/master/webcrawler).  For the ambitious reader, the code can be cloned from GitHub and the CSV can be populated with data upto today's date by running the following at the command line:\n",
    "\n",
    "```\n",
    "cd ../webcrawler\n",
    "scrapy crawl daily_spider\n",
    "```"
   ]
  },
  {
   "cell_type": "markdown",
   "metadata": {
    "hide_input": false,
    "hide_output": false,
    "run_control": {
     "marked": false
    }
   },
   "source": [
    "## 1.2 Data Prep"
   ]
  },
  {
   "cell_type": "code",
   "execution_count": 265,
   "metadata": {
    "collapsed": false,
    "hide_input": false,
    "hide_output": false,
    "locked": false,
    "run_control": {
     "marked": true
    }
   },
   "outputs": [],
   "source": [
    "import pandas as pd\n",
    "import missingno as msno\n",
    "import seaborn as sns\n",
    "import matplotlib.pyplot as plt\n",
    "import numpy as np\n",
    "%matplotlib inline"
   ]
  },
  {
   "cell_type": "code",
   "execution_count": 266,
   "metadata": {
    "collapsed": false,
    "deletable": true,
    "hide_input": false,
    "hide_output": false,
    "locked": false,
    "run_control": {
     "marked": false
    }
   },
   "outputs": [],
   "source": [
    "# Load daily weather data produced by web scraper\n",
    "dwd = pd.read_csv(\"../data/scrapy_2017-08-25.csv\", parse_dates=['date'])"
   ]
  },
  {
   "cell_type": "code",
   "execution_count": 267,
   "metadata": {
    "collapsed": false,
    "deletable": true,
    "hide_input": false,
    "hide_output": false,
    "locked": false,
    "run_control": {
     "marked": false
    }
   },
   "outputs": [
    {
     "data": {
      "text/html": [
       "<div>\n",
       "<style>\n",
       "    .dataframe thead tr:only-child th {\n",
       "        text-align: right;\n",
       "    }\n",
       "\n",
       "    .dataframe thead th {\n",
       "        text-align: left;\n",
       "    }\n",
       "\n",
       "    .dataframe tbody tr th {\n",
       "        vertical-align: top;\n",
       "    }\n",
       "</style>\n",
       "<table border=\"1\" class=\"dataframe\">\n",
       "  <thead>\n",
       "    <tr style=\"text-align: right;\">\n",
       "      <th></th>\n",
       "    </tr>\n",
       "  </thead>\n",
       "  <tbody>\n",
       "    <tr>\n",
       "      <th>station</th>\n",
       "    </tr>\n",
       "    <tr>\n",
       "      <th>date</th>\n",
       "    </tr>\n",
       "    <tr>\n",
       "      <th>maxTemp</th>\n",
       "    </tr>\n",
       "    <tr>\n",
       "      <th>minTemp</th>\n",
       "    </tr>\n",
       "    <tr>\n",
       "      <th>meanTemp</th>\n",
       "    </tr>\n",
       "    <tr>\n",
       "      <th>heatDegDays</th>\n",
       "    </tr>\n",
       "    <tr>\n",
       "      <th>coolDegDays</th>\n",
       "    </tr>\n",
       "    <tr>\n",
       "      <th>totalRainMM</th>\n",
       "    </tr>\n",
       "    <tr>\n",
       "      <th>totalSnowCM</th>\n",
       "    </tr>\n",
       "    <tr>\n",
       "      <th>totalPrecipMM</th>\n",
       "    </tr>\n",
       "    <tr>\n",
       "      <th>snowOnGroundCM</th>\n",
       "    </tr>\n",
       "    <tr>\n",
       "      <th>dirOfMaxGust10sDEG</th>\n",
       "    </tr>\n",
       "    <tr>\n",
       "      <th>spdOfMaxGustKMH</th>\n",
       "    </tr>\n",
       "  </tbody>\n",
       "</table>\n",
       "</div>"
      ],
      "text/plain": [
       "Empty DataFrame\n",
       "Columns: []\n",
       "Index: [station, date, maxTemp, minTemp, meanTemp, heatDegDays, coolDegDays, totalRainMM, totalSnowCM, totalPrecipMM, snowOnGroundCM, dirOfMaxGust10sDEG, spdOfMaxGustKMH]"
      ]
     },
     "execution_count": 267,
     "metadata": {},
     "output_type": "execute_result"
    }
   ],
   "source": [
    "pd.DataFrame(index=dwd.describe().transpose().index)"
   ]
  },
  {
   "cell_type": "markdown",
   "metadata": {
    "hide_input": false,
    "hide_output": false,
    "run_control": {
     "marked": false
    }
   },
   "source": [
    "Look at the first few observations"
   ]
  },
  {
   "cell_type": "code",
   "execution_count": 268,
   "metadata": {
    "collapsed": false,
    "deletable": true,
    "hide_input": false,
    "hide_output": false,
    "locked": false,
    "run_control": {
     "marked": false
    }
   },
   "outputs": [
    {
     "data": {
      "text/html": [
       "<div>\n",
       "<style>\n",
       "    .dataframe thead tr:only-child th {\n",
       "        text-align: right;\n",
       "    }\n",
       "\n",
       "    .dataframe thead th {\n",
       "        text-align: left;\n",
       "    }\n",
       "\n",
       "    .dataframe tbody tr th {\n",
       "        vertical-align: top;\n",
       "    }\n",
       "</style>\n",
       "<table border=\"1\" class=\"dataframe\">\n",
       "  <thead>\n",
       "    <tr style=\"text-align: right;\">\n",
       "      <th></th>\n",
       "      <th>station</th>\n",
       "      <th>date</th>\n",
       "      <th>maxTemp</th>\n",
       "      <th>minTemp</th>\n",
       "      <th>meanTemp</th>\n",
       "      <th>heatDegDays</th>\n",
       "      <th>coolDegDays</th>\n",
       "      <th>totalRainMM</th>\n",
       "      <th>totalSnowCM</th>\n",
       "      <th>totalPrecipMM</th>\n",
       "      <th>snowOnGroundCM</th>\n",
       "      <th>dirOfMaxGust10sDEG</th>\n",
       "      <th>spdOfMaxGustKMH</th>\n",
       "    </tr>\n",
       "  </thead>\n",
       "  <tbody>\n",
       "    <tr>\n",
       "      <th>0</th>\n",
       "      <td>London CS</td>\n",
       "      <td>2010-02-01</td>\n",
       "      <td>-4.9</td>\n",
       "      <td>-10.0</td>\n",
       "      <td>-7.5</td>\n",
       "      <td>25.5</td>\n",
       "      <td>0.0</td>\n",
       "      <td>NaN</td>\n",
       "      <td>NaN</td>\n",
       "      <td>0.0</td>\n",
       "      <td></td>\n",
       "      <td>NaN</td>\n",
       "      <td>NaN</td>\n",
       "    </tr>\n",
       "    <tr>\n",
       "      <th>1</th>\n",
       "      <td>London CS</td>\n",
       "      <td>2010-02-02</td>\n",
       "      <td>-3.1</td>\n",
       "      <td>-11.4</td>\n",
       "      <td>-7.3</td>\n",
       "      <td>25.3</td>\n",
       "      <td>0.0</td>\n",
       "      <td>NaN</td>\n",
       "      <td>NaN</td>\n",
       "      <td>2.5</td>\n",
       "      <td></td>\n",
       "      <td>NaN</td>\n",
       "      <td>NaN</td>\n",
       "    </tr>\n",
       "    <tr>\n",
       "      <th>2</th>\n",
       "      <td>London CS</td>\n",
       "      <td>2010-02-03</td>\n",
       "      <td>-1.1</td>\n",
       "      <td>-5.2</td>\n",
       "      <td>-3.2</td>\n",
       "      <td>21.2</td>\n",
       "      <td>0.0</td>\n",
       "      <td>NaN</td>\n",
       "      <td>NaN</td>\n",
       "      <td>1.2</td>\n",
       "      <td></td>\n",
       "      <td>NaN</td>\n",
       "      <td>NaN</td>\n",
       "    </tr>\n",
       "    <tr>\n",
       "      <th>3</th>\n",
       "      <td>London CS</td>\n",
       "      <td>2010-02-04</td>\n",
       "      <td>-1.2</td>\n",
       "      <td>-12.0</td>\n",
       "      <td>-6.6</td>\n",
       "      <td>24.6</td>\n",
       "      <td>0.0</td>\n",
       "      <td>NaN</td>\n",
       "      <td>NaN</td>\n",
       "      <td>0.0</td>\n",
       "      <td></td>\n",
       "      <td>NaN</td>\n",
       "      <td>NaN</td>\n",
       "    </tr>\n",
       "    <tr>\n",
       "      <th>4</th>\n",
       "      <td>London CS</td>\n",
       "      <td>2010-02-05</td>\n",
       "      <td>-0.3</td>\n",
       "      <td>-8.7</td>\n",
       "      <td>-4.5</td>\n",
       "      <td>22.5</td>\n",
       "      <td>0.0</td>\n",
       "      <td>NaN</td>\n",
       "      <td>NaN</td>\n",
       "      <td>0.0</td>\n",
       "      <td></td>\n",
       "      <td>NaN</td>\n",
       "      <td>NaN</td>\n",
       "    </tr>\n",
       "  </tbody>\n",
       "</table>\n",
       "</div>"
      ],
      "text/plain": [
       "     station       date maxTemp minTemp meanTemp heatDegDays coolDegDays  \\\n",
       "0  London CS 2010-02-01    -4.9   -10.0     -7.5        25.5         0.0   \n",
       "1  London CS 2010-02-02    -3.1   -11.4     -7.3        25.3         0.0   \n",
       "2  London CS 2010-02-03    -1.1    -5.2     -3.2        21.2         0.0   \n",
       "3  London CS 2010-02-04    -1.2   -12.0     -6.6        24.6         0.0   \n",
       "4  London CS 2010-02-05    -0.3    -8.7     -4.5        22.5         0.0   \n",
       "\n",
       "  totalRainMM totalSnowCM totalPrecipMM snowOnGroundCM dirOfMaxGust10sDEG  \\\n",
       "0         NaN         NaN           0.0                               NaN   \n",
       "1         NaN         NaN           2.5                               NaN   \n",
       "2         NaN         NaN           1.2                               NaN   \n",
       "3         NaN         NaN           0.0                               NaN   \n",
       "4         NaN         NaN           0.0                               NaN   \n",
       "\n",
       "  spdOfMaxGustKMH  \n",
       "0             NaN  \n",
       "1             NaN  \n",
       "2             NaN  \n",
       "3             NaN  \n",
       "4             NaN  "
      ]
     },
     "execution_count": 268,
     "metadata": {},
     "output_type": "execute_result"
    }
   ],
   "source": [
    "dwd.head()"
   ]
  },
  {
   "cell_type": "code",
   "execution_count": 269,
   "metadata": {
    "collapsed": false
   },
   "outputs": [
    {
     "name": "stdout",
     "output_type": "stream",
     "text": [
      "2010-01-01 00:00:00 2017-08-25 00:00:00\n"
     ]
    }
   ],
   "source": [
    "print(dwd.date.min(), dwd.date.max())"
   ]
  },
  {
   "cell_type": "markdown",
   "metadata": {
    "hide_input": false,
    "hide_output": false,
    "run_control": {
     "marked": false
    }
   },
   "source": [
    "It's obvious that there's some missing data.  As observed while exploring data through the website, some measurements include an empty value while others include the value 'M'."
   ]
  },
  {
   "cell_type": "code",
   "execution_count": 270,
   "metadata": {
    "collapsed": false,
    "deletable": true,
    "hide_input": false,
    "hide_output": false,
    "locked": false,
    "run_control": {
     "marked": false
    }
   },
   "outputs": [
    {
     "data": {
      "text/plain": [
       "(6249, 13)"
      ]
     },
     "execution_count": 270,
     "metadata": {},
     "output_type": "execute_result"
    }
   ],
   "source": [
    "dwd.shape"
   ]
  },
  {
   "cell_type": "markdown",
   "metadata": {
    "hide_input": false,
    "hide_output": false,
    "run_control": {
     "marked": false
    }
   },
   "source": [
    "6133 observatiions, 13 variables"
   ]
  },
  {
   "cell_type": "code",
   "execution_count": 271,
   "metadata": {
    "collapsed": false,
    "deletable": true,
    "hide_input": false,
    "hide_output": false,
    "locked": false,
    "run_control": {
     "marked": false
    }
   },
   "outputs": [
    {
     "name": "stdout",
     "output_type": "stream",
     "text": [
      "<class 'pandas.core.frame.DataFrame'>\n",
      "RangeIndex: 6249 entries, 0 to 6248\n",
      "Data columns (total 13 columns):\n",
      "station               6249 non-null object\n",
      "date                  6249 non-null datetime64[ns]\n",
      "maxTemp               6223 non-null object\n",
      "minTemp               6232 non-null object\n",
      "meanTemp              6212 non-null object\n",
      "heatDegDays           6212 non-null object\n",
      "coolDegDays           6212 non-null object\n",
      "totalRainMM           1460 non-null object\n",
      "totalSnowCM           1298 non-null object\n",
      "totalPrecipMM         4040 non-null object\n",
      "snowOnGroundCM        6086 non-null object\n",
      "dirOfMaxGust10sDEG    3463 non-null object\n",
      "spdOfMaxGustKMH       3463 non-null object\n",
      "dtypes: datetime64[ns](1), object(12)\n",
      "memory usage: 634.7+ KB\n"
     ]
    }
   ],
   "source": [
    "dwd.info()"
   ]
  },
  {
   "cell_type": "code",
   "execution_count": 272,
   "metadata": {
    "collapsed": false
   },
   "outputs": [
    {
     "name": "stdout",
     "output_type": "stream",
     "text": [
      "2010-01-01 00:00:00 to 2017-08-25 00:00:00\n"
     ]
    }
   ],
   "source": [
    "print(\"{} to {}\".format(dwd.date.min(), dwd.date.max()))"
   ]
  },
  {
   "cell_type": "markdown",
   "metadata": {
    "hide_input": false,
    "hide_output": false,
    "run_control": {
     "marked": false
    }
   },
   "source": [
    "Transform the columns to the appropriate data types"
   ]
  },
  {
   "cell_type": "code",
   "execution_count": 273,
   "metadata": {
    "collapsed": true,
    "deletable": true,
    "hide_input": false,
    "hide_output": false,
    "locked": false,
    "run_control": {
     "marked": false
    }
   },
   "outputs": [],
   "source": [
    "# Discrete columns\n",
    "disc = ['station', 'date']"
   ]
  },
  {
   "cell_type": "code",
   "execution_count": 274,
   "metadata": {
    "collapsed": false,
    "deletable": true,
    "hide_input": false,
    "hide_output": false,
    "locked": false,
    "run_control": {
     "marked": false
    }
   },
   "outputs": [],
   "source": [
    "# Continuous data with empty values replaced with `NaN` and '<31' with 31\n",
    "# i.e. the indicator function I\n",
    "data_cont = pd.DataFrame.replace(\n",
    "  pd.DataFrame(dwd[dwd.columns.drop(disc)]),\n",
    "  [\"\\xa0\", \"<31\"],\n",
    "  [\"NaN\", 31]).astype(float)\n",
    "data_disc = dwd[disc]"
   ]
  },
  {
   "cell_type": "markdown",
   "metadata": {
    "hide_input": false,
    "hide_output": false,
    "run_control": {
     "marked": false
    }
   },
   "source": [
    "Discrete"
   ]
  },
  {
   "cell_type": "code",
   "execution_count": 275,
   "metadata": {
    "collapsed": false,
    "deletable": true,
    "hide_input": false,
    "hide_output": false,
    "locked": false,
    "run_control": {
     "marked": false
    }
   },
   "outputs": [
    {
     "data": {
      "text/html": [
       "<div>\n",
       "<style>\n",
       "    .dataframe thead tr:only-child th {\n",
       "        text-align: right;\n",
       "    }\n",
       "\n",
       "    .dataframe thead th {\n",
       "        text-align: left;\n",
       "    }\n",
       "\n",
       "    .dataframe tbody tr th {\n",
       "        vertical-align: top;\n",
       "    }\n",
       "</style>\n",
       "<table border=\"1\" class=\"dataframe\">\n",
       "  <thead>\n",
       "    <tr style=\"text-align: right;\">\n",
       "      <th></th>\n",
       "    </tr>\n",
       "  </thead>\n",
       "  <tbody>\n",
       "    <tr>\n",
       "      <th>station</th>\n",
       "    </tr>\n",
       "    <tr>\n",
       "      <th>date</th>\n",
       "    </tr>\n",
       "  </tbody>\n",
       "</table>\n",
       "</div>"
      ],
      "text/plain": [
       "Empty DataFrame\n",
       "Columns: []\n",
       "Index: [station, date]"
      ]
     },
     "execution_count": 275,
     "metadata": {},
     "output_type": "execute_result"
    }
   ],
   "source": [
    "pd.DataFrame(index=disc)"
   ]
  },
  {
   "cell_type": "markdown",
   "metadata": {
    "hide_input": false,
    "hide_output": false,
    "run_control": {
     "marked": false
    }
   },
   "source": [
    "Continuous"
   ]
  },
  {
   "cell_type": "code",
   "execution_count": 276,
   "metadata": {
    "collapsed": false,
    "deletable": true,
    "hide_input": false,
    "hide_output": false,
    "locked": false,
    "run_control": {
     "marked": false
    }
   },
   "outputs": [
    {
     "data": {
      "text/html": [
       "<div>\n",
       "<style>\n",
       "    .dataframe thead tr:only-child th {\n",
       "        text-align: right;\n",
       "    }\n",
       "\n",
       "    .dataframe thead th {\n",
       "        text-align: left;\n",
       "    }\n",
       "\n",
       "    .dataframe tbody tr th {\n",
       "        vertical-align: top;\n",
       "    }\n",
       "</style>\n",
       "<table border=\"1\" class=\"dataframe\">\n",
       "  <thead>\n",
       "    <tr style=\"text-align: right;\">\n",
       "      <th></th>\n",
       "    </tr>\n",
       "  </thead>\n",
       "  <tbody>\n",
       "    <tr>\n",
       "      <th>maxTemp</th>\n",
       "    </tr>\n",
       "    <tr>\n",
       "      <th>minTemp</th>\n",
       "    </tr>\n",
       "    <tr>\n",
       "      <th>meanTemp</th>\n",
       "    </tr>\n",
       "    <tr>\n",
       "      <th>heatDegDays</th>\n",
       "    </tr>\n",
       "    <tr>\n",
       "      <th>coolDegDays</th>\n",
       "    </tr>\n",
       "    <tr>\n",
       "      <th>totalRainMM</th>\n",
       "    </tr>\n",
       "    <tr>\n",
       "      <th>totalSnowCM</th>\n",
       "    </tr>\n",
       "    <tr>\n",
       "      <th>totalPrecipMM</th>\n",
       "    </tr>\n",
       "    <tr>\n",
       "      <th>snowOnGroundCM</th>\n",
       "    </tr>\n",
       "    <tr>\n",
       "      <th>dirOfMaxGust10sDEG</th>\n",
       "    </tr>\n",
       "    <tr>\n",
       "      <th>spdOfMaxGustKMH</th>\n",
       "    </tr>\n",
       "  </tbody>\n",
       "</table>\n",
       "</div>"
      ],
      "text/plain": [
       "Empty DataFrame\n",
       "Columns: []\n",
       "Index: [maxTemp, minTemp, meanTemp, heatDegDays, coolDegDays, totalRainMM, totalSnowCM, totalPrecipMM, snowOnGroundCM, dirOfMaxGust10sDEG, spdOfMaxGustKMH]"
      ]
     },
     "execution_count": 276,
     "metadata": {},
     "output_type": "execute_result"
    }
   ],
   "source": [
    "pd.DataFrame(index=data_cont.columns)"
   ]
  },
  {
   "cell_type": "markdown",
   "metadata": {
    "hide_input": false,
    "hide_output": false,
    "run_control": {
     "marked": false
    }
   },
   "source": [
    "Final dataset"
   ]
  },
  {
   "cell_type": "code",
   "execution_count": 277,
   "metadata": {
    "collapsed": true,
    "deletable": true,
    "hide_input": false,
    "hide_output": false,
    "locked": false,
    "run_control": {
     "marked": false
    }
   },
   "outputs": [],
   "source": [
    "df = pd.concat([data_cont, data_disc], axis=1)"
   ]
  },
  {
   "cell_type": "markdown",
   "metadata": {
    "hide_input": false,
    "hide_output": false,
    "run_control": {
     "marked": false
    }
   },
   "source": [
    "Summary statistics"
   ]
  },
  {
   "cell_type": "code",
   "execution_count": 278,
   "metadata": {
    "collapsed": false,
    "deletable": true,
    "hide_input": false,
    "hide_output": false,
    "locked": false,
    "run_control": {
     "marked": true
    }
   },
   "outputs": [
    {
     "data": {
      "text/html": [
       "<style  type=\"text/css\" >\n",
       "    #T_6ea8c39e_8a54_11e7_8b24_3c15c2ca2e66row0_col0 {\n",
       "            background-color:  #ff0000;\n",
       "        }    #T_6ea8c39e_8a54_11e7_8b24_3c15c2ca2e66row0_col1 {\n",
       "            background-color:  #ff8787;\n",
       "        }    #T_6ea8c39e_8a54_11e7_8b24_3c15c2ca2e66row0_col2 {\n",
       "            background-color:  #ff0000;\n",
       "        }    #T_6ea8c39e_8a54_11e7_8b24_3c15c2ca2e66row0_col3 {\n",
       "            background-color:  #ffbbbb;\n",
       "        }    #T_6ea8c39e_8a54_11e7_8b24_3c15c2ca2e66row0_col4 {\n",
       "            background-color:  #ffb8b8;\n",
       "        }    #T_6ea8c39e_8a54_11e7_8b24_3c15c2ca2e66row0_col5 {\n",
       "            background-color:  #ff7777;\n",
       "        }    #T_6ea8c39e_8a54_11e7_8b24_3c15c2ca2e66row0_col6 {\n",
       "            background-color:  #ff3333;\n",
       "        }    #T_6ea8c39e_8a54_11e7_8b24_3c15c2ca2e66row0_col7 {\n",
       "            background-color:  #ffa4a4;\n",
       "        }    #T_6ea8c39e_8a54_11e7_8b24_3c15c2ca2e66row1_col0 {\n",
       "            background-color:  #ff0000;\n",
       "        }    #T_6ea8c39e_8a54_11e7_8b24_3c15c2ca2e66row1_col1 {\n",
       "            background-color:  #ffd2d2;\n",
       "        }    #T_6ea8c39e_8a54_11e7_8b24_3c15c2ca2e66row1_col2 {\n",
       "            background-color:  #ff2323;\n",
       "        }    #T_6ea8c39e_8a54_11e7_8b24_3c15c2ca2e66row1_col3 {\n",
       "            background-color:  #ffe5e5;\n",
       "        }    #T_6ea8c39e_8a54_11e7_8b24_3c15c2ca2e66row1_col4 {\n",
       "            background-color:  #ffe5e5;\n",
       "        }    #T_6ea8c39e_8a54_11e7_8b24_3c15c2ca2e66row1_col5 {\n",
       "            background-color:  #ffcaca;\n",
       "        }    #T_6ea8c39e_8a54_11e7_8b24_3c15c2ca2e66row1_col6 {\n",
       "            background-color:  #ff8d8d;\n",
       "        }    #T_6ea8c39e_8a54_11e7_8b24_3c15c2ca2e66row1_col7 {\n",
       "            background-color:  #ffc5c5;\n",
       "        }    #T_6ea8c39e_8a54_11e7_8b24_3c15c2ca2e66row2_col0 {\n",
       "            background-color:  #ff0101;\n",
       "        }    #T_6ea8c39e_8a54_11e7_8b24_3c15c2ca2e66row2_col1 {\n",
       "            background-color:  #ffacac;\n",
       "        }    #T_6ea8c39e_8a54_11e7_8b24_3c15c2ca2e66row2_col2 {\n",
       "            background-color:  #ff1515;\n",
       "        }    #T_6ea8c39e_8a54_11e7_8b24_3c15c2ca2e66row2_col3 {\n",
       "            background-color:  #ffd0d0;\n",
       "        }    #T_6ea8c39e_8a54_11e7_8b24_3c15c2ca2e66row2_col4 {\n",
       "            background-color:  #ffcece;\n",
       "        }    #T_6ea8c39e_8a54_11e7_8b24_3c15c2ca2e66row2_col5 {\n",
       "            background-color:  #ffa1a1;\n",
       "        }    #T_6ea8c39e_8a54_11e7_8b24_3c15c2ca2e66row2_col6 {\n",
       "            background-color:  #ff6161;\n",
       "        }    #T_6ea8c39e_8a54_11e7_8b24_3c15c2ca2e66row2_col7 {\n",
       "            background-color:  #ffb4b4;\n",
       "        }    #T_6ea8c39e_8a54_11e7_8b24_3c15c2ca2e66row3_col0 {\n",
       "            background-color:  #ff0101;\n",
       "        }    #T_6ea8c39e_8a54_11e7_8b24_3c15c2ca2e66row3_col1 {\n",
       "            background-color:  #ffa0a0;\n",
       "        }    #T_6ea8c39e_8a54_11e7_8b24_3c15c2ca2e66row3_col2 {\n",
       "            background-color:  #ff2c2c;\n",
       "        }    #T_6ea8c39e_8a54_11e7_8b24_3c15c2ca2e66row3_col3 {\n",
       "            background-color:  #ff7474;\n",
       "        }    #T_6ea8c39e_8a54_11e7_8b24_3c15c2ca2e66row3_col4 {\n",
       "            background-color:  #ffd0d0;\n",
       "        }    #T_6ea8c39e_8a54_11e7_8b24_3c15c2ca2e66row3_col5 {\n",
       "            background-color:  #ffa6a6;\n",
       "        }    #T_6ea8c39e_8a54_11e7_8b24_3c15c2ca2e66row3_col6 {\n",
       "            background-color:  #ff6363;\n",
       "        }    #T_6ea8c39e_8a54_11e7_8b24_3c15c2ca2e66row3_col7 {\n",
       "            background-color:  #ff9494;\n",
       "        }    #T_6ea8c39e_8a54_11e7_8b24_3c15c2ca2e66row4_col0 {\n",
       "            background-color:  #ff0101;\n",
       "        }    #T_6ea8c39e_8a54_11e7_8b24_3c15c2ca2e66row4_col1 {\n",
       "            background-color:  #ffe5e5;\n",
       "        }    #T_6ea8c39e_8a54_11e7_8b24_3c15c2ca2e66row4_col2 {\n",
       "            background-color:  #ffe5e5;\n",
       "        }    #T_6ea8c39e_8a54_11e7_8b24_3c15c2ca2e66row4_col3 {\n",
       "            background-color:  #ff7474;\n",
       "        }    #T_6ea8c39e_8a54_11e7_8b24_3c15c2ca2e66row4_col4 {\n",
       "            background-color:  #ffd1d1;\n",
       "        }    #T_6ea8c39e_8a54_11e7_8b24_3c15c2ca2e66row4_col5 {\n",
       "            background-color:  #ffe5e5;\n",
       "        }    #T_6ea8c39e_8a54_11e7_8b24_3c15c2ca2e66row4_col6 {\n",
       "            background-color:  #ffe5e5;\n",
       "        }    #T_6ea8c39e_8a54_11e7_8b24_3c15c2ca2e66row4_col7 {\n",
       "            background-color:  #ffe5e5;\n",
       "        }    #T_6ea8c39e_8a54_11e7_8b24_3c15c2ca2e66row5_col0 {\n",
       "            background-color:  #ffafaf;\n",
       "        }    #T_6ea8c39e_8a54_11e7_8b24_3c15c2ca2e66row5_col1 {\n",
       "            background-color:  #ffe1e1;\n",
       "        }    #T_6ea8c39e_8a54_11e7_8b24_3c15c2ca2e66row5_col2 {\n",
       "            background-color:  #ffa7a7;\n",
       "        }    #T_6ea8c39e_8a54_11e7_8b24_3c15c2ca2e66row5_col3 {\n",
       "            background-color:  #ff7474;\n",
       "        }    #T_6ea8c39e_8a54_11e7_8b24_3c15c2ca2e66row5_col4 {\n",
       "            background-color:  #ffd1d1;\n",
       "        }    #T_6ea8c39e_8a54_11e7_8b24_3c15c2ca2e66row5_col5 {\n",
       "            background-color:  #ffe5e5;\n",
       "        }    #T_6ea8c39e_8a54_11e7_8b24_3c15c2ca2e66row5_col6 {\n",
       "            background-color:  #ffe5e5;\n",
       "        }    #T_6ea8c39e_8a54_11e7_8b24_3c15c2ca2e66row5_col7 {\n",
       "            background-color:  #ff9d9d;\n",
       "        }    #T_6ea8c39e_8a54_11e7_8b24_3c15c2ca2e66row6_col0 {\n",
       "            background-color:  #ffb7b7;\n",
       "        }    #T_6ea8c39e_8a54_11e7_8b24_3c15c2ca2e66row6_col1 {\n",
       "            background-color:  #ffe3e3;\n",
       "        }    #T_6ea8c39e_8a54_11e7_8b24_3c15c2ca2e66row6_col2 {\n",
       "            background-color:  #ffc8c8;\n",
       "        }    #T_6ea8c39e_8a54_11e7_8b24_3c15c2ca2e66row6_col3 {\n",
       "            background-color:  #ff7474;\n",
       "        }    #T_6ea8c39e_8a54_11e7_8b24_3c15c2ca2e66row6_col4 {\n",
       "            background-color:  #ffd1d1;\n",
       "        }    #T_6ea8c39e_8a54_11e7_8b24_3c15c2ca2e66row6_col5 {\n",
       "            background-color:  #ffe5e5;\n",
       "        }    #T_6ea8c39e_8a54_11e7_8b24_3c15c2ca2e66row6_col6 {\n",
       "            background-color:  #ffdede;\n",
       "        }    #T_6ea8c39e_8a54_11e7_8b24_3c15c2ca2e66row6_col7 {\n",
       "            background-color:  #ffa8a8;\n",
       "        }    #T_6ea8c39e_8a54_11e7_8b24_3c15c2ca2e66row7_col0 {\n",
       "            background-color:  #ff2e2e;\n",
       "        }    #T_6ea8c39e_8a54_11e7_8b24_3c15c2ca2e66row7_col1 {\n",
       "            background-color:  #ffd8d8;\n",
       "        }    #T_6ea8c39e_8a54_11e7_8b24_3c15c2ca2e66row7_col2 {\n",
       "            background-color:  #ff8585;\n",
       "        }    #T_6ea8c39e_8a54_11e7_8b24_3c15c2ca2e66row7_col3 {\n",
       "            background-color:  #ff7474;\n",
       "        }    #T_6ea8c39e_8a54_11e7_8b24_3c15c2ca2e66row7_col4 {\n",
       "            background-color:  #ffd1d1;\n",
       "        }    #T_6ea8c39e_8a54_11e7_8b24_3c15c2ca2e66row7_col5 {\n",
       "            background-color:  #ffe5e5;\n",
       "        }    #T_6ea8c39e_8a54_11e7_8b24_3c15c2ca2e66row7_col6 {\n",
       "            background-color:  #ffd3d3;\n",
       "        }    #T_6ea8c39e_8a54_11e7_8b24_3c15c2ca2e66row7_col7 {\n",
       "            background-color:  #ff4848;\n",
       "        }    #T_6ea8c39e_8a54_11e7_8b24_3c15c2ca2e66row8_col0 {\n",
       "            background-color:  #ff9f9f;\n",
       "        }    #T_6ea8c39e_8a54_11e7_8b24_3c15c2ca2e66row8_col1 {\n",
       "            background-color:  #ffb1b1;\n",
       "        }    #T_6ea8c39e_8a54_11e7_8b24_3c15c2ca2e66row8_col2 {\n",
       "            background-color:  #ff1717;\n",
       "        }    #T_6ea8c39e_8a54_11e7_8b24_3c15c2ca2e66row8_col3 {\n",
       "            background-color:  #ff7474;\n",
       "        }    #T_6ea8c39e_8a54_11e7_8b24_3c15c2ca2e66row8_col4 {\n",
       "            background-color:  #ffd1d1;\n",
       "        }    #T_6ea8c39e_8a54_11e7_8b24_3c15c2ca2e66row8_col5 {\n",
       "            background-color:  #ffd0d0;\n",
       "        }    #T_6ea8c39e_8a54_11e7_8b24_3c15c2ca2e66row8_col6 {\n",
       "            background-color:  #ff9494;\n",
       "        }    #T_6ea8c39e_8a54_11e7_8b24_3c15c2ca2e66row8_col7 {\n",
       "            background-color:  #ff6666;\n",
       "        }    #T_6ea8c39e_8a54_11e7_8b24_3c15c2ca2e66row9_col0 {\n",
       "            background-color:  #ffe5e5;\n",
       "        }    #T_6ea8c39e_8a54_11e7_8b24_3c15c2ca2e66row9_col1 {\n",
       "            background-color:  #ff5454;\n",
       "        }    #T_6ea8c39e_8a54_11e7_8b24_3c15c2ca2e66row9_col2 {\n",
       "            background-color:  #ff1f1f;\n",
       "        }    #T_6ea8c39e_8a54_11e7_8b24_3c15c2ca2e66row9_col3 {\n",
       "            background-color:  #ff7070;\n",
       "        }    #T_6ea8c39e_8a54_11e7_8b24_3c15c2ca2e66row9_col4 {\n",
       "            background-color:  #ff7a7a;\n",
       "        }    #T_6ea8c39e_8a54_11e7_8b24_3c15c2ca2e66row9_col5 {\n",
       "            background-color:  #ff5151;\n",
       "        }    #T_6ea8c39e_8a54_11e7_8b24_3c15c2ca2e66row9_col6 {\n",
       "            background-color:  #ff0707;\n",
       "        }    #T_6ea8c39e_8a54_11e7_8b24_3c15c2ca2e66row9_col7 {\n",
       "            background-color:  #ffa6a6;\n",
       "        }    #T_6ea8c39e_8a54_11e7_8b24_3c15c2ca2e66row10_col0 {\n",
       "            background-color:  #ff8989;\n",
       "        }    #T_6ea8c39e_8a54_11e7_8b24_3c15c2ca2e66row10_col1 {\n",
       "            background-color:  #ff0000;\n",
       "        }    #T_6ea8c39e_8a54_11e7_8b24_3c15c2ca2e66row10_col2 {\n",
       "            background-color:  #ffb0b0;\n",
       "        }    #T_6ea8c39e_8a54_11e7_8b24_3c15c2ca2e66row10_col3 {\n",
       "            background-color:  #ff0000;\n",
       "        }    #T_6ea8c39e_8a54_11e7_8b24_3c15c2ca2e66row10_col4 {\n",
       "            background-color:  #ff0000;\n",
       "        }    #T_6ea8c39e_8a54_11e7_8b24_3c15c2ca2e66row10_col5 {\n",
       "            background-color:  #ff0000;\n",
       "        }    #T_6ea8c39e_8a54_11e7_8b24_3c15c2ca2e66row10_col6 {\n",
       "            background-color:  #ff0000;\n",
       "        }    #T_6ea8c39e_8a54_11e7_8b24_3c15c2ca2e66row10_col7 {\n",
       "            background-color:  #ff0000;\n",
       "        }</style>  \n",
       "<table id=\"T_6ea8c39e_8a54_11e7_8b24_3c15c2ca2e66\" > \n",
       "<thead>    <tr> \n",
       "        <th class=\"blank level0\" ></th> \n",
       "        <th class=\"col_heading level0 col0\" >count</th> \n",
       "        <th class=\"col_heading level0 col1\" >mean</th> \n",
       "        <th class=\"col_heading level0 col2\" >std</th> \n",
       "        <th class=\"col_heading level0 col3\" >min</th> \n",
       "        <th class=\"col_heading level0 col4\" >25%</th> \n",
       "        <th class=\"col_heading level0 col5\" >50%</th> \n",
       "        <th class=\"col_heading level0 col6\" >75%</th> \n",
       "        <th class=\"col_heading level0 col7\" >max</th> \n",
       "    </tr></thead> \n",
       "<tbody>    <tr> \n",
       "        <th id=\"T_6ea8c39e_8a54_11e7_8b24_3c15c2ca2e66\" class=\"row_heading level0 row0\" >maxTemp</th> \n",
       "        <td id=\"T_6ea8c39e_8a54_11e7_8b24_3c15c2ca2e66row0_col0\" class=\"data row0 col0\" >4754</td> \n",
       "        <td id=\"T_6ea8c39e_8a54_11e7_8b24_3c15c2ca2e66row0_col1\" class=\"data row0 col1\" >13.6105</td> \n",
       "        <td id=\"T_6ea8c39e_8a54_11e7_8b24_3c15c2ca2e66row0_col2\" class=\"data row0 col2\" >11.6482</td> \n",
       "        <td id=\"T_6ea8c39e_8a54_11e7_8b24_3c15c2ca2e66row0_col3\" class=\"data row0 col3\" >-19</td> \n",
       "        <td id=\"T_6ea8c39e_8a54_11e7_8b24_3c15c2ca2e66row0_col4\" class=\"data row0 col4\" >3.8</td> \n",
       "        <td id=\"T_6ea8c39e_8a54_11e7_8b24_3c15c2ca2e66row0_col5\" class=\"data row0 col5\" >15</td> \n",
       "        <td id=\"T_6ea8c39e_8a54_11e7_8b24_3c15c2ca2e66row0_col6\" class=\"data row0 col6\" >24</td> \n",
       "        <td id=\"T_6ea8c39e_8a54_11e7_8b24_3c15c2ca2e66row0_col7\" class=\"data row0 col7\" >36.7</td> \n",
       "    </tr>    <tr> \n",
       "        <th id=\"T_6ea8c39e_8a54_11e7_8b24_3c15c2ca2e66\" class=\"row_heading level0 row1\" >minTemp</th> \n",
       "        <td id=\"T_6ea8c39e_8a54_11e7_8b24_3c15c2ca2e66row1_col0\" class=\"data row1 col0\" >4763</td> \n",
       "        <td id=\"T_6ea8c39e_8a54_11e7_8b24_3c15c2ca2e66row1_col1\" class=\"data row1 col1\" >3.57029</td> \n",
       "        <td id=\"T_6ea8c39e_8a54_11e7_8b24_3c15c2ca2e66row1_col2\" class=\"data row1 col2\" >10.1317</td> \n",
       "        <td id=\"T_6ea8c39e_8a54_11e7_8b24_3c15c2ca2e66row1_col3\" class=\"data row1 col3\" >-30.5</td> \n",
       "        <td id=\"T_6ea8c39e_8a54_11e7_8b24_3c15c2ca2e66row1_col4\" class=\"data row1 col4\" >-3.1</td> \n",
       "        <td id=\"T_6ea8c39e_8a54_11e7_8b24_3c15c2ca2e66row1_col5\" class=\"data row1 col5\" >3.8</td> \n",
       "        <td id=\"T_6ea8c39e_8a54_11e7_8b24_3c15c2ca2e66row1_col6\" class=\"data row1 col6\" >11.9</td> \n",
       "        <td id=\"T_6ea8c39e_8a54_11e7_8b24_3c15c2ca2e66row1_col7\" class=\"data row1 col7\" >24.6</td> \n",
       "    </tr>    <tr> \n",
       "        <th id=\"T_6ea8c39e_8a54_11e7_8b24_3c15c2ca2e66\" class=\"row_heading level0 row2\" >meanTemp</th> \n",
       "        <td id=\"T_6ea8c39e_8a54_11e7_8b24_3c15c2ca2e66row2_col0\" class=\"data row2 col0\" >4743</td> \n",
       "        <td id=\"T_6ea8c39e_8a54_11e7_8b24_3c15c2ca2e66row2_col1\" class=\"data row2 col1\" >8.60268</td> \n",
       "        <td id=\"T_6ea8c39e_8a54_11e7_8b24_3c15c2ca2e66row2_col2\" class=\"data row2 col2\" >10.7473</td> \n",
       "        <td id=\"T_6ea8c39e_8a54_11e7_8b24_3c15c2ca2e66row2_col3\" class=\"data row2 col3\" >-24.5</td> \n",
       "        <td id=\"T_6ea8c39e_8a54_11e7_8b24_3c15c2ca2e66row2_col4\" class=\"data row2 col4\" >0.4</td> \n",
       "        <td id=\"T_6ea8c39e_8a54_11e7_8b24_3c15c2ca2e66row2_col5\" class=\"data row2 col5\" >9.3</td> \n",
       "        <td id=\"T_6ea8c39e_8a54_11e7_8b24_3c15c2ca2e66row2_col6\" class=\"data row2 col6\" >17.9</td> \n",
       "        <td id=\"T_6ea8c39e_8a54_11e7_8b24_3c15c2ca2e66row2_col7\" class=\"data row2 col7\" >30.7</td> \n",
       "    </tr>    <tr> \n",
       "        <th id=\"T_6ea8c39e_8a54_11e7_8b24_3c15c2ca2e66\" class=\"row_heading level0 row3\" >heatDegDays</th> \n",
       "        <td id=\"T_6ea8c39e_8a54_11e7_8b24_3c15c2ca2e66row3_col0\" class=\"data row3 col0\" >4743</td> \n",
       "        <td id=\"T_6ea8c39e_8a54_11e7_8b24_3c15c2ca2e66row3_col1\" class=\"data row3 col1\" >10.2295</td> \n",
       "        <td id=\"T_6ea8c39e_8a54_11e7_8b24_3c15c2ca2e66row3_col2\" class=\"data row3 col2\" >9.75357</td> \n",
       "        <td id=\"T_6ea8c39e_8a54_11e7_8b24_3c15c2ca2e66row3_col3\" class=\"data row3 col3\" >0</td> \n",
       "        <td id=\"T_6ea8c39e_8a54_11e7_8b24_3c15c2ca2e66row3_col4\" class=\"data row3 col4\" >0.1</td> \n",
       "        <td id=\"T_6ea8c39e_8a54_11e7_8b24_3c15c2ca2e66row3_col5\" class=\"data row3 col5\" >8.7</td> \n",
       "        <td id=\"T_6ea8c39e_8a54_11e7_8b24_3c15c2ca2e66row3_col6\" class=\"data row3 col6\" >17.6</td> \n",
       "        <td id=\"T_6ea8c39e_8a54_11e7_8b24_3c15c2ca2e66row3_col7\" class=\"data row3 col7\" >42.5</td> \n",
       "    </tr>    <tr> \n",
       "        <th id=\"T_6ea8c39e_8a54_11e7_8b24_3c15c2ca2e66\" class=\"row_heading level0 row4\" >coolDegDays</th> \n",
       "        <td id=\"T_6ea8c39e_8a54_11e7_8b24_3c15c2ca2e66row4_col0\" class=\"data row4 col0\" >4743</td> \n",
       "        <td id=\"T_6ea8c39e_8a54_11e7_8b24_3c15c2ca2e66row4_col1\" class=\"data row4 col1\" >0.832153</td> \n",
       "        <td id=\"T_6ea8c39e_8a54_11e7_8b24_3c15c2ca2e66row4_col2\" class=\"data row4 col2\" >1.82886</td> \n",
       "        <td id=\"T_6ea8c39e_8a54_11e7_8b24_3c15c2ca2e66row4_col3\" class=\"data row4 col3\" >0</td> \n",
       "        <td id=\"T_6ea8c39e_8a54_11e7_8b24_3c15c2ca2e66row4_col4\" class=\"data row4 col4\" >0</td> \n",
       "        <td id=\"T_6ea8c39e_8a54_11e7_8b24_3c15c2ca2e66row4_col5\" class=\"data row4 col5\" >0</td> \n",
       "        <td id=\"T_6ea8c39e_8a54_11e7_8b24_3c15c2ca2e66row4_col6\" class=\"data row4 col6\" >0</td> \n",
       "        <td id=\"T_6ea8c39e_8a54_11e7_8b24_3c15c2ca2e66row4_col7\" class=\"data row4 col7\" >12.7</td> \n",
       "    </tr>    <tr> \n",
       "        <th id=\"T_6ea8c39e_8a54_11e7_8b24_3c15c2ca2e66\" class=\"row_heading level0 row5\" >totalRainMM</th> \n",
       "        <td id=\"T_6ea8c39e_8a54_11e7_8b24_3c15c2ca2e66row5_col0\" class=\"data row5 col0\" >1243</td> \n",
       "        <td id=\"T_6ea8c39e_8a54_11e7_8b24_3c15c2ca2e66row5_col1\" class=\"data row5 col1\" >1.55559</td> \n",
       "        <td id=\"T_6ea8c39e_8a54_11e7_8b24_3c15c2ca2e66row5_col2\" class=\"data row5 col2\" >4.48242</td> \n",
       "        <td id=\"T_6ea8c39e_8a54_11e7_8b24_3c15c2ca2e66row5_col3\" class=\"data row5 col3\" >0</td> \n",
       "        <td id=\"T_6ea8c39e_8a54_11e7_8b24_3c15c2ca2e66row5_col4\" class=\"data row5 col4\" >0</td> \n",
       "        <td id=\"T_6ea8c39e_8a54_11e7_8b24_3c15c2ca2e66row5_col5\" class=\"data row5 col5\" >0</td> \n",
       "        <td id=\"T_6ea8c39e_8a54_11e7_8b24_3c15c2ca2e66row5_col6\" class=\"data row5 col6\" >0</td> \n",
       "        <td id=\"T_6ea8c39e_8a54_11e7_8b24_3c15c2ca2e66row5_col7\" class=\"data row5 col7\" >39.3</td> \n",
       "    </tr>    <tr> \n",
       "        <th id=\"T_6ea8c39e_8a54_11e7_8b24_3c15c2ca2e66\" class=\"row_heading level0 row6\" >totalSnowCM</th> \n",
       "        <td id=\"T_6ea8c39e_8a54_11e7_8b24_3c15c2ca2e66row6_col0\" class=\"data row6 col0\" >1081</td> \n",
       "        <td id=\"T_6ea8c39e_8a54_11e7_8b24_3c15c2ca2e66row6_col1\" class=\"data row6 col1\" >1.28992</td> \n",
       "        <td id=\"T_6ea8c39e_8a54_11e7_8b24_3c15c2ca2e66row6_col2\" class=\"data row6 col2\" >3.10682</td> \n",
       "        <td id=\"T_6ea8c39e_8a54_11e7_8b24_3c15c2ca2e66row6_col3\" class=\"data row6 col3\" >0</td> \n",
       "        <td id=\"T_6ea8c39e_8a54_11e7_8b24_3c15c2ca2e66row6_col4\" class=\"data row6 col4\" >0</td> \n",
       "        <td id=\"T_6ea8c39e_8a54_11e7_8b24_3c15c2ca2e66row6_col5\" class=\"data row6 col5\" >0</td> \n",
       "        <td id=\"T_6ea8c39e_8a54_11e7_8b24_3c15c2ca2e66row6_col6\" class=\"data row6 col6\" >1</td> \n",
       "        <td id=\"T_6ea8c39e_8a54_11e7_8b24_3c15c2ca2e66row6_col7\" class=\"data row6 col7\" >35</td> \n",
       "    </tr>    <tr> \n",
       "        <th id=\"T_6ea8c39e_8a54_11e7_8b24_3c15c2ca2e66\" class=\"row_heading level0 row7\" >totalPrecipMM</th> \n",
       "        <td id=\"T_6ea8c39e_8a54_11e7_8b24_3c15c2ca2e66row7_col0\" class=\"data row7 col0\" >3823</td> \n",
       "        <td id=\"T_6ea8c39e_8a54_11e7_8b24_3c15c2ca2e66row7_col1\" class=\"data row7 col1\" >2.68671</td> \n",
       "        <td id=\"T_6ea8c39e_8a54_11e7_8b24_3c15c2ca2e66row7_col2\" class=\"data row7 col2\" >5.96195</td> \n",
       "        <td id=\"T_6ea8c39e_8a54_11e7_8b24_3c15c2ca2e66row7_col3\" class=\"data row7 col3\" >0</td> \n",
       "        <td id=\"T_6ea8c39e_8a54_11e7_8b24_3c15c2ca2e66row7_col4\" class=\"data row7 col4\" >0</td> \n",
       "        <td id=\"T_6ea8c39e_8a54_11e7_8b24_3c15c2ca2e66row7_col5\" class=\"data row7 col5\" >0</td> \n",
       "        <td id=\"T_6ea8c39e_8a54_11e7_8b24_3c15c2ca2e66row7_col6\" class=\"data row7 col6\" >2.5</td> \n",
       "        <td id=\"T_6ea8c39e_8a54_11e7_8b24_3c15c2ca2e66row7_col7\" class=\"data row7 col7\" >69.7</td> \n",
       "    </tr>    <tr> \n",
       "        <th id=\"T_6ea8c39e_8a54_11e7_8b24_3c15c2ca2e66\" class=\"row_heading level0 row8\" >snowOnGroundCM</th> \n",
       "        <td id=\"T_6ea8c39e_8a54_11e7_8b24_3c15c2ca2e66row8_col0\" class=\"data row8 col0\" >1553</td> \n",
       "        <td id=\"T_6ea8c39e_8a54_11e7_8b24_3c15c2ca2e66row8_col1\" class=\"data row8 col1\" >7.86413</td> \n",
       "        <td id=\"T_6ea8c39e_8a54_11e7_8b24_3c15c2ca2e66row8_col2\" class=\"data row8 col2\" >10.6616</td> \n",
       "        <td id=\"T_6ea8c39e_8a54_11e7_8b24_3c15c2ca2e66row8_col3\" class=\"data row8 col3\" >0</td> \n",
       "        <td id=\"T_6ea8c39e_8a54_11e7_8b24_3c15c2ca2e66row8_col4\" class=\"data row8 col4\" >0</td> \n",
       "        <td id=\"T_6ea8c39e_8a54_11e7_8b24_3c15c2ca2e66row8_col5\" class=\"data row8 col5\" >3</td> \n",
       "        <td id=\"T_6ea8c39e_8a54_11e7_8b24_3c15c2ca2e66row8_col6\" class=\"data row8 col6\" >11</td> \n",
       "        <td id=\"T_6ea8c39e_8a54_11e7_8b24_3c15c2ca2e66row8_col7\" class=\"data row8 col7\" >59</td> \n",
       "    </tr>    <tr> \n",
       "        <th id=\"T_6ea8c39e_8a54_11e7_8b24_3c15c2ca2e66\" class=\"row_heading level0 row9\" >dirOfMaxGust10sDEG</th> \n",
       "        <td id=\"T_6ea8c39e_8a54_11e7_8b24_3c15c2ca2e66row9_col0\" class=\"data row9 col0\" >124</td> \n",
       "        <td id=\"T_6ea8c39e_8a54_11e7_8b24_3c15c2ca2e66row9_col1\" class=\"data row9 col1\" >20.4597</td> \n",
       "        <td id=\"T_6ea8c39e_8a54_11e7_8b24_3c15c2ca2e66row9_col2\" class=\"data row9 col2\" >10.2833</td> \n",
       "        <td id=\"T_6ea8c39e_8a54_11e7_8b24_3c15c2ca2e66row9_col3\" class=\"data row9 col3\" >1</td> \n",
       "        <td id=\"T_6ea8c39e_8a54_11e7_8b24_3c15c2ca2e66row9_col4\" class=\"data row9 col4\" >13</td> \n",
       "        <td id=\"T_6ea8c39e_8a54_11e7_8b24_3c15c2ca2e66row9_col5\" class=\"data row9 col5\" >20</td> \n",
       "        <td id=\"T_6ea8c39e_8a54_11e7_8b24_3c15c2ca2e66row9_col6\" class=\"data row9 col6\" >30</td> \n",
       "        <td id=\"T_6ea8c39e_8a54_11e7_8b24_3c15c2ca2e66row9_col7\" class=\"data row9 col7\" >36</td> \n",
       "    </tr>    <tr> \n",
       "        <th id=\"T_6ea8c39e_8a54_11e7_8b24_3c15c2ca2e66\" class=\"row_heading level0 row10\" >spdOfMaxGustKMH</th> \n",
       "        <td id=\"T_6ea8c39e_8a54_11e7_8b24_3c15c2ca2e66row10_col0\" class=\"data row10 col0\" >1994</td> \n",
       "        <td id=\"T_6ea8c39e_8a54_11e7_8b24_3c15c2ca2e66row10_col1\" class=\"data row10 col1\" >31.829</td> \n",
       "        <td id=\"T_6ea8c39e_8a54_11e7_8b24_3c15c2ca2e66row10_col2\" class=\"data row10 col2\" >4.13475</td> \n",
       "        <td id=\"T_6ea8c39e_8a54_11e7_8b24_3c15c2ca2e66row10_col3\" class=\"data row10 col3\" >31</td> \n",
       "        <td id=\"T_6ea8c39e_8a54_11e7_8b24_3c15c2ca2e66row10_col4\" class=\"data row10 col4\" >31</td> \n",
       "        <td id=\"T_6ea8c39e_8a54_11e7_8b24_3c15c2ca2e66row10_col5\" class=\"data row10 col5\" >31</td> \n",
       "        <td id=\"T_6ea8c39e_8a54_11e7_8b24_3c15c2ca2e66row10_col6\" class=\"data row10 col6\" >31</td> \n",
       "        <td id=\"T_6ea8c39e_8a54_11e7_8b24_3c15c2ca2e66row10_col7\" class=\"data row10 col7\" >96</td> \n",
       "    </tr></tbody> \n",
       "</table> "
      ],
      "text/plain": [
       "<pandas.io.formats.style.Styler at 0x115ad8160>"
      ]
     },
     "execution_count": 278,
     "metadata": {},
     "output_type": "execute_result"
    }
   ],
   "source": [
    "cm = sns.light_palette(\"red\", as_cmap=True)\n",
    "s = df.describe().transpose().style.background_gradient(cmap=cm)\n",
    "s"
   ]
  },
  {
   "cell_type": "markdown",
   "metadata": {
    "hide_input": false,
    "hide_output": false,
    "run_control": {
     "marked": false
    }
   },
   "source": [
    "* Highest observed temperature is 36.7°C\n",
    "* Minimum observed temperature is -30.5°C\n",
    "* Average observed temperature is 8.3°C\n",
    "* All variables except for temperature-related variables are strictly positive\n",
    "* Temperature varries more than precipitation"
   ]
  },
  {
   "cell_type": "markdown",
   "metadata": {
    "hide_input": false,
    "hide_output": false,
    "run_control": {
     "marked": false
    }
   },
   "source": [
    "## 1.3 Missing Data"
   ]
  },
  {
   "cell_type": "markdown",
   "metadata": {
    "hide_input": false,
    "hide_output": false,
    "run_control": {
     "marked": false
    }
   },
   "source": [
    "Measurements from sensors produced at weather station locations are [noisy](http://climate.weather.gc.ca/climate_data/data_quality_e.html) i.e. values may be innacurate or they  may be missing."
   ]
  },
  {
   "cell_type": "markdown",
   "metadata": {
    "hide_input": false,
    "hide_output": false,
    "run_control": {
     "marked": false
    }
   },
   "source": [
    "How many records are missing measurements?"
   ]
  },
  {
   "cell_type": "code",
   "execution_count": 279,
   "metadata": {
    "collapsed": false,
    "deletable": true,
    "hide_input": false,
    "hide_output": false,
    "locked": false,
    "run_control": {
     "marked": false
    }
   },
   "outputs": [
    {
     "data": {
      "text/plain": [
       "maxTemp               1495\n",
       "minTemp               1486\n",
       "meanTemp              1506\n",
       "heatDegDays           1506\n",
       "coolDegDays           1506\n",
       "totalRainMM           5006\n",
       "totalSnowCM           5168\n",
       "totalPrecipMM         2426\n",
       "snowOnGroundCM        4696\n",
       "dirOfMaxGust10sDEG    6125\n",
       "spdOfMaxGustKMH       4255\n",
       "station                  0\n",
       "date                     0\n",
       "dtype: int64"
      ]
     },
     "execution_count": 279,
     "metadata": {},
     "output_type": "execute_result"
    }
   ],
   "source": [
    "df.isnull().sum()"
   ]
  },
  {
   "cell_type": "code",
   "execution_count": 280,
   "metadata": {
    "collapsed": false,
    "deletable": true,
    "hide_input": false,
    "hide_output": false,
    "locked": false,
    "run_control": {
     "marked": false
    }
   },
   "outputs": [
    {
     "data": {
      "text/plain": [
       "maxTemp               0.239238\n",
       "minTemp               0.237798\n",
       "meanTemp              0.240999\n",
       "heatDegDays           0.240999\n",
       "coolDegDays           0.240999\n",
       "totalRainMM           0.801088\n",
       "totalSnowCM           0.827012\n",
       "totalPrecipMM         0.388222\n",
       "snowOnGroundCM        0.751480\n",
       "dirOfMaxGust10sDEG    0.980157\n",
       "spdOfMaxGustKMH       0.680909\n",
       "station               0.000000\n",
       "date                  0.000000\n",
       "dtype: float64"
      ]
     },
     "execution_count": 280,
     "metadata": {},
     "output_type": "execute_result"
    }
   ],
   "source": [
    "df.isnull().sum() / len(df)"
   ]
  },
  {
   "cell_type": "code",
   "execution_count": 281,
   "metadata": {
    "collapsed": false,
    "deletable": true,
    "hide_input": false,
    "hide_output": false,
    "locked": false,
    "run_control": {
     "marked": false
    }
   },
   "outputs": [
    {
     "data": {
      "image/png": "[encoded data removed]",
      "text/plain": [
       "<matplotlib.figure.Figure at 0x115e6f198>"
      ]
     },
     "metadata": {},
     "output_type": "display_data"
    }
   ],
   "source": [
    "_ = sns.heatmap((df.groupby('station').apply(lambda x: pd.isnull(x).sum()) / df.shape[0]).transpose())\n",
    "_.set_title(\"Percent of Missing Data\");\n",
    "_.set_ylabel(\"Measurement\");"
   ]
  },
  {
   "cell_type": "markdown",
   "metadata": {
    "hide_input": false,
    "hide_output": false,
    "run_control": {
     "marked": false
    }
   },
   "source": [
    "* The **London A** is missing precipitation measurements\n",
    "* The **London Airport** station is missing temperature and wind data but has most complete precipitation and rain measurements\n",
    "* The **London CS** is missing significant wind, rain, and snow measurements\n",
    "\n",
    "The only variable with a significant number of missing values accross stations is `dirOfMaxGust10sDEG`.  With a sufficient amount of data available from a combination of the three stations for all other relevant variables, we can summarize the daily measurements using the arithmetic mean of measurements."
   ]
  },
  {
   "cell_type": "markdown",
   "metadata": {
    "hide_input": false,
    "hide_output": false,
    "run_control": {
     "marked": false
    }
   },
   "source": [
    "## 1.4 Daily Observation Data\n",
    "Since we are not ultimately not interested in measurements from individual weather stations (the purpose of this analysis is to analyze precipitation trends in London Ontario as a whole), we can collapse observations from different locations into a single measurement by taking the arithmetic mean of multiple measurements."
   ]
  },
  {
   "cell_type": "code",
   "execution_count": 282,
   "metadata": {
    "collapsed": false,
    "hide_input": false,
    "hide_output": false,
    "locked": false,
    "run_control": {
     "marked": false
    }
   },
   "outputs": [
    {
     "data": {
      "text/html": [
       "<div>\n",
       "<style>\n",
       "    .dataframe thead tr:only-child th {\n",
       "        text-align: right;\n",
       "    }\n",
       "\n",
       "    .dataframe thead th {\n",
       "        text-align: left;\n",
       "    }\n",
       "\n",
       "    .dataframe tbody tr th {\n",
       "        vertical-align: top;\n",
       "    }\n",
       "</style>\n",
       "<table border=\"1\" class=\"dataframe\">\n",
       "  <thead>\n",
       "    <tr style=\"text-align: right;\">\n",
       "      <th></th>\n",
       "      <th>maxTemp</th>\n",
       "      <th>minTemp</th>\n",
       "      <th>meanTemp</th>\n",
       "      <th>heatDegDays</th>\n",
       "      <th>coolDegDays</th>\n",
       "      <th>totalRainMM</th>\n",
       "      <th>totalSnowCM</th>\n",
       "      <th>totalPrecipMM</th>\n",
       "      <th>snowOnGroundCM</th>\n",
       "      <th>dirOfMaxGust10sDEG</th>\n",
       "      <th>spdOfMaxGustKMH</th>\n",
       "    </tr>\n",
       "    <tr>\n",
       "      <th>date</th>\n",
       "      <th></th>\n",
       "      <th></th>\n",
       "      <th></th>\n",
       "      <th></th>\n",
       "      <th></th>\n",
       "      <th></th>\n",
       "      <th></th>\n",
       "      <th></th>\n",
       "      <th></th>\n",
       "      <th></th>\n",
       "      <th></th>\n",
       "    </tr>\n",
       "  </thead>\n",
       "  <tbody>\n",
       "    <tr>\n",
       "      <th>2010-01-01</th>\n",
       "      <td>0.0</td>\n",
       "      <td>-9.2</td>\n",
       "      <td>-4.6</td>\n",
       "      <td>22.6</td>\n",
       "      <td>0.0</td>\n",
       "      <td>0.0</td>\n",
       "      <td>15.0</td>\n",
       "      <td>4.9</td>\n",
       "      <td>0.0</td>\n",
       "      <td>NaN</td>\n",
       "      <td>NaN</td>\n",
       "    </tr>\n",
       "    <tr>\n",
       "      <th>2010-01-02</th>\n",
       "      <td>-9.2</td>\n",
       "      <td>-14.1</td>\n",
       "      <td>-11.7</td>\n",
       "      <td>29.7</td>\n",
       "      <td>0.0</td>\n",
       "      <td>0.0</td>\n",
       "      <td>6.0</td>\n",
       "      <td>4.1</td>\n",
       "      <td>15.0</td>\n",
       "      <td>NaN</td>\n",
       "      <td>NaN</td>\n",
       "    </tr>\n",
       "    <tr>\n",
       "      <th>2010-01-03</th>\n",
       "      <td>-5.6</td>\n",
       "      <td>-12.6</td>\n",
       "      <td>-9.1</td>\n",
       "      <td>27.1</td>\n",
       "      <td>0.0</td>\n",
       "      <td>0.0</td>\n",
       "      <td>1.0</td>\n",
       "      <td>1.1</td>\n",
       "      <td>20.0</td>\n",
       "      <td>NaN</td>\n",
       "      <td>NaN</td>\n",
       "    </tr>\n",
       "    <tr>\n",
       "      <th>2010-01-04</th>\n",
       "      <td>-7.5</td>\n",
       "      <td>-11.2</td>\n",
       "      <td>-9.4</td>\n",
       "      <td>27.4</td>\n",
       "      <td>0.0</td>\n",
       "      <td>0.0</td>\n",
       "      <td>1.0</td>\n",
       "      <td>0.5</td>\n",
       "      <td>14.0</td>\n",
       "      <td>NaN</td>\n",
       "      <td>NaN</td>\n",
       "    </tr>\n",
       "    <tr>\n",
       "      <th>2010-01-05</th>\n",
       "      <td>-3.5</td>\n",
       "      <td>-8.9</td>\n",
       "      <td>-6.2</td>\n",
       "      <td>24.2</td>\n",
       "      <td>0.0</td>\n",
       "      <td>0.0</td>\n",
       "      <td>NaN</td>\n",
       "      <td>0.0</td>\n",
       "      <td>15.0</td>\n",
       "      <td>NaN</td>\n",
       "      <td>NaN</td>\n",
       "    </tr>\n",
       "  </tbody>\n",
       "</table>\n",
       "</div>"
      ],
      "text/plain": [
       "            maxTemp  minTemp  meanTemp  heatDegDays  coolDegDays  totalRainMM  \\\n",
       "date                                                                            \n",
       "2010-01-01      0.0     -9.2      -4.6         22.6          0.0          0.0   \n",
       "2010-01-02     -9.2    -14.1     -11.7         29.7          0.0          0.0   \n",
       "2010-01-03     -5.6    -12.6      -9.1         27.1          0.0          0.0   \n",
       "2010-01-04     -7.5    -11.2      -9.4         27.4          0.0          0.0   \n",
       "2010-01-05     -3.5     -8.9      -6.2         24.2          0.0          0.0   \n",
       "\n",
       "            totalSnowCM  totalPrecipMM  snowOnGroundCM  dirOfMaxGust10sDEG  \\\n",
       "date                                                                         \n",
       "2010-01-01         15.0            4.9             0.0                 NaN   \n",
       "2010-01-02          6.0            4.1            15.0                 NaN   \n",
       "2010-01-03          1.0            1.1            20.0                 NaN   \n",
       "2010-01-04          1.0            0.5            14.0                 NaN   \n",
       "2010-01-05          NaN            0.0            15.0                 NaN   \n",
       "\n",
       "            spdOfMaxGustKMH  \n",
       "date                         \n",
       "2010-01-01              NaN  \n",
       "2010-01-02              NaN  \n",
       "2010-01-03              NaN  \n",
       "2010-01-04              NaN  \n",
       "2010-01-05              NaN  "
      ]
     },
     "execution_count": 282,
     "metadata": {},
     "output_type": "execute_result"
    }
   ],
   "source": [
    "daily_df = df.set_index('date').resample('1D').mean()\n",
    "daily_df.head()"
   ]
  },
  {
   "cell_type": "code",
   "execution_count": 283,
   "metadata": {
    "collapsed": false,
    "scrolled": true
   },
   "outputs": [
    {
     "name": "stdout",
     "output_type": "stream",
     "text": [
      "2010-01-01 00:00:00 to 2017-08-25 00:00:00\n"
     ]
    }
   ],
   "source": [
    "print(\"{} to {}\".format(daily_df.index.min(), daily_df.index.max()))"
   ]
  },
  {
   "cell_type": "markdown",
   "metadata": {},
   "source": [
    "### Seasons\n",
    "Adding a seasonal indicator will allow us to visualize seasonal weather effects (if any).  Seasonal bounds for the Northern hemisphere are used to label each observation below\n",
    "> [...] for temperate areas in the northern hemisphere, spring begins on 1 March, summer on 1 June, autumn on 1 September, and winter on 1 December. - [Wikipedia](https://en.wikipedia.org/wiki/Season#Meteorological)."
   ]
  },
  {
   "cell_type": "code",
   "execution_count": 284,
   "metadata": {
    "collapsed": true
   },
   "outputs": [],
   "source": [
    "# Seasons\n",
    "def season(date):\n",
    "  if date.month == 12 or date.month < 3:\n",
    "    # December - Feb\n",
    "    return 'winter'\n",
    "  elif date.month >= 3 and date.month < 6:\n",
    "    # March - June\n",
    "    return 'spring'\n",
    "  elif date.month >= 6 and date.month < 9:\n",
    "    # June - Sept\n",
    "    return 'summer'\n",
    "  else:\n",
    "    # Sept - Nov\n",
    "    return 'fall'"
   ]
  },
  {
   "cell_type": "code",
   "execution_count": 285,
   "metadata": {
    "collapsed": false
   },
   "outputs": [],
   "source": [
    "daily_df['season'] = pd.Series(daily_df.index).apply(season).values"
   ]
  },
  {
   "cell_type": "markdown",
   "metadata": {},
   "source": [
    "### Dates\n",
    "Add date components as separate columns so we can aggregate the data more easily"
   ]
  },
  {
   "cell_type": "code",
   "execution_count": 286,
   "metadata": {
    "collapsed": false
   },
   "outputs": [
    {
     "data": {
      "text/html": [
       "<div>\n",
       "<style>\n",
       "    .dataframe thead tr:only-child th {\n",
       "        text-align: right;\n",
       "    }\n",
       "\n",
       "    .dataframe thead th {\n",
       "        text-align: left;\n",
       "    }\n",
       "\n",
       "    .dataframe tbody tr th {\n",
       "        vertical-align: top;\n",
       "    }\n",
       "</style>\n",
       "<table border=\"1\" class=\"dataframe\">\n",
       "  <thead>\n",
       "    <tr style=\"text-align: right;\">\n",
       "      <th></th>\n",
       "      <th>maxTemp</th>\n",
       "      <th>minTemp</th>\n",
       "      <th>meanTemp</th>\n",
       "      <th>heatDegDays</th>\n",
       "      <th>coolDegDays</th>\n",
       "      <th>totalRainMM</th>\n",
       "      <th>totalSnowCM</th>\n",
       "      <th>totalPrecipMM</th>\n",
       "      <th>snowOnGroundCM</th>\n",
       "      <th>dirOfMaxGust10sDEG</th>\n",
       "      <th>spdOfMaxGustKMH</th>\n",
       "      <th>season</th>\n",
       "      <th>year</th>\n",
       "      <th>month</th>\n",
       "    </tr>\n",
       "    <tr>\n",
       "      <th>date</th>\n",
       "      <th></th>\n",
       "      <th></th>\n",
       "      <th></th>\n",
       "      <th></th>\n",
       "      <th></th>\n",
       "      <th></th>\n",
       "      <th></th>\n",
       "      <th></th>\n",
       "      <th></th>\n",
       "      <th></th>\n",
       "      <th></th>\n",
       "      <th></th>\n",
       "      <th></th>\n",
       "      <th></th>\n",
       "    </tr>\n",
       "  </thead>\n",
       "  <tbody>\n",
       "    <tr>\n",
       "      <th>2010-01-01</th>\n",
       "      <td>0.0</td>\n",
       "      <td>-9.2</td>\n",
       "      <td>-4.6</td>\n",
       "      <td>22.6</td>\n",
       "      <td>0.0</td>\n",
       "      <td>0.0</td>\n",
       "      <td>15.0</td>\n",
       "      <td>4.9</td>\n",
       "      <td>0.0</td>\n",
       "      <td>NaN</td>\n",
       "      <td>NaN</td>\n",
       "      <td>winter</td>\n",
       "      <td>2010</td>\n",
       "      <td>1</td>\n",
       "    </tr>\n",
       "    <tr>\n",
       "      <th>2010-01-02</th>\n",
       "      <td>-9.2</td>\n",
       "      <td>-14.1</td>\n",
       "      <td>-11.7</td>\n",
       "      <td>29.7</td>\n",
       "      <td>0.0</td>\n",
       "      <td>0.0</td>\n",
       "      <td>6.0</td>\n",
       "      <td>4.1</td>\n",
       "      <td>15.0</td>\n",
       "      <td>NaN</td>\n",
       "      <td>NaN</td>\n",
       "      <td>winter</td>\n",
       "      <td>2010</td>\n",
       "      <td>1</td>\n",
       "    </tr>\n",
       "    <tr>\n",
       "      <th>2010-01-03</th>\n",
       "      <td>-5.6</td>\n",
       "      <td>-12.6</td>\n",
       "      <td>-9.1</td>\n",
       "      <td>27.1</td>\n",
       "      <td>0.0</td>\n",
       "      <td>0.0</td>\n",
       "      <td>1.0</td>\n",
       "      <td>1.1</td>\n",
       "      <td>20.0</td>\n",
       "      <td>NaN</td>\n",
       "      <td>NaN</td>\n",
       "      <td>winter</td>\n",
       "      <td>2010</td>\n",
       "      <td>1</td>\n",
       "    </tr>\n",
       "    <tr>\n",
       "      <th>2010-01-04</th>\n",
       "      <td>-7.5</td>\n",
       "      <td>-11.2</td>\n",
       "      <td>-9.4</td>\n",
       "      <td>27.4</td>\n",
       "      <td>0.0</td>\n",
       "      <td>0.0</td>\n",
       "      <td>1.0</td>\n",
       "      <td>0.5</td>\n",
       "      <td>14.0</td>\n",
       "      <td>NaN</td>\n",
       "      <td>NaN</td>\n",
       "      <td>winter</td>\n",
       "      <td>2010</td>\n",
       "      <td>1</td>\n",
       "    </tr>\n",
       "    <tr>\n",
       "      <th>2010-01-05</th>\n",
       "      <td>-3.5</td>\n",
       "      <td>-8.9</td>\n",
       "      <td>-6.2</td>\n",
       "      <td>24.2</td>\n",
       "      <td>0.0</td>\n",
       "      <td>0.0</td>\n",
       "      <td>NaN</td>\n",
       "      <td>0.0</td>\n",
       "      <td>15.0</td>\n",
       "      <td>NaN</td>\n",
       "      <td>NaN</td>\n",
       "      <td>winter</td>\n",
       "      <td>2010</td>\n",
       "      <td>1</td>\n",
       "    </tr>\n",
       "  </tbody>\n",
       "</table>\n",
       "</div>"
      ],
      "text/plain": [
       "            maxTemp  minTemp  meanTemp  heatDegDays  coolDegDays  totalRainMM  \\\n",
       "date                                                                            \n",
       "2010-01-01      0.0     -9.2      -4.6         22.6          0.0          0.0   \n",
       "2010-01-02     -9.2    -14.1     -11.7         29.7          0.0          0.0   \n",
       "2010-01-03     -5.6    -12.6      -9.1         27.1          0.0          0.0   \n",
       "2010-01-04     -7.5    -11.2      -9.4         27.4          0.0          0.0   \n",
       "2010-01-05     -3.5     -8.9      -6.2         24.2          0.0          0.0   \n",
       "\n",
       "            totalSnowCM  totalPrecipMM  snowOnGroundCM  dirOfMaxGust10sDEG  \\\n",
       "date                                                                         \n",
       "2010-01-01         15.0            4.9             0.0                 NaN   \n",
       "2010-01-02          6.0            4.1            15.0                 NaN   \n",
       "2010-01-03          1.0            1.1            20.0                 NaN   \n",
       "2010-01-04          1.0            0.5            14.0                 NaN   \n",
       "2010-01-05          NaN            0.0            15.0                 NaN   \n",
       "\n",
       "            spdOfMaxGustKMH  season  year  month  \n",
       "date                                              \n",
       "2010-01-01              NaN  winter  2010      1  \n",
       "2010-01-02              NaN  winter  2010      1  \n",
       "2010-01-03              NaN  winter  2010      1  \n",
       "2010-01-04              NaN  winter  2010      1  \n",
       "2010-01-05              NaN  winter  2010      1  "
      ]
     },
     "execution_count": 286,
     "metadata": {},
     "output_type": "execute_result"
    }
   ],
   "source": [
    "daily_df['year'] = pd.Series(daily_df.index).apply(lambda x: x.year).values\n",
    "daily_df['month'] = pd.Series(daily_df.index).apply(lambda x: x.month).values\n",
    "daily_df.head()"
   ]
  },
  {
   "cell_type": "markdown",
   "metadata": {},
   "source": [
    "Save the data to CSV"
   ]
  },
  {
   "cell_type": "code",
   "execution_count": 287,
   "metadata": {
    "collapsed": false,
    "hide_input": false,
    "hide_output": false,
    "run_control": {
     "marked": false
    }
   },
   "outputs": [
    {
     "name": "stdout",
     "output_type": "stream",
     "text": [
      "../data/notebook1_weather_by_day_2017-08-25 00:00:00.csv\n",
      "<class 'pandas.core.frame.DataFrame'>\n",
      "RangeIndex: 2794 entries, 0 to 2793\n",
      "Data columns (total 15 columns):\n",
      "date                  2794 non-null object\n",
      "maxTemp               2792 non-null float64\n",
      "minTemp               2793 non-null float64\n",
      "meanTemp              2792 non-null float64\n",
      "heatDegDays           2792 non-null float64\n",
      "coolDegDays           2792 non-null float64\n",
      "totalRainMM           1208 non-null float64\n",
      "totalSnowCM           1081 non-null float64\n",
      "totalPrecipMM         2754 non-null float64\n",
      "snowOnGroundCM        1201 non-null float64\n",
      "dirOfMaxGust10sDEG    124 non-null float64\n",
      "spdOfMaxGustKMH       1987 non-null float64\n",
      "season                2794 non-null object\n",
      "year                  2794 non-null int64\n",
      "month                 2794 non-null int64\n",
      "dtypes: float64(11), int64(2), object(2)\n",
      "memory usage: 327.5+ KB\n",
      "None\n"
     ]
    },
    {
     "data": {
      "text/html": [
       "<div>\n",
       "<style>\n",
       "    .dataframe thead tr:only-child th {\n",
       "        text-align: right;\n",
       "    }\n",
       "\n",
       "    .dataframe thead th {\n",
       "        text-align: left;\n",
       "    }\n",
       "\n",
       "    .dataframe tbody tr th {\n",
       "        vertical-align: top;\n",
       "    }\n",
       "</style>\n",
       "<table border=\"1\" class=\"dataframe\">\n",
       "  <thead>\n",
       "    <tr style=\"text-align: right;\">\n",
       "      <th></th>\n",
       "      <th>date</th>\n",
       "      <th>maxTemp</th>\n",
       "      <th>minTemp</th>\n",
       "      <th>meanTemp</th>\n",
       "      <th>heatDegDays</th>\n",
       "      <th>coolDegDays</th>\n",
       "      <th>totalRainMM</th>\n",
       "      <th>totalSnowCM</th>\n",
       "      <th>totalPrecipMM</th>\n",
       "      <th>snowOnGroundCM</th>\n",
       "      <th>dirOfMaxGust10sDEG</th>\n",
       "      <th>spdOfMaxGustKMH</th>\n",
       "      <th>season</th>\n",
       "      <th>year</th>\n",
       "      <th>month</th>\n",
       "    </tr>\n",
       "  </thead>\n",
       "  <tbody>\n",
       "    <tr>\n",
       "      <th>0</th>\n",
       "      <td>2010-01-01</td>\n",
       "      <td>0.0</td>\n",
       "      <td>-9.2</td>\n",
       "      <td>-4.6</td>\n",
       "      <td>22.6</td>\n",
       "      <td>0.0</td>\n",
       "      <td>0.0</td>\n",
       "      <td>15.0</td>\n",
       "      <td>4.9</td>\n",
       "      <td>0.0</td>\n",
       "      <td>NaN</td>\n",
       "      <td>NaN</td>\n",
       "      <td>winter</td>\n",
       "      <td>2010</td>\n",
       "      <td>1</td>\n",
       "    </tr>\n",
       "    <tr>\n",
       "      <th>1</th>\n",
       "      <td>2010-01-02</td>\n",
       "      <td>-9.2</td>\n",
       "      <td>-14.1</td>\n",
       "      <td>-11.7</td>\n",
       "      <td>29.7</td>\n",
       "      <td>0.0</td>\n",
       "      <td>0.0</td>\n",
       "      <td>6.0</td>\n",
       "      <td>4.1</td>\n",
       "      <td>15.0</td>\n",
       "      <td>NaN</td>\n",
       "      <td>NaN</td>\n",
       "      <td>winter</td>\n",
       "      <td>2010</td>\n",
       "      <td>1</td>\n",
       "    </tr>\n",
       "    <tr>\n",
       "      <th>2</th>\n",
       "      <td>2010-01-03</td>\n",
       "      <td>-5.6</td>\n",
       "      <td>-12.6</td>\n",
       "      <td>-9.1</td>\n",
       "      <td>27.1</td>\n",
       "      <td>0.0</td>\n",
       "      <td>0.0</td>\n",
       "      <td>1.0</td>\n",
       "      <td>1.1</td>\n",
       "      <td>20.0</td>\n",
       "      <td>NaN</td>\n",
       "      <td>NaN</td>\n",
       "      <td>winter</td>\n",
       "      <td>2010</td>\n",
       "      <td>1</td>\n",
       "    </tr>\n",
       "    <tr>\n",
       "      <th>3</th>\n",
       "      <td>2010-01-04</td>\n",
       "      <td>-7.5</td>\n",
       "      <td>-11.2</td>\n",
       "      <td>-9.4</td>\n",
       "      <td>27.4</td>\n",
       "      <td>0.0</td>\n",
       "      <td>0.0</td>\n",
       "      <td>1.0</td>\n",
       "      <td>0.5</td>\n",
       "      <td>14.0</td>\n",
       "      <td>NaN</td>\n",
       "      <td>NaN</td>\n",
       "      <td>winter</td>\n",
       "      <td>2010</td>\n",
       "      <td>1</td>\n",
       "    </tr>\n",
       "    <tr>\n",
       "      <th>4</th>\n",
       "      <td>2010-01-05</td>\n",
       "      <td>-3.5</td>\n",
       "      <td>-8.9</td>\n",
       "      <td>-6.2</td>\n",
       "      <td>24.2</td>\n",
       "      <td>0.0</td>\n",
       "      <td>0.0</td>\n",
       "      <td>NaN</td>\n",
       "      <td>0.0</td>\n",
       "      <td>15.0</td>\n",
       "      <td>NaN</td>\n",
       "      <td>NaN</td>\n",
       "      <td>winter</td>\n",
       "      <td>2010</td>\n",
       "      <td>1</td>\n",
       "    </tr>\n",
       "  </tbody>\n",
       "</table>\n",
       "</div>"
      ],
      "text/plain": [
       "         date  maxTemp  minTemp  meanTemp  heatDegDays  coolDegDays  \\\n",
       "0  2010-01-01      0.0     -9.2      -4.6         22.6          0.0   \n",
       "1  2010-01-02     -9.2    -14.1     -11.7         29.7          0.0   \n",
       "2  2010-01-03     -5.6    -12.6      -9.1         27.1          0.0   \n",
       "3  2010-01-04     -7.5    -11.2      -9.4         27.4          0.0   \n",
       "4  2010-01-05     -3.5     -8.9      -6.2         24.2          0.0   \n",
       "\n",
       "   totalRainMM  totalSnowCM  totalPrecipMM  snowOnGroundCM  \\\n",
       "0          0.0         15.0            4.9             0.0   \n",
       "1          0.0          6.0            4.1            15.0   \n",
       "2          0.0          1.0            1.1            20.0   \n",
       "3          0.0          1.0            0.5            14.0   \n",
       "4          0.0          NaN            0.0            15.0   \n",
       "\n",
       "   dirOfMaxGust10sDEG  spdOfMaxGustKMH  season  year  month  \n",
       "0                 NaN              NaN  winter  2010      1  \n",
       "1                 NaN              NaN  winter  2010      1  \n",
       "2                 NaN              NaN  winter  2010      1  \n",
       "3                 NaN              NaN  winter  2010      1  \n",
       "4                 NaN              NaN  winter  2010      1  "
      ]
     },
     "execution_count": 287,
     "metadata": {},
     "output_type": "execute_result"
    }
   ],
   "source": [
    "csv_name = \"../data/notebook1_weather_by_day_{}.csv\".format(daily_df.index.max())\n",
    "daily_df.to_csv(csv_name, index=True)\n",
    "daily_df = pd.read_csv(csv_name, date_parser=['date'])\n",
    "print(csv_name)\n",
    "print(daily_df.info())\n",
    "daily_df.head()"
   ]
  }
 ],
 "metadata": {
  "anaconda-cloud": {},
  "kernelspec": {
   "display_name": "Python [conda env:py35-ds]",
   "language": "python",
   "name": "conda-env-py35-ds-py"
  },
  "language_info": {
   "codemirror_mode": {
    "name": "ipython",
    "version": 3
   },
   "file_extension": ".py",
   "mimetype": "text/x-python",
   "name": "python",
   "nbconvert_exporter": "python",
   "pygments_lexer": "ipython3",
   "version": "3.5.2"
  }
 },
 "nbformat": 4,
 "nbformat_minor": 1
}
